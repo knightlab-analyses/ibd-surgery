{
 "cells": [
  {
   "cell_type": "markdown",
   "metadata": {},
   "source": [
    "# Differential  analysis between surgery/non-surgery group using Ancom\n",
    "Since Skbio is only available in python3, this is a separate notebook"
   ]
  },
  {
   "cell_type": "code",
   "execution_count": 1,
   "metadata": {},
   "outputs": [],
   "source": [
    "from skbio.stats.composition import ancom\n",
    "import pandas as pd \n",
    "import scipy"
   ]
  },
  {
   "cell_type": "markdown",
   "metadata": {},
   "source": [
    "## Test differential abundance of species between two groups: surgery, non-sergery"
   ]
  },
  {
   "cell_type": "code",
   "execution_count": 2,
   "metadata": {},
   "outputs": [],
   "source": [
    "#first load species abundance and metadata \n",
    "df_meta=pd.read_csv('./data/metadata_updated_filtered_201909.csv',index_col=0)\n",
    "dic_surgery=dict(zip(df_meta.index,df_meta.surgery_type))\n",
    "df_species=pd.read_csv('./data/metaphlan2_species_level_abundance_classified.csv',index_col=0,header=0)\n",
    "\n",
    "#replace 0 entry in species abundance with a small number \n",
    "df_species=df_species.replace(to_replace=0,value=0.00000000001)\n",
    "df_species=df_species.T\n"
   ]
  },
  {
   "cell_type": "code",
   "execution_count": 3,
   "metadata": {},
   "outputs": [],
   "source": [
    "#seprate samples into surgery and non-surgery groups\n",
    "label_2group=[]\n",
    "for i in df_species.index: \n",
    "    if dic_surgery[i]=='none': \n",
    "        label_2group.append(0)\n",
    "    else: \n",
    "        label_2group.append(1)\n",
    "label_2group\n",
    "\n",
    "#run ancom test \n",
    "grouping = pd.Series(label_2group,index=df_species.index)\n",
    "results_2group = ancom(df_species, grouping,multiple_comparisons_correction='holm-bonferroni',significance_test=scipy.stats.mannwhitneyu)\n",
    "\n",
    "#filter for the top10 significant features\n",
    "df_2group=results_2group[0][results_2group[0]['Reject null hypothesis']==True].sort_values(by='W',ascending=False)\n"
   ]
  },
  {
   "cell_type": "markdown",
   "metadata": {},
   "source": [
    "### Perform center log-ratio transformations on the top 10 species "
   ]
  },
  {
   "cell_type": "code",
   "execution_count": 4,
   "metadata": {
    "scrolled": true
   },
   "outputs": [],
   "source": [
    "from skbio.stats.composition import clr\n",
    "\n",
    "#extract the species abundance of the top10 species \n",
    "df_top10=df_species[df_2group.index[0:10]]\n",
    "df_top10_clr=pd.DataFrame(data=clr(df_top10),index=df_top10.index,columns=df_top10.columns)\n",
    "#df_top10_clr.to_csv('./data/top10_differentiating_species_clr.csv')"
   ]
  },
  {
   "cell_type": "markdown",
   "metadata": {},
   "source": [
    "## Test differential abundance of functions between two groups: surgery, non-sergery"
   ]
  },
  {
   "cell_type": "code",
   "execution_count": 5,
   "metadata": {},
   "outputs": [
    {
     "name": "stdout",
     "output_type": "stream",
     "text": [
      "(483, 300)\n"
     ]
    }
   ],
   "source": [
    "#first load pathway abundance and metadata \n",
    "df_pathway=pd.read_csv('./data/Filtered_normalized_cpm_pathways_new_unstratified.csv',index_col=0)\n",
    "print (df_pathway.shape)\n",
    "df_pathway=df_pathway.T\n",
    "df_pathway=df_pathway.fillna(value=0)\n",
    "\n",
    "#replace 0 entry in pathway abundance with a small number \n",
    "df_pathway=df_pathway.replace(to_replace=0,value=0.00000000001)"
   ]
  },
  {
   "cell_type": "code",
   "execution_count": 6,
   "metadata": {},
   "outputs": [
    {
     "name": "stderr",
     "output_type": "stream",
     "text": [
      "/usr/local/lib/python3.4/dist-packages/scipy-1.1.0rc1-py3.4-linux-x86_64.egg/scipy/stats/stats.py:2933: RuntimeWarning: invalid value encountered in double_scalars\n",
      "  f = msb / msw\n"
     ]
    }
   ],
   "source": [
    "#us the one way f-test \n",
    "label_2group_pw=[]\n",
    "for i in df_pathway.index: \n",
    "    if dic_surgery[i]=='none': \n",
    "        label_2group_pw.append(0)\n",
    "    else: \n",
    "        label_2group_pw.append(1)\n",
    "label_2group_pw\n",
    "\n",
    "#run ancom\n",
    "grouping_pw = pd.Series(label_2group_pw,index=df_pathway.index)\n",
    "results_2group_pw = ancom(df_pathway, grouping_pw,multiple_comparisons_correction='holm-bonferroni')\n",
    "\n",
    "#filter for the top10 significant features\n",
    "df_2group_pw=results_2group_pw[0][results_2group_pw[0]['Reject null hypothesis']==True].sort_values(by='W',ascending=False)\n"
   ]
  },
  {
   "cell_type": "markdown",
   "metadata": {},
   "source": [
    "### Perform center log-ratio transformations on the top 10 species "
   ]
  },
  {
   "cell_type": "code",
   "execution_count": 7,
   "metadata": {},
   "outputs": [],
   "source": [
    "from skbio.stats.composition import clr\n",
    "\n",
    "#extract the species abundance of the top10 pathways \n",
    "df_top10_pw=df_pathway[df_2group_pw.index[0:10]]\n",
    "df_top10_clr_pw=pd.DataFrame(data=clr(df_top10_pw),index=df_top10_pw.index,columns=df_top10_pw.columns)\n",
    "#df_top10_clr_pw.to_csv('./data/top10_differentiating_pathway_clr.csv')"
   ]
  }
 ],
 "metadata": {
  "kernelspec": {
   "display_name": "Python 3",
   "language": "python",
   "name": "python3"
  },
  "language_info": {
   "codemirror_mode": {
    "name": "ipython",
    "version": 3
   },
   "file_extension": ".py",
   "mimetype": "text/x-python",
   "name": "python",
   "nbconvert_exporter": "python",
   "pygments_lexer": "ipython3",
   "version": "3.4.3"
  }
 },
 "nbformat": 4,
 "nbformat_minor": 2
}
