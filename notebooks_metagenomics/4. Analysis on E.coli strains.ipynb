{
 "cells": [
  {
   "cell_type": "markdown",
   "metadata": {},
   "source": [
    "# Analysis on E. coli strians"
   ]
  },
  {
   "cell_type": "code",
   "execution_count": 2,
   "metadata": {},
   "outputs": [],
   "source": [
    "import cobra\n",
    "import pandas as pd\n",
    "import seaborn as sns\n",
    "from matplotlib import colors\n",
    "import matplotlib.pyplot as plt\n",
    "import numpy as np\n",
    "import scipy\n",
    "import os \n",
    "%matplotlib inline\n",
    "import matplotlib\n",
    "matplotlib.rcParams['pdf.fonttype'] = 42\n",
    "matplotlib.rcParams['ps.fonttype'] = 42"
   ]
  },
  {
   "cell_type": "code",
   "execution_count": 3,
   "metadata": {},
   "outputs": [
    {
     "name": "stdout",
     "output_type": "stream",
     "text": [
      "number of total samples:  300\n",
      "number of samples with e.coli greater than 5%:  [145]\n"
     ]
    }
   ],
   "source": [
    "## import the dataframe at species level\n",
    "df_species=pd.read_csv('./data/metaphlan2_species_level_abundance_classified.csv',index_col=0)\n",
    "df_ecoli=pd.DataFrame(data=df_species.T['k__Bacteria|p__Proteobacteria|c__Gammaproteobacteria|o__Enterobacteriales|f__Enterobacteriaceae|g__Escherichia|s__Escherichia_coli']) \n",
    "df_ecoli=df_ecoli.drop('PLCL19621_1')\n",
    "#check E.coli abundance  \n",
    "print 'number of total samples: ', len(df_ecoli)\n",
    "print 'number of samples with e.coli greater than 5%: ', sum(i > 1 for i in df_ecoli.values)\n",
    "\n",
    "## load metadata \n",
    "df_meta=pd.read_csv('./data/metadata_updated_filtered_201909.csv',index_col=0)\n",
    "dic_surgery=dict(zip(df_meta.index,df_meta.surgery_type))\n",
    "dic_surgeryByHost=dict(zip(df_meta.host_id,df_meta.surgery_type))\n",
    "dic_host=dict(zip(df_meta.index,df_meta.host_id))\n",
    "dic_time=dict(zip(df_meta.index,df_meta.time_point_month))"
   ]
  },
  {
   "cell_type": "markdown",
   "metadata": {},
   "source": [
    "### Compare the E. coli abundance across subgroups "
   ]
  },
  {
   "cell_type": "code",
   "execution_count": 4,
   "metadata": {},
   "outputs": [],
   "source": [
    "# add a column to label the surgery subtype\n",
    "\n",
    "# flatten the dataframe for plotting purpose\n",
    "surgery_label=[]\n",
    "for i in df_ecoli.index: \n",
    "    if dic_surgery[i]=='none': \n",
    "        surgery_label.append('No surgery')\n",
    "    elif dic_surgery[i]=='colectomy' or dic_surgery[i]=='colectomy with ileorectal' or dic_surgery[i]=='colectomy with ileostomy': \n",
    "        surgery_label.append('Colectomy')\n",
    "    else: \n",
    "        surgery_label.append('Ileocolonic')\n",
    "df_ecoli['surgery']=surgery_label\n",
    "df_ecoli=df_ecoli.reset_index()"
   ]
  },
  {
   "cell_type": "code",
   "execution_count": 5,
   "metadata": {},
   "outputs": [
    {
     "data": {
      "text/plain": [
       "Text(0,0.5,'Relative abundance of E.coli (%)')"
      ]
     },
     "execution_count": 5,
     "metadata": {},
     "output_type": "execute_result"
    },
    {
     "data": {
      "image/png": "[encoded data removed]",
      "text/plain": [
       "<Figure size 576x432 with 1 Axes>"
      ]
     },
     "metadata": {},
     "output_type": "display_data"
    }
   ],
   "source": [
    "import seaborn as sns \n",
    "\n",
    "## add the surgery label to the flattened dataframe \n",
    "fig, ax = plt.subplots(figsize=(8,6))\n",
    "ax = sns.boxplot(y=\"k__Bacteria|p__Proteobacteria|c__Gammaproteobacteria|o__Enterobacteriales|f__Enterobacteriaceae|g__Escherichia|s__Escherichia_coli\", x=\"surgery\",data=df_ecoli,palette=['#66c2a5','#fc8d62','#8da0cb'],\n",
    "                 width=0.3,order=[\"No surgery\", \"Ileocolonic\", \"Colectomy\"])\n",
    "plt.ylabel('Relative abundance of E.coli (%)')\n",
    "#fig.savefig('../data/Sandborn_data/figures/E.coli abundance in subgroups.svg')\n",
    "#fig.savefig('../data/Sandborn_data/figures/E.coli abundance in subgroups.pdf')"
   ]
  },
  {
   "cell_type": "markdown",
   "metadata": {},
   "source": [
    "### Plot by surgery and disease subtypes"
   ]
  },
  {
   "cell_type": "code",
   "execution_count": 6,
   "metadata": {},
   "outputs": [
    {
     "name": "stdout",
     "output_type": "stream",
     "text": [
      "(300, 86)\n",
      "('UC: ', 135)\n",
      "('UC_no_surgrey: ', 108)\n",
      "('UC_colectomy_pouch: ', 2)\n",
      "('UC_colectomy_devCD: ', 15)\n",
      "('UC_colectomy_pouchitis: ', 10)\n",
      "('CD: ', 165)\n",
      "('CD_no_surgrey: ', 97)\n",
      "('CD colectomy with end leostomy: ', 10)\n",
      "('CD_ileocolonic: ', 49)\n",
      "('CD colectomy with ileorectal anastomosis: ', 9)\n"
     ]
    }
   ],
   "source": [
    "#define subgroups in UC\n",
    "## missing 5 samples with colectomy+left_sided in all samples \n",
    "df_ecoli=df_ecoli.set_index('index')\n",
    "df_ecoli=df_ecoli['k__Bacteria|p__Proteobacteria|c__Gammaproteobacteria|o__Enterobacteriales|f__Enterobacteriaceae|g__Escherichia|s__Escherichia_coli']\n",
    "df_meta=df_meta.loc[df_ecoli.index]\n",
    "print (df_meta.shape)\n",
    "# Define subgroups in UC \n",
    "df_uc=df_meta[df_meta.category1=='uc']\n",
    "print ('UC: ', len(df_uc))\n",
    "df_uc_nosurgery=df_uc[df_uc.category2=='Control']\n",
    "print ('UC_no_surgrey: ', len(df_uc_nosurgery))\n",
    "df_uc_colec_normal=df_uc[df_uc.category3=='Subsequent normal pouch']\n",
    "print ('UC_colectomy_pouch: ', len(df_uc_colec_normal))\n",
    "df_uc_colec_cd=df_uc[df_uc.category3=='Subsequent dev of CD']\n",
    "print ('UC_colectomy_devCD: ', len(df_uc_colec_cd))\n",
    "df_uc_colec_pouchitis=df_uc[df_uc.category3=='Pouchitis']\n",
    "print ('UC_colectomy_pouchitis: ', len(df_uc_colec_pouchitis))\n",
    "\n",
    "# Define subgroups in CD\n",
    "df_cd=df_meta[df_meta.category1=='cd']\n",
    "print ('CD: ', len(df_cd))\n",
    "df_cd_nosurgery=df_cd[df_cd.category2=='Control']\n",
    "print ('CD_no_surgrey: ', len(df_cd_nosurgery))\n",
    "df_cd_end=df_cd[df_cd.category2=='End ileostomy']\n",
    "print ('CD colectomy with end leostomy: ', len(df_cd_end))\n",
    "df_cd_ileocolonic=df_cd[df_cd.category2=='Ileocolonic resection']\n",
    "print ('CD_ileocolonic: ', len(df_cd_ileocolonic))\n",
    "df_cd_col_ileorectal=df_cd[df_cd.category2=='Ileorectal anastomosis']\n",
    "print ('CD colectomy with ileorectal anastomosis: ', len(df_cd_col_ileorectal))\n",
    "\n",
    "\n",
    "## extract the alpha diversity \n",
    "\n",
    "ecoli_uc_colec_normal=df_ecoli.loc[df_uc_colec_normal.index]\n",
    "ecoli_uc_colec_pouchitis=df_ecoli.loc[df_uc_colec_pouchitis.index]\n",
    "ecoli_uc_no=df_ecoli.loc[df_uc_nosurgery.index]\n",
    "ecoli_uc_CD_pouch=df_ecoli.loc[df_uc_colec_cd.index]\n",
    "\n",
    "ecoli_cd_ileocolonic=df_ecoli.loc[df_cd_ileocolonic.index]\n",
    "ecoli_cd_ileostomy=df_ecoli.loc[df_cd_end.index]\n",
    "ecoli_cd_nosurgery=df_ecoli.loc[df_cd_nosurgery.index]\n",
    "ecoli_cd_ileorectal=df_ecoli.loc[df_cd_col_ileorectal.index]"
   ]
  },
  {
   "cell_type": "code",
   "execution_count": 8,
   "metadata": {},
   "outputs": [
    {
     "name": "stdout",
     "output_type": "stream",
     "text": [
      "KruskalResult(statistic=7.467866409727842, pvalue=0.02389865244081126)\n"
     ]
    },
    {
     "data": {
      "image/png": "[encoded data removed]",
      "text/plain": [
       "<Figure size 576x360 with 1 Axes>"
      ]
     },
     "metadata": {},
     "output_type": "display_data"
    }
   ],
   "source": [
    "## plot faith alpha diversity for these  different groups \n",
    "\n",
    "import matplotlib\n",
    "from matplotlib import pyplot as plt \n",
    "\n",
    "data_to_plot=[ecoli_cd_nosurgery,ecoli_cd_ileocolonic,ecoli_cd_ileorectal,ecoli_cd_ileostomy]\n",
    "\n",
    "matplotlib.rcParams.update({'font.size': 12})\n",
    "fig = plt.figure(1, figsize=(8,5))\n",
    "ax = fig.add_subplot(111)\n",
    "bp1=ax.boxplot(data_to_plot,positions=np.linspace(1, 5.5, num=4), patch_artist=True,widths=0.5) \n",
    "\n",
    "# fill with colors\n",
    "for patch in bp1['boxes']:\n",
    "    patch.set(color='orange')    \n",
    "\n",
    "ax.set_xticklabels(['CD no surgery','CD ileocolonic','CD ileorectal anastomosis','CD end ileostomy'])\n",
    "                    \n",
    "ax.set_ylabel('Relative abundance of E.coli')\n",
    "ax.set_xlim(0.5,6)\n",
    "plt.xticks(rotation=20)\n",
    "\n",
    "\n",
    "from scipy.stats import kruskal\n",
    "print (kruskal(ecoli_cd_ileocolonic,ecoli_cd_ileorectal,ecoli_cd_ileostomy))\n",
    "fig.savefig('../../../data/Sandborn_data/figures/figureS3A.svg')"
   ]
  },
  {
   "cell_type": "code",
   "execution_count": 9,
   "metadata": {},
   "outputs": [
    {
     "name": "stdout",
     "output_type": "stream",
     "text": [
      "KruskalResult(statistic=2.2366615776081336, pvalue=0.32682487931340215)\n"
     ]
    },
    {
     "data": {
      "image/png": "[encoded data removed]",
      "text/plain": [
       "<Figure size 576x360 with 1 Axes>"
      ]
     },
     "metadata": {},
     "output_type": "display_data"
    }
   ],
   "source": [
    "## plot faith alpha diversity for these  different groups \n",
    "\n",
    "import matplotlib\n",
    "from matplotlib import pyplot as plt \n",
    "\n",
    "data_to_plot=[ecoli_uc_no,ecoli_uc_colec_normal,ecoli_uc_colec_pouchitis,ecoli_uc_CD_pouch]\n",
    "\n",
    "matplotlib.rcParams.update({'font.size': 12})\n",
    "fig = plt.figure(1, figsize=(8,5))\n",
    "ax = fig.add_subplot(111)\n",
    "bp1=ax.boxplot(data_to_plot,positions=np.linspace(1, 5.5, num=4), patch_artist=True,widths=0.5) \n",
    "\n",
    "# fill with colors\n",
    "for patch in bp1['boxes']:\n",
    "    patch.set(color='orange')   \n",
    "    \n",
    "#ax.legend([bp1[\"boxes\"][0], bp2[\"boxes\"][0]], ['complication', 'no complication'], loc='upper right')\n",
    "\n",
    "ax.set_xticklabels(['UC no surgery' ,'UC colectomy+normal pouch','UC colectomy+pouchitis', 'UC colectomy with pouch+ development of CD'])\n",
    "ax.set_ylabel('Relative abundance of E.coli')\n",
    "ax.set_xlim(0.5,6)\n",
    "plt.xticks(rotation=20)\n",
    "\n",
    "print (kruskal(ecoli_uc_colec_normal,ecoli_uc_colec_pouchitis,ecoli_uc_CD_pouch))\n",
    "fig.savefig('../../../data/Sandborn_data/figures/figureS3B.svg')"
   ]
  },
  {
   "cell_type": "code",
   "execution_count": 15,
   "metadata": {},
   "outputs": [
    {
     "name": "stdout",
     "output_type": "stream",
     "text": [
      "KruskalResult(statistic=6.588909061793021, pvalue=0.010261603570056668)\n"
     ]
    },
    {
     "data": {
      "image/png": "[encoded data removed]",
      "text/plain": [
       "<Figure size 576x432 with 1 Axes>"
      ]
     },
     "metadata": {},
     "output_type": "display_data"
    }
   ],
   "source": [
    "# summarize the data and plot CD and UC separately\n",
    "\n",
    "ecoli_uc_surgery=pd.concat([ecoli_uc_colec_pouchitis,ecoli_uc_CD_pouch,ecoli_uc_colec_normal])\n",
    "ecoli_cd_surgery=pd.concat([ecoli_cd_ileorectal,ecoli_cd_ileocolonic,ecoli_cd_ileostomy])\n",
    "print (kruskal(ecoli_uc_surgery,ecoli_cd_surgery))\n",
    "\n",
    "data_to_plot=[ecoli_uc_no,ecoli_cd_nosurgery]\n",
    "data_to_plot2=[ecoli_uc_surgery,ecoli_cd_surgery]\n",
    "\n",
    "matplotlib.rcParams.update({'font.size': 15})\n",
    "fig = plt.figure(1, figsize=(8, 6))\n",
    "ax = fig.add_subplot(111)\n",
    "bp1=ax.boxplot(data_to_plot,positions=[1,3], patch_artist=True) \n",
    "bp2=ax.boxplot(data_to_plot2,positions=[1.5,3.5]) \n",
    "\n",
    "# fill with colors\n",
    "colors = ['#66c2a5', '#fc8d62', '#8da0cb']\n",
    "for bplot in (bp1, bp2):\n",
    "    for patch, color in zip(bplot['boxes'], colors):\n",
    "        patch.set_color(color)\n",
    "    \n",
    "ax.legend([bp1[\"boxes\"][0], bp2[\"boxes\"][0]], ['No surgery', 'Surgery'], loc='upper right')\n",
    "\n",
    "ax.set_xticklabels(['UC','CD'])\n",
    "ax.set_ylabel('Relative abundance of E.coli')\n",
    "ax.set_xlim(0.5,4)\n",
    "fig.savefig('../../../data/Sandborn_data/figures/E.coli abundance in disease subtypes.svg')\n"
   ]
  },
  {
   "cell_type": "code",
   "execution_count": 10,
   "metadata": {},
   "outputs": [
    {
     "data": {
      "text/plain": [
       "(array([1., 2.]), <a list of 2 Text xticklabel objects>)"
      ]
     },
     "execution_count": 10,
     "metadata": {},
     "output_type": "execute_result"
    },
    {
     "data": {
      "image/png": "[encoded data removed]",
      "text/plain": [
       "<Figure size 576x360 with 1 Axes>"
      ]
     },
     "metadata": {},
     "output_type": "display_data"
    }
   ],
   "source": [
    "## plot UC colectomy vs control\n",
    "\n",
    "import matplotlib\n",
    "from matplotlib import pyplot as plt \n",
    "\n",
    "data_to_plot=[ecoli_uc_no,ecoli_uc_surgery]\n",
    "\n",
    "matplotlib.rcParams.update({'font.size': 12})\n",
    "fig = plt.figure(1, figsize=(8,5))\n",
    "ax = fig.add_subplot(111)\n",
    "bp1=ax.boxplot(data_to_plot,positions=np.linspace(1, 2, num=2), patch_artist=True,widths=0.3) \n",
    "\n",
    "# fill with colors\n",
    "for patch in bp1['boxes']:\n",
    "    patch.set(color='orange')   \n",
    "    \n",
    "#ax.legend([bp1[\"boxes\"][0], bp2[\"boxes\"][0]], ['complication', 'no complication'], loc='upper right')\n",
    "\n",
    "ax.set_xticklabels(['UC no surgery', 'UC colectomy with pouch'])\n",
    "ax.set_ylabel('Relative abundance of E.coli')\n",
    "ax.set_xlim(0.5,2.5)\n",
    "plt.xticks(rotation=20)\n"
   ]
  },
  {
   "cell_type": "markdown",
   "metadata": {},
   "source": [
    "### Statistical test: only include one sample per patient "
   ]
  },
  {
   "cell_type": "code",
   "execution_count": 11,
   "metadata": {},
   "outputs": [
    {
     "name": "stdout",
     "output_type": "stream",
     "text": [
      "KruskalResult(statistic=2.28712174524982, pvalue=0.3186822122348627)\n"
     ]
    }
   ],
   "source": [
    "## create dictionary for host info \n",
    "dic_sample_host=dict(zip(list(df_meta.index),list(df_meta.host_id)))\n",
    "                   \n",
    "##empty list to store host info \n",
    "cd_ileorectal2=[]\n",
    "cd_ileocolonic2=[]\n",
    "cd_ileostomy2=[]\n",
    "host_ilerectal=[]\n",
    "host_ileocolonic=[]\n",
    "host_ileostomy=[]\n",
    "\n",
    "##only 1 sample per patient \n",
    "\n",
    "for s in ecoli_cd_ileorectal.index: \n",
    "    if not dic_sample_host[s] in host_ilerectal: \n",
    "        host_ilerectal.append(dic_sample_host[s])\n",
    "        cd_ileorectal2.append(s)\n",
    "\n",
    "for s in ecoli_cd_ileocolonic.index: \n",
    "    if not dic_sample_host[s] in host_ileocolonic: \n",
    "        host_ileocolonic.append(dic_sample_host[s])\n",
    "        cd_ileocolonic2.append(s)\n",
    "\n",
    "for s in ecoli_cd_ileostomy.index: \n",
    "    if not dic_sample_host[s] in host_ileostomy: \n",
    "        host_ileostomy.append(dic_sample_host[s])\n",
    "        cd_ileostomy2.append(s)\n",
    "ecoli_cd_ileorectal2=ecoli_cd_ileorectal.loc[cd_ileorectal2]\n",
    "ecoli_cd_ileocolonic2=ecoli_cd_ileocolonic.loc[cd_ileocolonic2]\n",
    "ecoli_cd_ileostomy2=ecoli_cd_ileostomy.loc[cd_ileostomy2]\n",
    "print (kruskal(ecoli_cd_ileorectal2,ecoli_cd_ileocolonic2,ecoli_cd_ileostomy2))\n"
   ]
  },
  {
   "cell_type": "markdown",
   "metadata": {},
   "source": [
    "## Investigate dynamics of dominant strain  using SNP profiles generated by MIDAS\n",
    "\n",
    "SNP profiles for E.coli were generated for 178 samples with using MIDAS with the following command with default settings: \n",
    "\n",
    "run_midas.py snps output_folder --species_id Escherichia_coli_58110 -t 24 -1 sample.R1.fastq.gz -2 sample.R2.fastq.gz \n",
    "\n"
   ]
  },
  {
   "cell_type": "code",
   "execution_count": 12,
   "metadata": {},
   "outputs": [
    {
     "name": "stdout",
     "output_type": "stream",
     "text": [
      "(24641, 179)\n"
     ]
    },
    {
     "data": {
      "text/html": [
       "<div>\n",
       "<style scoped>\n",
       "    .dataframe tbody tr th:only-of-type {\n",
       "        vertical-align: middle;\n",
       "    }\n",
       "\n",
       "    .dataframe tbody tr th {\n",
       "        vertical-align: top;\n",
       "    }\n",
       "\n",
       "    .dataframe thead th {\n",
       "        text-align: right;\n",
       "    }\n",
       "</style>\n",
       "<table border=\"1\" class=\"dataframe\">\n",
       "  <thead>\n",
       "    <tr style=\"text-align: right;\">\n",
       "      <th></th>\n",
       "      <th>PLCL18250</th>\n",
       "      <th>PLCL22166</th>\n",
       "      <th>PLCL23147</th>\n",
       "      <th>PLCL20066</th>\n",
       "      <th>PLCL20088</th>\n",
       "      <th>PLCL24015</th>\n",
       "      <th>PLCL18755</th>\n",
       "      <th>PLCL17842</th>\n",
       "      <th>PLCL23175</th>\n",
       "      <th>PLCL20124</th>\n",
       "      <th>...</th>\n",
       "      <th>PLCL19273</th>\n",
       "      <th>PLCL20974</th>\n",
       "      <th>PLCL21475</th>\n",
       "      <th>PLCL25745_1</th>\n",
       "      <th>PLCL21491</th>\n",
       "      <th>PLCL17719</th>\n",
       "      <th>PLCL18909</th>\n",
       "      <th>PLCL18260</th>\n",
       "      <th>PLCL22156</th>\n",
       "      <th>PLCL19578</th>\n",
       "    </tr>\n",
       "    <tr>\n",
       "      <th>site_id</th>\n",
       "      <th></th>\n",
       "      <th></th>\n",
       "      <th></th>\n",
       "      <th></th>\n",
       "      <th></th>\n",
       "      <th></th>\n",
       "      <th></th>\n",
       "      <th></th>\n",
       "      <th></th>\n",
       "      <th></th>\n",
       "      <th></th>\n",
       "      <th></th>\n",
       "      <th></th>\n",
       "      <th></th>\n",
       "      <th></th>\n",
       "      <th></th>\n",
       "      <th></th>\n",
       "      <th></th>\n",
       "      <th></th>\n",
       "      <th></th>\n",
       "      <th></th>\n",
       "    </tr>\n",
       "  </thead>\n",
       "  <tbody>\n",
       "    <tr>\n",
       "      <th>352</th>\n",
       "      <td>0.0000</td>\n",
       "      <td>0.0</td>\n",
       "      <td>0.000</td>\n",
       "      <td>0.0</td>\n",
       "      <td>0.0</td>\n",
       "      <td>0.0</td>\n",
       "      <td>0.0</td>\n",
       "      <td>0.000</td>\n",
       "      <td>0.0</td>\n",
       "      <td>0.000</td>\n",
       "      <td>...</td>\n",
       "      <td>0.00000</td>\n",
       "      <td>0.00000</td>\n",
       "      <td>0.000</td>\n",
       "      <td>0.0</td>\n",
       "      <td>0.0</td>\n",
       "      <td>0.0</td>\n",
       "      <td>0.0</td>\n",
       "      <td>0.001650</td>\n",
       "      <td>0.00000</td>\n",
       "      <td>0.0000</td>\n",
       "    </tr>\n",
       "    <tr>\n",
       "      <th>516</th>\n",
       "      <td>0.0000</td>\n",
       "      <td>0.0</td>\n",
       "      <td>0.000</td>\n",
       "      <td>0.0</td>\n",
       "      <td>0.0</td>\n",
       "      <td>1.0</td>\n",
       "      <td>0.0</td>\n",
       "      <td>0.870</td>\n",
       "      <td>1.0</td>\n",
       "      <td>0.000</td>\n",
       "      <td>...</td>\n",
       "      <td>1.00000</td>\n",
       "      <td>0.00000</td>\n",
       "      <td>0.549</td>\n",
       "      <td>0.0</td>\n",
       "      <td>0.0</td>\n",
       "      <td>1.0</td>\n",
       "      <td>1.0</td>\n",
       "      <td>0.000329</td>\n",
       "      <td>0.00889</td>\n",
       "      <td>0.0556</td>\n",
       "    </tr>\n",
       "    <tr>\n",
       "      <th>1082</th>\n",
       "      <td>0.0000</td>\n",
       "      <td>0.0</td>\n",
       "      <td>0.545</td>\n",
       "      <td>0.0</td>\n",
       "      <td>0.0</td>\n",
       "      <td>0.0</td>\n",
       "      <td>0.0</td>\n",
       "      <td>0.615</td>\n",
       "      <td>1.0</td>\n",
       "      <td>0.333</td>\n",
       "      <td>...</td>\n",
       "      <td>1.00000</td>\n",
       "      <td>0.00000</td>\n",
       "      <td>0.924</td>\n",
       "      <td>0.0</td>\n",
       "      <td>0.0</td>\n",
       "      <td>1.0</td>\n",
       "      <td>1.0</td>\n",
       "      <td>0.000000</td>\n",
       "      <td>0.00000</td>\n",
       "      <td>0.1110</td>\n",
       "    </tr>\n",
       "    <tr>\n",
       "      <th>1102</th>\n",
       "      <td>0.0000</td>\n",
       "      <td>0.0</td>\n",
       "      <td>0.000</td>\n",
       "      <td>0.0</td>\n",
       "      <td>0.0</td>\n",
       "      <td>1.0</td>\n",
       "      <td>0.0</td>\n",
       "      <td>0.636</td>\n",
       "      <td>0.0</td>\n",
       "      <td>0.000</td>\n",
       "      <td>...</td>\n",
       "      <td>0.99900</td>\n",
       "      <td>0.00000</td>\n",
       "      <td>0.000</td>\n",
       "      <td>0.0</td>\n",
       "      <td>0.0</td>\n",
       "      <td>0.0</td>\n",
       "      <td>0.0</td>\n",
       "      <td>0.000000</td>\n",
       "      <td>0.00000</td>\n",
       "      <td>0.0500</td>\n",
       "    </tr>\n",
       "    <tr>\n",
       "      <th>1103</th>\n",
       "      <td>0.0244</td>\n",
       "      <td>0.0</td>\n",
       "      <td>0.333</td>\n",
       "      <td>0.0</td>\n",
       "      <td>0.0</td>\n",
       "      <td>1.0</td>\n",
       "      <td>0.0</td>\n",
       "      <td>0.000</td>\n",
       "      <td>1.0</td>\n",
       "      <td>0.333</td>\n",
       "      <td>...</td>\n",
       "      <td>0.00112</td>\n",
       "      <td>0.00501</td>\n",
       "      <td>0.924</td>\n",
       "      <td>0.0</td>\n",
       "      <td>0.0</td>\n",
       "      <td>1.0</td>\n",
       "      <td>1.0</td>\n",
       "      <td>0.008720</td>\n",
       "      <td>0.00000</td>\n",
       "      <td>0.0909</td>\n",
       "    </tr>\n",
       "  </tbody>\n",
       "</table>\n",
       "<p>5 rows × 178 columns</p>\n",
       "</div>"
      ],
      "text/plain": [
       "         PLCL18250  PLCL22166  PLCL23147  PLCL20066  PLCL20088  PLCL24015  \\\n",
       "site_id                                                                     \n",
       "352         0.0000        0.0      0.000        0.0        0.0        0.0   \n",
       "516         0.0000        0.0      0.000        0.0        0.0        1.0   \n",
       "1082        0.0000        0.0      0.545        0.0        0.0        0.0   \n",
       "1102        0.0000        0.0      0.000        0.0        0.0        1.0   \n",
       "1103        0.0244        0.0      0.333        0.0        0.0        1.0   \n",
       "\n",
       "         PLCL18755  PLCL17842  PLCL23175  PLCL20124    ...      PLCL19273  \\\n",
       "site_id                                                ...                  \n",
       "352            0.0      0.000        0.0      0.000    ...        0.00000   \n",
       "516            0.0      0.870        1.0      0.000    ...        1.00000   \n",
       "1082           0.0      0.615        1.0      0.333    ...        1.00000   \n",
       "1102           0.0      0.636        0.0      0.000    ...        0.99900   \n",
       "1103           0.0      0.000        1.0      0.333    ...        0.00112   \n",
       "\n",
       "         PLCL20974  PLCL21475  PLCL25745_1  PLCL21491  PLCL17719  PLCL18909  \\\n",
       "site_id                                                                       \n",
       "352        0.00000      0.000          0.0        0.0        0.0        0.0   \n",
       "516        0.00000      0.549          0.0        0.0        1.0        1.0   \n",
       "1082       0.00000      0.924          0.0        0.0        1.0        1.0   \n",
       "1102       0.00000      0.000          0.0        0.0        0.0        0.0   \n",
       "1103       0.00501      0.924          0.0        0.0        1.0        1.0   \n",
       "\n",
       "         PLCL18260  PLCL22156  PLCL19578  \n",
       "site_id                                   \n",
       "352       0.001650    0.00000     0.0000  \n",
       "516       0.000329    0.00889     0.0556  \n",
       "1082      0.000000    0.00000     0.1110  \n",
       "1102      0.000000    0.00000     0.0500  \n",
       "1103      0.008720    0.00000     0.0909  \n",
       "\n",
       "[5 rows x 178 columns]"
      ]
     },
     "execution_count": 12,
     "metadata": {},
     "output_type": "execute_result"
    }
   ],
   "source": [
    "#load dataframe SNP \n",
    "\n",
    "df_snp=pd.read_csv('./data/snps_freq.txt',sep='\\t',index_col=0)\n",
    "print df_snp.shape\n",
    "df_snp=df_snp.drop('PLCL22251',1)\n",
    "\n",
    "df_snp.head()"
   ]
  },
  {
   "cell_type": "code",
   "execution_count": 13,
   "metadata": {},
   "outputs": [
    {
     "ename": "KeyError",
     "evalue": "'PLCL19621_1'",
     "output_type": "error",
     "traceback": [
      "\u001b[1;31m---------------------------------------------------------------------------\u001b[0m",
      "\u001b[1;31mKeyError\u001b[0m                                  Traceback (most recent call last)",
      "\u001b[1;32m<ipython-input-13-02e2ab2c1630>\u001b[0m in \u001b[0;36m<module>\u001b[1;34m()\u001b[0m\n\u001b[0;32m      2\u001b[0m \u001b[0mdic_count\u001b[0m\u001b[1;33m=\u001b[0m\u001b[1;33m{\u001b[0m\u001b[1;33m}\u001b[0m\u001b[1;33m\u001b[0m\u001b[0m\n\u001b[0;32m      3\u001b[0m \u001b[1;32mfor\u001b[0m \u001b[0ms\u001b[0m \u001b[1;32min\u001b[0m \u001b[0mdf_snp\u001b[0m\u001b[1;33m.\u001b[0m\u001b[0mcolumns\u001b[0m\u001b[1;33m:\u001b[0m\u001b[1;33m\u001b[0m\u001b[0m\n\u001b[1;32m----> 4\u001b[1;33m     \u001b[0mhost\u001b[0m\u001b[1;33m=\u001b[0m\u001b[0mdic_host\u001b[0m\u001b[1;33m[\u001b[0m\u001b[0ms\u001b[0m\u001b[1;33m]\u001b[0m\u001b[1;33m\u001b[0m\u001b[0m\n\u001b[0m\u001b[0;32m      5\u001b[0m     \u001b[1;32mif\u001b[0m \u001b[1;32mnot\u001b[0m \u001b[0mhost\u001b[0m \u001b[1;32min\u001b[0m \u001b[0mdic_count\u001b[0m\u001b[1;33m:\u001b[0m\u001b[1;33m\u001b[0m\u001b[0m\n\u001b[0;32m      6\u001b[0m         \u001b[0mdic_count\u001b[0m\u001b[1;33m[\u001b[0m\u001b[0mhost\u001b[0m\u001b[1;33m]\u001b[0m\u001b[1;33m=\u001b[0m\u001b[1;36m1\u001b[0m\u001b[1;33m\u001b[0m\u001b[0m\n",
      "\u001b[1;31mKeyError\u001b[0m: 'PLCL19621_1'"
     ]
    }
   ],
   "source": [
    "## filter for host that has more than 1 E.coli samples for plot \n",
    "dic_count={}\n",
    "for s in df_snp.columns: \n",
    "    host=dic_host[s]\n",
    "    if not host in dic_count: \n",
    "        dic_count[host]=1\n",
    "    else: \n",
    "        dic_count[host]=dic_count[host]+1\n",
    "\n",
    "host_longi=[k for k in dic_count.keys() if dic_count[k]>1]\n",
    "sample_longi=[s for s in df_snp.columns if dic_host[s] in host_longi]\n",
    "df_pan_longi=df_snp[sample_longi]\n",
    "df_pan_longi.shape\n",
    "\n",
    "#remove genes that are not present in any sandborn strains \n",
    "gene_present=[g for g in df_pan_longi.index if sum(df_pan_longi.loc[g]>0)]\n",
    "df_pan_longi=df_pan_longi.loc[gene_present]"
   ]
  },
  {
   "cell_type": "code",
   "execution_count": null,
   "metadata": {},
   "outputs": [],
   "source": [
    "#create a dataframe to store the host/time for each samples \n",
    "hostlist=[]\n",
    "timelist=[]\n",
    "for s in sample_longi: \n",
    "    hostlist.append(dic_host[s])\n",
    "    timelist.append(dic_time[s])\n",
    "df_info=pd.DataFrame(index=sample_longi)\n",
    "df_info['host']=hostlist\n",
    "df_info['time']=timelist\n",
    "df_info=df_info.sort_values(by=['host','time'])\n",
    "df_info"
   ]
  },
  {
   "cell_type": "code",
   "execution_count": 8,
   "metadata": {},
   "outputs": [],
   "source": [
    "#calculate the distance for each neighboring dominant strain based on snp profiles\n",
    "from scipy.spatial.distance import pdist\n",
    "from scipy.spatial.distance import cdist\n",
    "\n",
    "dic_distance={}\n",
    "for h in host_longi: \n",
    "    df_temp=df_info[df_info.host==h]\n",
    "    for i in range(len(df_temp)-1): \n",
    "        s1=df_temp.iloc[i].name\n",
    "        s2=df_temp.iloc[i+1].name\n",
    "        dist=pdist(df_pan_longi[[s1,s2]],metric='mahalanobis')\n",
    "        if not h in dic_distance.keys(): \n",
    "            dic_distance[h]=[dist[0]]\n",
    "        else: \n",
    "            dic_distance[h].append(dist[0])\n",
    "# select a value to fill in the non-existing samples to allow plotting later     \n",
    "    while len(dic_distance[h])<3: \n",
    "        dic_distance[h].append(4)"
   ]
  },
  {
   "cell_type": "code",
   "execution_count": 9,
   "metadata": {},
   "outputs": [],
   "source": [
    "df_disctance=pd.DataFrame.from_dict(dic_distance).T\n",
    "df_disctance=df_disctance.replace(to_replace=-1,value=4)"
   ]
  },
  {
   "cell_type": "code",
   "execution_count": 22,
   "metadata": {},
   "outputs": [
    {
     "data": {
      "image/png": "[encoded data removed]",
      "text/plain": [
       "<Figure size 504x360 with 5 Axes>"
      ]
     },
     "metadata": {},
     "output_type": "display_data"
    }
   ],
   "source": [
    "#create label for surgery for hosts \n",
    "patient_col=[]\n",
    "for i in df_disctance.index: \n",
    "    if dic_surgeryByHost[i]=='none': \n",
    "        patient_col.append('#66c2a5')\n",
    "    else: \n",
    "        patient_col.append('#34495e')\n",
    "\n",
    "df_disctance['surgery']=patient_col\n",
    "\n",
    "#add surgery status to the plot \n",
    "df_disctance=df_disctance.sort_values(by=['surgery',0,1,2])\n",
    "g=sns.clustermap(df_disctance[[0,1,2]].T,cmap='Blues',figsize=(7,5),col_colors=df_disctance['surgery'],col_cluster=False,mask=0)\n",
    "ax = g.ax_heatmap\n",
    "ax.set_yticklabels(['TP1->TP2','TP2->TP3','TP3->TP4'],rotation=0)\n",
    "ax.set_xticklabels([])\n",
    "ax.set_xticks([])\n",
    "ax.set_xlabel('Patients')\n",
    "#g.savefig('../data/Sandborn_data/figures/Dominant Ecoli strain Change similarity.svg')\n",
    "#g.savefig('../data/Sandborn_data/figures/Dominant Ecoli strain Change similarity.pdf')"
   ]
  },
  {
   "cell_type": "markdown",
   "metadata": {},
   "source": [
    "## Analyze Panphlan results\n",
    "Gene presence/absence matrix of E.coli is generated for 147 samples with E.coli abundance greater than 1% using Panphlan. Panphlan was run with default settings and the database used was \"ecoli16\" downloaded provided on the Panphlan website"
   ]
  },
  {
   "cell_type": "code",
   "execution_count": 14,
   "metadata": {},
   "outputs": [
    {
     "name": "stdout",
     "output_type": "stream",
     "text": [
      "(31734, 147)\n"
     ]
    }
   ],
   "source": [
    "##load panphlan results \n",
    "\n",
    "df_panphlan=pd.read_csv('./data/gene_presence_ecoli16.csv',index_col=0,sep='\\t')\n",
    "\n",
    "#only keep the samples from sandborn data \n",
    "sandborn_sample=[i for i in df_panphlan.columns if 'PLCL' in i]\n",
    "df_panphlan=df_panphlan[sandborn_sample]\n",
    "df_panphlan=df_panphlan.drop('PLCL22251',1)\n",
    "print df_panphlan.shape\n"
   ]
  },
  {
   "cell_type": "markdown",
   "metadata": {},
   "source": [
    "### Analysis on metabolic functions\n",
    "Draft metabolic genome scale models were created based on genome content identified by panphlan for each sample.\n",
    "Then the pan reactome matrix is created that specifies the presence/absence of each metabolic reaction in the sample-specific draft models. Here we analyze the pre-computed pan-reactome matrix"
   ]
  },
  {
   "cell_type": "code",
   "execution_count": 15,
   "metadata": {},
   "outputs": [
    {
     "data": {
      "text/plain": [
       "(3077, 147)"
      ]
     },
     "execution_count": 15,
     "metadata": {},
     "output_type": "execute_result"
    }
   ],
   "source": [
    "#only look at sandborn samples \n",
    "df_rxn=pd.read_csv('./data/pan_reactome_matrix.csv',index_col=0)\n",
    "df_rxn_samples=df_rxn[sandborn_sample]\n",
    "df_rxn_samples=df_rxn_samples.drop('PLCL22251',1)\n",
    "df_rxn_samples.shape\n"
   ]
  },
  {
   "cell_type": "markdown",
   "metadata": {},
   "source": [
    "### Analysis on AIEC associated virulence factors\n",
    "We mapped the Panphlan derived assemblies against a reference databse with AIEC associated VFs using BLAST. Here we look at the output results that specified the sequence similarity of each VF in all assemblies"
   ]
  },
  {
   "cell_type": "code",
   "execution_count": 16,
   "metadata": {},
   "outputs": [
    {
     "name": "stdout",
     "output_type": "stream",
     "text": [
      "(3102, 147)\n"
     ]
    }
   ],
   "source": [
    "## load mapping results from VF genes \n",
    "df_AIEC_map=pd.read_csv('./data/AIEC_VF_comparative.csv',index_col=0)\n",
    "df_AIEC_map=df_AIEC_map.fillna(value=0)\n",
    "df_AIEC_map.shape\n",
    "df_AIEC_sample=df_AIEC_map[df_rxn_samples.columns]\n",
    "df_AIEC_sample.shape\n",
    "\n",
    "#concat AIEC+ mtabolism\n",
    "\n",
    "df_VF_metab=pd.concat([df_AIEC_sample,df_rxn_samples])\n",
    "print df_VF_metab.shape"
   ]
  },
  {
   "cell_type": "code",
   "execution_count": 17,
   "metadata": {},
   "outputs": [
    {
     "data": {
      "text/plain": [
       "array([0.73497173, 0.11436956, 0.04364698, 0.03042905])"
      ]
     },
     "execution_count": 17,
     "metadata": {},
     "output_type": "execute_result"
    }
   ],
   "source": [
    "import mca\n",
    "#create MCA instance \n",
    "X=df_VF_metab.T\n",
    "mca_ben = mca.MCA(X,TOL=1e-9)\n",
    "mca_ind = mca.MCA(X, benzecri=False,TOL=1e-9)\n",
    "fs=np.asarray(mca_ben.fs_r(N=4))\n",
    "mca_ben.expl_var(greenacre=True, N=4)"
   ]
  },
  {
   "cell_type": "markdown",
   "metadata": {},
   "source": [
    "### MCA plot on VF and metabolic reaction matrix"
   ]
  },
  {
   "cell_type": "code",
   "execution_count": 18,
   "metadata": {},
   "outputs": [],
   "source": [
    "#label the plot \n",
    "\n",
    "color_surgery=[]\n",
    "for i in df_VF_metab.columns: \n",
    "    if dic_surgery[i]=='none': \n",
    "        color_surgery.append('#66c2a5')\n",
    "    else: \n",
    "        color_surgery.append('#34495e')\n"
   ]
  },
  {
   "cell_type": "code",
   "execution_count": 19,
   "metadata": {},
   "outputs": [
    {
     "data": {
      "text/plain": [
       "<matplotlib.legend.Legend at 0x7f41f947e7d0>"
      ]
     },
     "execution_count": 19,
     "metadata": {},
     "output_type": "execute_result"
    },
    {
     "data": {
      "image/png": "[encoded data removed]",
      "text/plain": [
       "<Figure size 432x432 with 1 Axes>"
      ]
     },
     "metadata": {},
     "output_type": "display_data"
    }
   ],
   "source": [
    "import matplotlib.patches as mpatches\n",
    "\n",
    "fig, ax = plt.subplots()\n",
    "fig.set_figheight(6)\n",
    "fig.set_figwidth(6)\n",
    "n=list(df_VF_metab.columns)\n",
    "plot=ax.scatter(fs[:,0],fs[:,1],s=60, c=color_surgery)\n",
    "plt.xlabel('Factor 1 (73.5%)',fontsize=14)\n",
    "plt.ylabel('Factor 2 (11.4%)',fontsize=14)\n",
    "plt.xticks(fontsize=12)\n",
    "plt.yticks(fontsize=12)\n",
    "plt.xticks(rotation=40)\n",
    "plt.grid(False)\n",
    "blue = mpatches.Patch(color='#66c2a5', label='No surgery')\n",
    "brown = mpatches.Patch(color='#34495e', label='Surgery')\n",
    "plt.legend(handles=[blue,brown])\n",
    "#fig.savefig('../data/Sandborn_data/figures/Metabolis and VF dominant ecoli strians.svg')\n",
    "#fig.savefig('../data/Sandborn_data/figures/Metabolis and VF dominant ecoli strians.pdf')"
   ]
  }
 ],
 "metadata": {
  "kernelspec": {
   "display_name": "Python 2",
   "language": "python",
   "name": "python2"
  },
  "language_info": {
   "codemirror_mode": {
    "name": "ipython",
    "version": 2
   },
   "file_extension": ".py",
   "mimetype": "text/x-python",
   "name": "python",
   "nbconvert_exporter": "python",
   "pygments_lexer": "ipython2",
   "version": "2.7.6"
  }
 },
 "nbformat": 4,
 "nbformat_minor": 2
}
