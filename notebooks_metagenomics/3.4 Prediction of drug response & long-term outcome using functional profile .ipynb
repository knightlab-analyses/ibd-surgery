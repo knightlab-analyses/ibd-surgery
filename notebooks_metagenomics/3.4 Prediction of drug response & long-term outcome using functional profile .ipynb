{
 "cells": [
  {
   "cell_type": "markdown",
   "metadata": {},
   "source": [
    "## Part 1: Prediction of drug response using machine learning method"
   ]
  },
  {
   "cell_type": "code",
   "execution_count": 1,
   "metadata": {},
   "outputs": [],
   "source": [
    "import numpy as np \n",
    "import biom\n",
    "import pandas as pd \n",
    "import seaborn as sns\n",
    "from matplotlib import pyplot as plt"
   ]
  },
  {
   "cell_type": "code",
   "execution_count": 2,
   "metadata": {},
   "outputs": [],
   "source": [
    "#load species abundance \n",
    "\n",
    "df_pathway=pd.read_csv('./data/Filtered_normalized_cpm_pathways_new_unstratified.csv',index_col=0)\n",
    "df_meta=pd.read_csv('./data/metadata_updated_filtered_201904.csv',index_col=0)\n",
    "\n",
    "#create dictionary to \n",
    "dic_date=dict(zip(list(df_meta.index),list(df_meta.time_point)))\n",
    "dic_surgery=dict(zip(list(df_meta.index),list(df_meta.surgery_type)))\n"
   ]
  },
  {
   "cell_type": "markdown",
   "metadata": {},
   "source": [
    "## Prediction of anti-TNF response\n"
   ]
  },
  {
   "cell_type": "code",
   "execution_count": 3,
   "metadata": {},
   "outputs": [
    {
     "name": "stdout",
     "output_type": "stream",
     "text": [
      "(483, 80)\n",
      "(483, 143)\n"
     ]
    }
   ],
   "source": [
    "## TNF responder \n",
    "tnfSamples=[]\n",
    "for i in range(len(df_meta)):\n",
    "    row=df_meta.iloc[i]\n",
    "    if row.tnf_responder!= 'not applicable': \n",
    "        if row.name in df_pathway.columns:\n",
    "            tnfSamples.append(row.name)\n",
    "dic_tnf=dict(zip(list(tnfSamples),list(df_meta.tnf_responder.loc[tnfSamples])))\n",
    "\n",
    "\n",
    "#split samples into surgery vs non-surgery samples \n",
    "\n",
    "surgery_tnf=[]\n",
    "\n",
    "for c in tnfSamples: \n",
    "    if dic_surgery[c]!='none': \n",
    "        surgery_tnf.append(c)\n",
    "nonsurgery_tnf=[i for i in tnfSamples if i not in surgery_tnf]\n",
    "\n",
    "#split pathway abundance by surgery status \n",
    "\n",
    "df_tnf_surgery=df_pathway[surgery_tnf]\n",
    "print df_tnf_surgery.shape\n",
    "df_tnf_non=df_pathway[nonsurgery_tnf]\n",
    "print df_tnf_non.shape"
   ]
  },
  {
   "cell_type": "markdown",
   "metadata": {},
   "source": [
    "### Split test and training samples based on subjects"
   ]
  },
  {
   "cell_type": "code",
   "execution_count": 4,
   "metadata": {},
   "outputs": [
    {
     "name": "stdout",
     "output_type": "stream",
     "text": [
      "78\n",
      "17\n"
     ]
    }
   ],
   "source": [
    "### Split approach 2: Separates by subjects\n",
    "# Create a lists of subject that have done surgery, and subjects that have not done surgery \n",
    "dic_subject_tnf=dict(zip(list(df_meta.host_id),list(df_meta.tnf_responder)))\n",
    "dic_sample_host=dict(zip(list(df_meta.index),list(df_meta.host_id)))\n",
    "subject_tnf=[i for i in dic_subject_tnf.keys() if dic_subject_tnf[i]=='y']\n",
    "subject_tnf_non=[i for i in dic_subject_tnf.keys() if dic_subject_tnf[i]=='n']\n",
    "subject_tnf_info=subject_tnf+subject_tnf\n",
    "print len(subject_tnf)\n",
    "print len(subject_tnf_non)\n",
    "\n",
    "\n",
    "#use randome sample to select ~70% subject from each group as training data \n",
    "from random import sample \n",
    "sub_train_tnf_non=sample(subject_tnf_non,int(len(subject_tnf_non)*0.7))\n",
    "sub_train_tnf=sample(subject_tnf,int(len(subject_tnf)*0.7))\n",
    "sub_train=sub_train_tnf_non+sub_train_tnf\n",
    "\n",
    "\n",
    "#map subjects back to samples and build the training dataset \n",
    "sample_train=[i for i in tnfSamples if dic_sample_host[i] in sub_train]\n",
    "sample_test=[i for i in tnfSamples if i not in sample_train]\n",
    "X_train_tnf=df_pathway[sample_train]\n",
    "X_test_tnf=df_pathway[sample_test]\n"
   ]
  },
  {
   "cell_type": "code",
   "execution_count": 5,
   "metadata": {},
   "outputs": [],
   "source": [
    "## create the output for both testing and traning dataset\n",
    "y_train_tnf=[]\n",
    "for i in X_train_tnf.columns: \n",
    "    if dic_tnf[i]=='n': \n",
    "        y_train_tnf.append(0)\n",
    "    else: \n",
    "        y_train_tnf.append(1)\n",
    "\n",
    "\n",
    "y_test_tnf=[]\n",
    "for i in X_test_tnf.columns: \n",
    "    if dic_tnf[i]=='n': \n",
    "        y_test_tnf.append(0)\n",
    "    else: \n",
    "        y_test_tnf.append(1)"
   ]
  },
  {
   "cell_type": "code",
   "execution_count": 6,
   "metadata": {},
   "outputs": [
    {
     "name": "stderr",
     "output_type": "stream",
     "text": [
      "/usr/local/lib/python2.7/dist-packages/sklearn/ensemble/weight_boosting.py:29: DeprecationWarning: numpy.core.umath_tests is an internal NumPy module and should not be imported. It will be removed in a future NumPy release.\n",
      "  from numpy.core.umath_tests import inner1d\n"
     ]
    },
    {
     "name": "stdout",
     "output_type": "stream",
     "text": [
      "cross-validation on the training data: \n",
      "[0.875      0.625      0.8125     0.73333333 0.8        0.93333333\n",
      " 0.85714286 0.78571429 0.85714286 0.85714286]\n",
      "Prediction accuracy score on the test data:  0.7297297297297297\n",
      "Average precision-recall score:  0.8986288341127051\n"
     ]
    }
   ],
   "source": [
    "#train regressor and run it on test data \n",
    "from sklearn.ensemble import RandomForestClassifier\n",
    "\n",
    "class_rf = RandomForestClassifier(n_jobs=4)\n",
    "class_rf.fit(X_train_tnf.T, y_train_tnf)\n",
    "\n",
    "# 10-fold cross validation on the test data \n",
    "from sklearn.cross_validation import cross_val_score\n",
    "scores = cross_val_score(class_rf, X_train_tnf.T, y_train_tnf, cv=10)\n",
    "print 'cross-validation on the training data: '\n",
    "print scores\n",
    "\n",
    "# Predict on new data\n",
    "y_rf_tnf = class_rf.predict(X_test_tnf.T)\n",
    "\n",
    "# calculate the accuracy score of the classifier \n",
    "from sklearn.metrics import accuracy_score\n",
    "from sklearn.metrics import average_precision_score\n",
    "\n",
    "print 'Prediction accuracy score on the test data: ', accuracy_score(y_test_tnf, y_rf_tnf) \n",
    "average_precision=average_precision_score(y_test_tnf, y_rf_tnf) \n",
    "print 'Average precision-recall score: ', average_precision"
   ]
  },
  {
   "cell_type": "code",
   "execution_count": 7,
   "metadata": {},
   "outputs": [
    {
     "data": {
      "text/plain": [
       "Text(0.5,1,'Precision-Recall curve: AP=0.90')"
      ]
     },
     "execution_count": 7,
     "metadata": {},
     "output_type": "execute_result"
    },
    {
     "data": {
      "image/png": "[encoded data removed]",
      "text/plain": [
       "<Figure size 432x288 with 1 Axes>"
      ]
     },
     "metadata": {},
     "output_type": "display_data"
    }
   ],
   "source": [
    "from sklearn.metrics import precision_recall_curve\n",
    "import matplotlib.pyplot as plt\n",
    "from sklearn.utils.fixes import signature\n",
    "\n",
    "precision, recall, _ = precision_recall_curve(y_test_tnf, y_rf_tnf)\n",
    "\n",
    "# In matplotlib < 1.5, plt.fill_between does not have a 'step' argument\n",
    "step_kwargs = ({'step': 'post'}\n",
    "               if 'step' in signature(plt.fill_between).parameters\n",
    "               else {})\n",
    "plt.step(recall, precision, color='b', alpha=0.3,\n",
    "         where='post')\n",
    "\n",
    "#plot the baseline\n",
    "perc=float(y_test_tnf.count(1))/len(y_test_tnf)\n",
    "plt.fill_between(recall, precision, alpha=0.2, color='b', **step_kwargs)\n",
    "plt.axhline(y=perc, color='r', linestyle='--')\n",
    "\n",
    "plt.xlabel('Recall')\n",
    "plt.ylabel('Precision')\n",
    "plt.ylim([0.0, 1.05])\n",
    "plt.xlim([0.0, 1.0])\n",
    "plt.title('Precision-Recall curve: AP={0:0.2f}'.format(\n",
    "          average_precision))"
   ]
  },
  {
   "cell_type": "markdown",
   "metadata": {},
   "source": [
    "## Prediction of vedolizumab response\n"
   ]
  },
  {
   "cell_type": "code",
   "execution_count": 8,
   "metadata": {},
   "outputs": [
    {
     "name": "stderr",
     "output_type": "stream",
     "text": [
      "/usr/local/lib/python2.7/dist-packages/ipykernel/__main__.py:20: SettingWithCopyWarning: \n",
      "A value is trying to be set on a copy of a slice from a DataFrame\n",
      "\n",
      "See the caveats in the documentation: http://pandas.pydata.org/pandas-docs/stable/indexing.html#indexing-view-versus-copy\n"
     ]
    }
   ],
   "source": [
    "# vedolizumab_responder\n",
    "vdzSamples=[]\n",
    "for i in range(len(df_meta)):\n",
    "    row=df_meta.iloc[i]\n",
    "    if row.vedolizumab_responder!= 'not applicable': \n",
    "        if row.name in df_pathway.columns:\n",
    "            vdzSamples.append(row.name)\n",
    "\n",
    "#extract abundance profile of samples with vedolizumab response\n",
    "df_pathway_vds=df_pathway[vdzSamples]\n",
    "dic_vdz=dict(zip(list(vdzSamples),list(df_meta.vedolizumab_responder.loc[vdzSamples])))\n",
    "\n",
    "#add covariate of surgery status \n",
    "surgery_vdz=[]\n",
    "for s in vdzSamples: \n",
    "    if dic_surgery[s]=='none': \n",
    "        surgery_vdz.append(0)\n",
    "    else: \n",
    "        surgery_vdz.append(1)\n",
    "df_pathway_vds.loc['surgery']=surgery_vdz\n"
   ]
  },
  {
   "cell_type": "markdown",
   "metadata": {},
   "source": [
    "## split test and training samples by subject"
   ]
  },
  {
   "cell_type": "code",
   "execution_count": 9,
   "metadata": {},
   "outputs": [
    {
     "name": "stdout",
     "output_type": "stream",
     "text": [
      "23\n",
      "11\n",
      "(483, 54)\n",
      "(483, 30)\n"
     ]
    }
   ],
   "source": [
    "### Split approach 2: Separates by subjects\n",
    "# Create a lists of subject that have done surgery, and subjects that have not done surgery \n",
    "dic_subject_vdz=dict(zip(list(df_meta.host_id),list(df_meta.vedolizumab_responder)))\n",
    "dic_sample_host=dict(zip(list(df_meta.index),list(df_meta.host_id)))\n",
    "subject_vdz=[i for i in dic_subject_vdz.keys() if dic_subject_vdz[i]=='y']\n",
    "subject_vdz_non=[i for i in dic_subject_vdz.keys() if dic_subject_vdz[i]=='n']\n",
    "subject_vdz_info=subject_vdz+subject_vdz\n",
    "print len(subject_vdz)\n",
    "print len(subject_vdz_non)\n",
    "\n",
    "\n",
    "#use randome sample to select ~70% subject from each group as training data \n",
    "from random import sample \n",
    "sub_train_vdz_non=sample(subject_vdz_non,int(len(subject_vdz_non)*0.7))\n",
    "sub_train_vdz=sample(subject_vdz,int(len(subject_vdz)*0.7))\n",
    "sub_train_all_vdz=sub_train_vdz_non+sub_train_vdz\n",
    "\n",
    "\n",
    "#map subjects back to samples and build the training dataset \n",
    "sample_train=[i for i in vdzSamples if dic_sample_host[i] in sub_train_all_vdz]\n",
    "sample_test=[i for i in vdzSamples if i not in sample_train]\n",
    "X_train_vdz=df_pathway[sample_train]\n",
    "X_test_vdz=df_pathway[sample_test]\n",
    "print (X_train_vdz.shape)\n",
    "print (X_test_vdz.shape)"
   ]
  },
  {
   "cell_type": "code",
   "execution_count": 10,
   "metadata": {},
   "outputs": [],
   "source": [
    "## create the output for both testing and traning dataset\n",
    "\n",
    "y_train_vdz=[]\n",
    "for i in X_train_vdz.columns: \n",
    "    if dic_vdz[i]=='n': \n",
    "        y_train_vdz.append(0)\n",
    "    else: \n",
    "        y_train_vdz.append(1)\n",
    "\n",
    "\n",
    "y_test_vdz=[]\n",
    "for i in X_test_vdz.columns: \n",
    "    if dic_vdz[i]=='n': \n",
    "        y_test_vdz.append(0)\n",
    "    else: \n",
    "        y_test_vdz.append(1)"
   ]
  },
  {
   "cell_type": "code",
   "execution_count": 11,
   "metadata": {},
   "outputs": [
    {
     "name": "stdout",
     "output_type": "stream",
     "text": [
      "cross-validation on the training data: \n",
      "[0.5        0.16666667 0.66666667 0.33333333 0.66666667 0.5\n",
      " 0.33333333 0.75       0.75       0.75      ]\n",
      "Prediction accuracy score on the test data:  0.6\n"
     ]
    }
   ],
   "source": [
    "#train regressor and run it on test data \n",
    "from sklearn.ensemble import RandomForestClassifier\n",
    "class_rf = RandomForestClassifier(n_jobs=4)\n",
    "class_rf.fit(X_train_vdz.T, y_train_vdz)\n",
    "\n",
    "# 10-fold cross validation on the test data \n",
    "from sklearn.cross_validation import cross_val_score\n",
    "scores = cross_val_score(class_rf, X_train_vdz.T, y_train_vdz, cv=10)\n",
    "print 'cross-validation on the training data: '\n",
    "print scores\n",
    "\n",
    "# Predict on new data\n",
    "y_rf_vdz = class_rf.predict(X_test_vdz.T)\n",
    "\n",
    "# calculate the accuracy score of the classifier \n",
    "from sklearn.metrics import accuracy_score\n",
    "print 'Prediction accuracy score on the test data: ', accuracy_score(y_test_vdz, y_rf_vdz) "
   ]
  },
  {
   "cell_type": "code",
   "execution_count": 12,
   "metadata": {},
   "outputs": [
    {
     "data": {
      "text/plain": [
       "Text(0.5,1,'Precision-Recall curve: AP=0.90')"
      ]
     },
     "execution_count": 12,
     "metadata": {},
     "output_type": "execute_result"
    },
    {
     "data": {
      "image/png": "[encoded data removed]",
      "text/plain": [
       "<Figure size 432x288 with 1 Axes>"
      ]
     },
     "metadata": {},
     "output_type": "display_data"
    }
   ],
   "source": [
    "from sklearn.metrics import precision_recall_curve\n",
    "import matplotlib.pyplot as plt\n",
    "from sklearn.utils.fixes import signature\n",
    "\n",
    "precision, recall, _ = precision_recall_curve(y_test_vdz, y_rf_vdz)\n",
    "\n",
    "# In matplotlib < 1.5, plt.fill_between does not have a 'step' argument\n",
    "step_kwargs = ({'step': 'post'}\n",
    "               if 'step' in signature(plt.fill_between).parameters\n",
    "               else {})\n",
    "plt.step(recall, precision, color='b', alpha=0.3,\n",
    "         where='post')\n",
    "\n",
    "#plot the baseline\n",
    "perc=float(y_test_vdz.count(1))/len(y_test_vdz)\n",
    "plt.fill_between(recall, precision, alpha=0.2, color='b', **step_kwargs)\n",
    "plt.axhline(y=perc, color='r', linestyle='--')\n",
    "\n",
    "plt.xlabel('Recall')\n",
    "plt.ylabel('Precision')\n",
    "plt.ylim([0.0, 1.05])\n",
    "plt.xlim([0.0, 1.0])\n",
    "plt.title('Precision-Recall curve: AP={0:0.2f}'.format(\n",
    "          average_precision))\n"
   ]
  },
  {
   "cell_type": "markdown",
   "metadata": {},
   "source": [
    "## Prediction of subsequent surgery outcome\n"
   ]
  },
  {
   "cell_type": "code",
   "execution_count": 13,
   "metadata": {},
   "outputs": [
    {
     "data": {
      "text/plain": [
       "(483, 300)"
      ]
     },
     "execution_count": 13,
     "metadata": {},
     "output_type": "execute_result"
    }
   ],
   "source": [
    "## samples with surgery outcome\n",
    "sample_outcome=[]\n",
    "for i in range(len(df_meta)):\n",
    "    row=df_meta.iloc[i]\n",
    "    if row.subsequent_surgery!= 'not provided': \n",
    "        if row.name in df_pathway.columns:\n",
    "            sample_outcome.append(row.name)\n",
    "\n",
    "#extract abundance profile of samples with vedolizumab response\n",
    "df_pathway_outcome=df_pathway[sample_outcome]\n",
    "dic_outcome=dict(zip(list(sample_outcome),list(df_meta.subsequent_surgery.loc[sample_outcome])))\n",
    "\n",
    "#add covariate of surgery status \n",
    "surgery_outcome=[]\n",
    "for s in sample_outcome: \n",
    "    if dic_surgery[s]=='none': \n",
    "        surgery_outcome.append(0)\n",
    "    else: \n",
    "        surgery_outcome.append(1)\n",
    "#df_species_outcome.loc['surgery']=surgery_outcome\n",
    "df_pathway_outcome.shape"
   ]
  },
  {
   "cell_type": "markdown",
   "metadata": {},
   "source": [
    "### split test and training data "
   ]
  },
  {
   "cell_type": "code",
   "execution_count": 14,
   "metadata": {},
   "outputs": [
    {
     "name": "stdout",
     "output_type": "stream",
     "text": [
      "23\n",
      "11\n",
      "(483, 201)\n"
     ]
    }
   ],
   "source": [
    "### Split approach 2: Separates by subjects\n",
    "# Create a lists of subject that have done surgery, and subjects that have not done surgery \n",
    "dic_subject_outcome=dict(zip(list(df_meta.host_id),list(df_meta.subsequent_surgery)))\n",
    "dic_sample_host=dict(zip(list(df_meta.index),list(df_meta.host_id)))\n",
    "subject_outcome=[i for i in dic_subject_outcome.keys() if dic_subject_outcome[i]=='y']\n",
    "subject_outcome_non=[i for i in dic_subject_outcome.keys() if dic_subject_outcome[i]=='n']\n",
    "subject_outcome_info=subject_outcome+subject_outcome\n",
    "print len(subject_vdz)\n",
    "print len(subject_vdz_non)\n",
    "\n",
    "\n",
    "#use randome sample to select ~70% subject from each group as training data \n",
    "from random import sample \n",
    "sub_train_outcome_non=sample(subject_outcome_non,int(len(subject_outcome_non)*0.7))\n",
    "sub_train_outcome=sample(subject_outcome,int(len(subject_outcome)*0.7))\n",
    "sub_train_all_outcome=sub_train_outcome_non+sub_train_outcome\n",
    "\n",
    "\n",
    "#map subjects back to samples and build the training dataset \n",
    "sample_train=[i for i in df_pathway_outcome.columns if dic_sample_host[i] in sub_train_all_outcome]\n",
    "sample_test=[i for i in df_pathway_outcome.columns if i not in sample_train]\n",
    "X_train_outcome=df_pathway[sample_train]\n",
    "X_test_outcome=df_pathway[sample_test]\n",
    "print (X_train_outcome.shape)"
   ]
  },
  {
   "cell_type": "code",
   "execution_count": 15,
   "metadata": {},
   "outputs": [],
   "source": [
    "## create the output for both testing and traning dataset\n",
    "\n",
    "y_train_outcome=[]\n",
    "for i in X_train_outcome.columns: \n",
    "    if dic_outcome[i]=='n': \n",
    "        y_train_outcome.append(0)\n",
    "    else: \n",
    "        y_train_outcome.append(1)\n",
    "\n",
    "\n",
    "y_test_outcome=[]\n",
    "for i in X_test_outcome.columns: \n",
    "    if dic_outcome[i]=='n': \n",
    "        y_test_outcome.append(0)\n",
    "    else: \n",
    "        y_test_outcome.append(1)"
   ]
  },
  {
   "cell_type": "code",
   "execution_count": 16,
   "metadata": {},
   "outputs": [
    {
     "name": "stdout",
     "output_type": "stream",
     "text": [
      "cross-validation on the training data: \n",
      "[0.9047619  0.85714286 0.9        0.9        0.9        0.9\n",
      " 0.9        0.9        0.9        0.94736842]\n",
      "Prediction accuracy score on the test data:  0.9090909090909091\n"
     ]
    }
   ],
   "source": [
    "#train regressor and run it on test data \n",
    "from sklearn.ensemble import RandomForestClassifier\n",
    "class_rf = RandomForestClassifier(n_jobs=4)\n",
    "class_rf.fit(X_train_outcome.T, y_train_outcome)\n",
    "\n",
    "# 10-fold cross validation on the test data \n",
    "from sklearn.cross_validation import cross_val_score\n",
    "scores = cross_val_score(class_rf, X_train_outcome.T, y_train_outcome, cv=10)\n",
    "print 'cross-validation on the training data: '\n",
    "print scores\n",
    "\n",
    "# Predict on new data\n",
    "y_rf_outcome = class_rf.predict(X_test_outcome.T)\n",
    "\n",
    "# calculate the accuracy score of the classifier \n",
    "from sklearn.metrics import accuracy_score\n",
    "print 'Prediction accuracy score on the test data: ', accuracy_score(y_test_outcome, y_rf_outcome) "
   ]
  },
  {
   "cell_type": "code",
   "execution_count": 17,
   "metadata": {},
   "outputs": [
    {
     "data": {
      "text/plain": [
       "Text(0.5,1,'Precision-Recall curve: AP=0.90')"
      ]
     },
     "execution_count": 17,
     "metadata": {},
     "output_type": "execute_result"
    },
    {
     "data": {
      "image/png": "[encoded data removed]",
      "text/plain": [
       "<Figure size 432x288 with 1 Axes>"
      ]
     },
     "metadata": {},
     "output_type": "display_data"
    }
   ],
   "source": [
    "from sklearn.metrics import precision_recall_curve\n",
    "import matplotlib.pyplot as plt\n",
    "from sklearn.utils.fixes import signature\n",
    "\n",
    "precision, recall, _ = precision_recall_curve(y_test_outcome, y_rf_outcome)\n",
    "\n",
    "# In matplotlib < 1.5, plt.fill_between does not have a 'step' argument\n",
    "step_kwargs = ({'step': 'post'}\n",
    "               if 'step' in signature(plt.fill_between).parameters\n",
    "               else {})\n",
    "plt.step(recall, precision, color='b', alpha=0.3,\n",
    "         where='post')\n",
    "\n",
    "#plot the baseline\n",
    "perc=float(y_test_outcome.count(1))/len(y_test_outcome)\n",
    "plt.fill_between(recall, precision, alpha=0.2, color='b', **step_kwargs)\n",
    "plt.axhline(y=perc, color='r', linestyle='--')\n",
    "\n",
    "plt.xlabel('Recall')\n",
    "plt.ylabel('Precision')\n",
    "plt.ylim([0.0, 1.05])\n",
    "plt.xlim([0.0, 1.0])\n",
    "plt.title('Precision-Recall curve: AP={0:0.2f}'.format(\n",
    "          average_precision))"
   ]
  }
 ],
 "metadata": {
  "kernelspec": {
   "display_name": "Python 2",
   "language": "python",
   "name": "python2"
  },
  "language_info": {
   "codemirror_mode": {
    "name": "ipython",
    "version": 2
   },
   "file_extension": ".py",
   "mimetype": "text/x-python",
   "name": "python",
   "nbconvert_exporter": "python",
   "pygments_lexer": "ipython2",
   "version": "2.7.6"
  }
 },
 "nbformat": 4,
 "nbformat_minor": 2
}
