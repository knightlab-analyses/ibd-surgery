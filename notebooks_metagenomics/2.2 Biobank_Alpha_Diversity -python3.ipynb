{
 "cells": [
  {
   "cell_type": "code",
   "execution_count": 4,
   "metadata": {},
   "outputs": [
    {
     "name": "stderr",
     "output_type": "stream",
     "text": [
      "/usr/lib/python3.4/importlib/_bootstrap.py:321: RuntimeWarning: numpy.dtype size changed, may indicate binary incompatibility. Expected 96, got 88\n",
      "  return f(*args, **kwds)\n",
      "/usr/lib/python3.4/importlib/_bootstrap.py:321: RuntimeWarning: numpy.dtype size changed, may indicate binary incompatibility. Expected 96, got 88\n",
      "  return f(*args, **kwds)\n"
     ]
    }
   ],
   "source": [
    "import numpy as np\n",
    "import scipy \n",
    "import skbio\n",
    "import pandas as pd\n",
    "import os\n",
    "%matplotlib inline\n",
    "import matplotlib\n",
    "matplotlib.rcParams['pdf.fonttype'] = 42\n",
    "matplotlib.rcParams['ps.fonttype'] = 42"
   ]
  },
  {
   "cell_type": "markdown",
   "metadata": {},
   "source": [
    "# Calculate alpha diversity \n"
   ]
  },
  {
   "cell_type": "markdown",
   "metadata": {},
   "source": [
    "## Calculate alpha diversity using species abundance produced by metaphlan2"
   ]
  },
  {
   "cell_type": "code",
   "execution_count": 6,
   "metadata": {},
   "outputs": [],
   "source": [
    "#load metaphlan2 species abundance\n",
    "\n",
    "df_species=pd.read_csv('./data/metaphlan2_species_level_abundance_classified.csv',index_col=0)\n",
    "df_species=df_species.fillna(value=0)\n",
    "df_species=df_species.drop('PLCL19621_1',1)\n",
    "\n",
    "#load the species abundance profile with species name abundance replaced by taxonID\n",
    "# This is to ensure the consistency between phylo tree and abundance profile\n",
    "df_spe_taxID=pd.read_csv('./data/metaphlan2_species_abundance_taxonID.csv',index_col=0)\n",
    "df_spe_taxID=df_spe_taxID.fillna(value=0)\n",
    "df_spe_taxID=df_spe_taxID.drop('PLCL19621_1',1)"
   ]
  },
  {
   "cell_type": "code",
   "execution_count": 7,
   "metadata": {},
   "outputs": [],
   "source": [
    "##load metadata \n",
    "df_meta=pd.read_csv('./data/metadata_updated_filtered_201909.csv',index_col=0)\n",
    "df_meta\n",
    "df_meta=df_meta.fillna(value=100)\n",
    "\n",
    "#create dictionary that stores patients information\n",
    "dic_subtype=dict(zip(df_meta.index,df_meta.disease))\n",
    "dic_disease_more=dict(zip(df_meta.index,df_meta.disease_subtype))\n",
    "dic_complication=dict(zip(df_meta.index, df_meta.crohns_disease_behavior))\n",
    "dic_sample_host=dict(zip(list(df_meta.index),list(df_meta.host_id)))\n",
    "dic_surgery=dict(zip(list(df_meta.index),list(df_meta.surgery_type)))\n",
    "dic_activity=dict(zip(list(df_meta.index),list(df_meta.endoscopic_activity)))\n",
    "\n",
    "#additional dictionary to stratify patients\n",
    "dic_cat1=dict(zip(df_meta.index,df_meta.category1))\n",
    "dic_cat2=dict(zip(df_meta.index,df_meta.category2))\n",
    "dic_cat3=dict(zip(df_meta.index,df_meta.category3))"
   ]
  },
  {
   "cell_type": "code",
   "execution_count": 8,
   "metadata": {},
   "outputs": [
    {
     "name": "stdout",
     "output_type": "stream",
     "text": [
      "Number of samples in colectomy group:  44\n",
      "Number of samples in ilealcolonic group:  46\n",
      "Number of samples in no surgery group:  210\n"
     ]
    }
   ],
   "source": [
    "## split the patients into UC, CD and with/without surgery group \n",
    "colectomy=[]\n",
    "ilealcolonic=[]\n",
    "sugery_none=[]\n",
    "\n",
    "for i in df_species.columns: \n",
    "    if i in dic_subtype.keys(): \n",
    "        if dic_surgery[i]=='colectomy' or dic_surgery[i]=='colectomy with ileorectal' or dic_surgery[i]=='colectomy with ileostomy': \n",
    "            colectomy.append(i)\n",
    "        elif dic_surgery[i]=='none': \n",
    "            sugery_none.append(i)\n",
    "        else: \n",
    "            ilealcolonic.append(i)\n",
    "            \n",
    "print ('Number of samples in colectomy group: ', len(colectomy))\n",
    "print ('Number of samples in ilealcolonic group: ',len(ilealcolonic))\n",
    "print ('Number of samples in no surgery group: ',len(sugery_none))\n"
   ]
  },
  {
   "cell_type": "markdown",
   "metadata": {},
   "source": [
    "## alpha diversity for non-phylogenetic metrics"
   ]
  },
  {
   "cell_type": "code",
   "execution_count": 9,
   "metadata": {},
   "outputs": [
    {
     "name": "stdout",
     "output_type": "stream",
     "text": [
      "Mean alpha diversity of all samples (observed OTU): \n",
      "54.46\n",
      "Mean alpha diversity of all samples (shannon): \n",
      "3.2108061723247414\n"
     ]
    }
   ],
   "source": [
    "from skbio.diversity import alpha_diversity\n",
    "\n",
    "#preprocess data - alpha diversity function only takes in integers\n",
    "df=df_species.transpose()\n",
    "data_pre=100000*pd.DataFrame.as_matrix(df_species.transpose())\n",
    "data=data_pre.astype(int)\n",
    "ids=df.index\n",
    "\n",
    "#observed OTU\n",
    "adiv_otus = alpha_diversity('observed_otus', data, ids)\n",
    "print ('Mean alpha diversity of all samples (observed OTU): ' )\n",
    "print (str(np.mean(list(adiv_otus.data))))\n",
    "\n",
    "#shannon\n",
    "adiv_shannon = alpha_diversity('shannon', data, ids)\n",
    "print ('Mean alpha diversity of all samples (shannon): ' )\n",
    "print (str(np.mean(list(adiv_shannon.data))))\n"
   ]
  },
  {
   "cell_type": "markdown",
   "metadata": {},
   "source": [
    "## Alpha diversity with phylogenetic metric: Faith"
   ]
  },
  {
   "cell_type": "code",
   "execution_count": 10,
   "metadata": {},
   "outputs": [
    {
     "name": "stdout",
     "output_type": "stream",
     "text": [
      "Mean alpha diversity of all samples (Faith): \n",
      "107.30666666666667\n"
     ]
    }
   ],
   "source": [
    "from skbio import TreeNode\n",
    "from io import StringIO\n",
    "\n",
    "# load phylogenetic tree built in the preprocessing notebook\n",
    "with open('./data/phylotree_sandborn.nw', 'r') as myfile:\n",
    "    data=myfile.read()\n",
    "tree=TreeNode.read(StringIO(data))\n",
    "otuid=[str(i) for i in df.columns]\n",
    "\n",
    "\n",
    "#preprocess data - alpha diversity function only takes in integers\n",
    "df=df_spe_taxID.transpose()\n",
    "data_pre=100000*pd.DataFrame.as_matrix(df_spe_taxID.transpose())\n",
    "data=data_pre.astype(int)\n",
    "ids=df.index\n",
    "otuid=[str(i) for i in df.columns]\n",
    "\n",
    "adiv_faith = alpha_diversity('faith_pd', data,ids=list(ids),otu_ids=otuid, tree=tree)\n",
    "print ('Mean alpha diversity of all samples (Faith): ' )\n",
    "print (str(np.mean(list(adiv_faith.data))))\n",
    "\n",
    "## save alpha diversity into a csv file \n",
    "#adiv_faith.to_csv('../data/Sandborn_data/metadata/Alpha_diversity_faith.csv')"
   ]
  },
  {
   "cell_type": "code",
   "execution_count": 40,
   "metadata": {
    "collapsed": true
   },
   "outputs": [
    {
     "data": {
      "text/html": [
       "<div>\n",
       "<style scoped>\n",
       "    .dataframe tbody tr th:only-of-type {\n",
       "        vertical-align: middle;\n",
       "    }\n",
       "\n",
       "    .dataframe tbody tr th {\n",
       "        vertical-align: top;\n",
       "    }\n",
       "\n",
       "    .dataframe thead th {\n",
       "        text-align: right;\n",
       "    }\n",
       "</style>\n",
       "<table border=\"1\" class=\"dataframe\">\n",
       "  <thead>\n",
       "    <tr style=\"text-align: right;\">\n",
       "      <th></th>\n",
       "      <th>adiv</th>\n",
       "      <th>surgery</th>\n",
       "    </tr>\n",
       "  </thead>\n",
       "  <tbody>\n",
       "    <tr>\n",
       "      <th>PLCL20541</th>\n",
       "      <td>27.0</td>\n",
       "      <td>Colectomy</td>\n",
       "    </tr>\n",
       "    <tr>\n",
       "      <th>PLCL22214</th>\n",
       "      <td>65.0</td>\n",
       "      <td>Colectomy</td>\n",
       "    </tr>\n",
       "    <tr>\n",
       "      <th>PLCL21552</th>\n",
       "      <td>156.0</td>\n",
       "      <td>No surgery</td>\n",
       "    </tr>\n",
       "    <tr>\n",
       "      <th>PLCL18894</th>\n",
       "      <td>103.0</td>\n",
       "      <td>No surgery</td>\n",
       "    </tr>\n",
       "    <tr>\n",
       "      <th>PLCL18890</th>\n",
       "      <td>109.0</td>\n",
       "      <td>No surgery</td>\n",
       "    </tr>\n",
       "    <tr>\n",
       "      <th>PLCL18891</th>\n",
       "      <td>119.0</td>\n",
       "      <td>Ileocolonic</td>\n",
       "    </tr>\n",
       "    <tr>\n",
       "      <th>PLCL21485</th>\n",
       "      <td>106.0</td>\n",
       "      <td>No surgery</td>\n",
       "    </tr>\n",
       "    <tr>\n",
       "      <th>PLCL18893</th>\n",
       "      <td>177.0</td>\n",
       "      <td>No surgery</td>\n",
       "    </tr>\n",
       "    <tr>\n",
       "      <th>PLCL20145</th>\n",
       "      <td>122.0</td>\n",
       "      <td>No surgery</td>\n",
       "    </tr>\n",
       "    <tr>\n",
       "      <th>PLCL20144</th>\n",
       "      <td>115.0</td>\n",
       "      <td>No surgery</td>\n",
       "    </tr>\n",
       "    <tr>\n",
       "      <th>PLCL20141</th>\n",
       "      <td>116.0</td>\n",
       "      <td>Colectomy</td>\n",
       "    </tr>\n",
       "    <tr>\n",
       "      <th>PLCL19631</th>\n",
       "      <td>60.0</td>\n",
       "      <td>Colectomy</td>\n",
       "    </tr>\n",
       "    <tr>\n",
       "      <th>PLCL23458</th>\n",
       "      <td>98.0</td>\n",
       "      <td>Colectomy</td>\n",
       "    </tr>\n",
       "    <tr>\n",
       "      <th>PLCL24883_1</th>\n",
       "      <td>77.0</td>\n",
       "      <td>Colectomy</td>\n",
       "    </tr>\n",
       "    <tr>\n",
       "      <th>PLCL23022</th>\n",
       "      <td>100.0</td>\n",
       "      <td>No surgery</td>\n",
       "    </tr>\n",
       "    <tr>\n",
       "      <th>PLCL23394</th>\n",
       "      <td>131.0</td>\n",
       "      <td>No surgery</td>\n",
       "    </tr>\n",
       "    <tr>\n",
       "      <th>PLCL21437</th>\n",
       "      <td>134.0</td>\n",
       "      <td>No surgery</td>\n",
       "    </tr>\n",
       "    <tr>\n",
       "      <th>PLCL19730</th>\n",
       "      <td>139.0</td>\n",
       "      <td>No surgery</td>\n",
       "    </tr>\n",
       "    <tr>\n",
       "      <th>PLCL23075</th>\n",
       "      <td>27.0</td>\n",
       "      <td>Colectomy</td>\n",
       "    </tr>\n",
       "    <tr>\n",
       "      <th>PLCL20116</th>\n",
       "      <td>108.0</td>\n",
       "      <td>No surgery</td>\n",
       "    </tr>\n",
       "    <tr>\n",
       "      <th>PLCL20947</th>\n",
       "      <td>149.0</td>\n",
       "      <td>No surgery</td>\n",
       "    </tr>\n",
       "    <tr>\n",
       "      <th>PLCL22328_1</th>\n",
       "      <td>99.0</td>\n",
       "      <td>No surgery</td>\n",
       "    </tr>\n",
       "    <tr>\n",
       "      <th>PLCL22194</th>\n",
       "      <td>152.0</td>\n",
       "      <td>Colectomy</td>\n",
       "    </tr>\n",
       "    <tr>\n",
       "      <th>PLCL17523</th>\n",
       "      <td>118.0</td>\n",
       "      <td>No surgery</td>\n",
       "    </tr>\n",
       "    <tr>\n",
       "      <th>PLCL18800</th>\n",
       "      <td>148.0</td>\n",
       "      <td>No surgery</td>\n",
       "    </tr>\n",
       "    <tr>\n",
       "      <th>PLCL17524</th>\n",
       "      <td>130.0</td>\n",
       "      <td>No surgery</td>\n",
       "    </tr>\n",
       "    <tr>\n",
       "      <th>PLCL25785_1</th>\n",
       "      <td>47.0</td>\n",
       "      <td>Colectomy</td>\n",
       "    </tr>\n",
       "    <tr>\n",
       "      <th>PLCL17528</th>\n",
       "      <td>109.0</td>\n",
       "      <td>Ileocolonic</td>\n",
       "    </tr>\n",
       "    <tr>\n",
       "      <th>PLCL17720</th>\n",
       "      <td>143.0</td>\n",
       "      <td>No surgery</td>\n",
       "    </tr>\n",
       "    <tr>\n",
       "      <th>PLCL20431</th>\n",
       "      <td>109.0</td>\n",
       "      <td>No surgery</td>\n",
       "    </tr>\n",
       "    <tr>\n",
       "      <th>...</th>\n",
       "      <td>...</td>\n",
       "      <td>...</td>\n",
       "    </tr>\n",
       "    <tr>\n",
       "      <th>PLCL21559</th>\n",
       "      <td>146.0</td>\n",
       "      <td>No surgery</td>\n",
       "    </tr>\n",
       "    <tr>\n",
       "      <th>PLCL21491</th>\n",
       "      <td>136.0</td>\n",
       "      <td>No surgery</td>\n",
       "    </tr>\n",
       "    <tr>\n",
       "      <th>PLCL19603</th>\n",
       "      <td>131.0</td>\n",
       "      <td>No surgery</td>\n",
       "    </tr>\n",
       "    <tr>\n",
       "      <th>PLCL20960</th>\n",
       "      <td>133.0</td>\n",
       "      <td>No surgery</td>\n",
       "    </tr>\n",
       "    <tr>\n",
       "      <th>PLCL20134</th>\n",
       "      <td>112.0</td>\n",
       "      <td>No surgery</td>\n",
       "    </tr>\n",
       "    <tr>\n",
       "      <th>PLCL20099</th>\n",
       "      <td>140.0</td>\n",
       "      <td>Ileocolonic</td>\n",
       "    </tr>\n",
       "    <tr>\n",
       "      <th>PLCL19604</th>\n",
       "      <td>66.0</td>\n",
       "      <td>Colectomy</td>\n",
       "    </tr>\n",
       "    <tr>\n",
       "      <th>PLCL21528</th>\n",
       "      <td>37.0</td>\n",
       "      <td>No surgery</td>\n",
       "    </tr>\n",
       "    <tr>\n",
       "      <th>PLCL25744_1</th>\n",
       "      <td>114.0</td>\n",
       "      <td>No surgery</td>\n",
       "    </tr>\n",
       "    <tr>\n",
       "      <th>PLCL21549</th>\n",
       "      <td>139.0</td>\n",
       "      <td>Colectomy</td>\n",
       "    </tr>\n",
       "    <tr>\n",
       "      <th>PLCL22332</th>\n",
       "      <td>99.0</td>\n",
       "      <td>No surgery</td>\n",
       "    </tr>\n",
       "    <tr>\n",
       "      <th>PLCL24922_1</th>\n",
       "      <td>61.0</td>\n",
       "      <td>Ileocolonic</td>\n",
       "    </tr>\n",
       "    <tr>\n",
       "      <th>PLCL18230</th>\n",
       "      <td>86.0</td>\n",
       "      <td>No surgery</td>\n",
       "    </tr>\n",
       "    <tr>\n",
       "      <th>PLCL25772_1</th>\n",
       "      <td>124.0</td>\n",
       "      <td>No surgery</td>\n",
       "    </tr>\n",
       "    <tr>\n",
       "      <th>PLCL19689</th>\n",
       "      <td>102.0</td>\n",
       "      <td>Ileocolonic</td>\n",
       "    </tr>\n",
       "    <tr>\n",
       "      <th>PLCL18236</th>\n",
       "      <td>92.0</td>\n",
       "      <td>No surgery</td>\n",
       "    </tr>\n",
       "    <tr>\n",
       "      <th>PLCL19580</th>\n",
       "      <td>141.0</td>\n",
       "      <td>No surgery</td>\n",
       "    </tr>\n",
       "    <tr>\n",
       "      <th>PLCL23041</th>\n",
       "      <td>67.0</td>\n",
       "      <td>Colectomy</td>\n",
       "    </tr>\n",
       "    <tr>\n",
       "      <th>PLCL18755</th>\n",
       "      <td>114.0</td>\n",
       "      <td>No surgery</td>\n",
       "    </tr>\n",
       "    <tr>\n",
       "      <th>PLCL20936</th>\n",
       "      <td>69.0</td>\n",
       "      <td>No surgery</td>\n",
       "    </tr>\n",
       "    <tr>\n",
       "      <th>PLCL20155</th>\n",
       "      <td>99.0</td>\n",
       "      <td>No surgery</td>\n",
       "    </tr>\n",
       "    <tr>\n",
       "      <th>PLCL21429</th>\n",
       "      <td>83.0</td>\n",
       "      <td>No surgery</td>\n",
       "    </tr>\n",
       "    <tr>\n",
       "      <th>PLCL23160</th>\n",
       "      <td>91.0</td>\n",
       "      <td>Ileocolonic</td>\n",
       "    </tr>\n",
       "    <tr>\n",
       "      <th>PLCL22327_1</th>\n",
       "      <td>130.0</td>\n",
       "      <td>No surgery</td>\n",
       "    </tr>\n",
       "    <tr>\n",
       "      <th>PLCL18839</th>\n",
       "      <td>139.0</td>\n",
       "      <td>No surgery</td>\n",
       "    </tr>\n",
       "    <tr>\n",
       "      <th>PLCL23044</th>\n",
       "      <td>127.0</td>\n",
       "      <td>No surgery</td>\n",
       "    </tr>\n",
       "    <tr>\n",
       "      <th>PLCL21427</th>\n",
       "      <td>97.0</td>\n",
       "      <td>No surgery</td>\n",
       "    </tr>\n",
       "    <tr>\n",
       "      <th>PLCL22135</th>\n",
       "      <td>144.0</td>\n",
       "      <td>No surgery</td>\n",
       "    </tr>\n",
       "    <tr>\n",
       "      <th>PLCL18832</th>\n",
       "      <td>142.0</td>\n",
       "      <td>No surgery</td>\n",
       "    </tr>\n",
       "    <tr>\n",
       "      <th>PLCL19283</th>\n",
       "      <td>80.0</td>\n",
       "      <td>No surgery</td>\n",
       "    </tr>\n",
       "  </tbody>\n",
       "</table>\n",
       "<p>300 rows × 2 columns</p>\n",
       "</div>"
      ],
      "text/plain": [
       "              adiv      surgery\n",
       "PLCL20541     27.0    Colectomy\n",
       "PLCL22214     65.0    Colectomy\n",
       "PLCL21552    156.0   No surgery\n",
       "PLCL18894    103.0   No surgery\n",
       "PLCL18890    109.0   No surgery\n",
       "PLCL18891    119.0  Ileocolonic\n",
       "PLCL21485    106.0   No surgery\n",
       "PLCL18893    177.0   No surgery\n",
       "PLCL20145    122.0   No surgery\n",
       "PLCL20144    115.0   No surgery\n",
       "PLCL20141    116.0    Colectomy\n",
       "PLCL19631     60.0    Colectomy\n",
       "PLCL23458     98.0    Colectomy\n",
       "PLCL24883_1   77.0    Colectomy\n",
       "PLCL23022    100.0   No surgery\n",
       "PLCL23394    131.0   No surgery\n",
       "PLCL21437    134.0   No surgery\n",
       "PLCL19730    139.0   No surgery\n",
       "PLCL23075     27.0    Colectomy\n",
       "PLCL20116    108.0   No surgery\n",
       "PLCL20947    149.0   No surgery\n",
       "PLCL22328_1   99.0   No surgery\n",
       "PLCL22194    152.0    Colectomy\n",
       "PLCL17523    118.0   No surgery\n",
       "PLCL18800    148.0   No surgery\n",
       "PLCL17524    130.0   No surgery\n",
       "PLCL25785_1   47.0    Colectomy\n",
       "PLCL17528    109.0  Ileocolonic\n",
       "PLCL17720    143.0   No surgery\n",
       "PLCL20431    109.0   No surgery\n",
       "...            ...          ...\n",
       "PLCL21559    146.0   No surgery\n",
       "PLCL21491    136.0   No surgery\n",
       "PLCL19603    131.0   No surgery\n",
       "PLCL20960    133.0   No surgery\n",
       "PLCL20134    112.0   No surgery\n",
       "PLCL20099    140.0  Ileocolonic\n",
       "PLCL19604     66.0    Colectomy\n",
       "PLCL21528     37.0   No surgery\n",
       "PLCL25744_1  114.0   No surgery\n",
       "PLCL21549    139.0    Colectomy\n",
       "PLCL22332     99.0   No surgery\n",
       "PLCL24922_1   61.0  Ileocolonic\n",
       "PLCL18230     86.0   No surgery\n",
       "PLCL25772_1  124.0   No surgery\n",
       "PLCL19689    102.0  Ileocolonic\n",
       "PLCL18236     92.0   No surgery\n",
       "PLCL19580    141.0   No surgery\n",
       "PLCL23041     67.0    Colectomy\n",
       "PLCL18755    114.0   No surgery\n",
       "PLCL20936     69.0   No surgery\n",
       "PLCL20155     99.0   No surgery\n",
       "PLCL21429     83.0   No surgery\n",
       "PLCL23160     91.0  Ileocolonic\n",
       "PLCL22327_1  130.0   No surgery\n",
       "PLCL18839    139.0   No surgery\n",
       "PLCL23044    127.0   No surgery\n",
       "PLCL21427     97.0   No surgery\n",
       "PLCL22135    144.0   No surgery\n",
       "PLCL18832    142.0   No surgery\n",
       "PLCL19283     80.0   No surgery\n",
       "\n",
       "[300 rows x 2 columns]"
      ]
     },
     "execution_count": 40,
     "metadata": {},
     "output_type": "execute_result"
    }
   ],
   "source": [
    "#create a dataframe \n",
    "\n",
    "df_adiv=pd.DataFrame(data=adiv_faith,columns=['adiv'])\n",
    "\n",
    "surgery_list=[]\n",
    "sample_keep=[]\n",
    "for i in df_adiv.index: \n",
    "    if i in dic_subtype.keys(): \n",
    "        sample_keep.append(i)\n",
    "        if dic_surgery[i]=='colectomy' or dic_surgery[i]=='colectomy with ileorectal' or dic_surgery[i]=='colectomy with ileostomy': \n",
    "            surgery_list.append('Colectomy')\n",
    "        elif dic_surgery[i]=='none': \n",
    "            surgery_list.append('No surgery')\n",
    "        else: \n",
    "            surgery_list.append('Ileocolonic')\n",
    "            \n",
    "df_adiv=df_adiv.loc[sample_keep]\n",
    "df_adiv['surgery']=surgery_list\n",
    "df_adiv"
   ]
  },
  {
   "cell_type": "code",
   "execution_count": 11,
   "metadata": {},
   "outputs": [
    {
     "name": "stdout",
     "output_type": "stream",
     "text": [
      "Mean alpha diversity of no surgery samples (Faith): \n",
      "117.01428571428572\n",
      "Mean alpha diversity of ilealcolonic samples (Faith): \n",
      "89.73913043478261\n",
      "Mean alpha diversity of colectomy samples (Faith): \n",
      "79.3409090909091\n"
     ]
    },
    {
     "data": {
      "text/plain": [
       "MannwhitneyuResult(statistic=3769.0, pvalue=7.849412989023698e-17)"
      ]
     },
     "execution_count": 11,
     "metadata": {},
     "output_type": "execute_result"
    }
   ],
   "source": [
    "# extract faith diversity for subgroups separated by surgery subtype\n",
    "from scipy.stats import mannwhitneyu\n",
    "\n",
    "df_alpha_colectomy=adiv_faith.loc[colectomy]\n",
    "df_alpha_ilealcolonic=adiv_faith.loc[ilealcolonic]\n",
    "df_alpha_no=adiv_faith.loc[sugery_none]\n",
    "\n",
    "print ('Mean alpha diversity of no surgery samples (Faith): ' )\n",
    "print (str(np.mean(list(df_alpha_no.data))))\n",
    "print ('Mean alpha diversity of ilealcolonic samples (Faith): ' )\n",
    "print (str(np.mean(list(df_alpha_ilealcolonic.data))))\n",
    "print ('Mean alpha diversity of colectomy samples (Faith): ' )\n",
    "print (str(np.mean(list(df_alpha_colectomy.data))))\n",
    "mannwhitneyu(list(df_alpha_no),list(df_alpha_ilealcolonic)+list(df_alpha_colectomy))"
   ]
  },
  {
   "cell_type": "code",
   "execution_count": 51,
   "metadata": {},
   "outputs": [
    {
     "data": {
      "image/png": "[encoded data removed]",
      "text/plain": [
       "<Figure size 648x432 with 1 Axes>"
      ]
     },
     "metadata": {},
     "output_type": "display_data"
    }
   ],
   "source": [
    "# solids for surgery subtypes\n",
    "\n",
    "import matplotlib.pyplot as plt\n",
    "import seaborn as sns\n",
    "\n",
    "colors = {\n",
    "     'Ileocolonic': '#fc8d62',\n",
    "     'Colectomy': '#8da0cb',\n",
    "     'No surgery': '#66c2a5',\n",
    "}\n",
    "\n",
    "\n",
    "fig, ax = plt.subplots(figsize=(9, 6))\n",
    "\n",
    "sns.boxplot(x='surgery', y='adiv',\n",
    "             data=df_adiv, ax=ax,\n",
    "             order=['No surgery', 'Ileocolonic', 'Colectomy'],\n",
    "             palette=colors)\n",
    "\n",
    "fig.savefig('../../../data/Sandborn_data/figures/Fig1C_1121.pdf')\n",
    "fig.savefig('../../../data/Sandborn_data/figures/Fig1C_1121.svg')"
   ]
  },
  {
   "cell_type": "code",
   "execution_count": 44,
   "metadata": {},
   "outputs": [
    {
     "name": "stdout",
     "output_type": "stream",
     "text": [
      "KruskalResult(statistic=69.19572337240452, pvalue=9.426263679079968e-16)\n"
     ]
    }
   ],
   "source": [
    "## Test the the statistical significance between 3 subgroups \n",
    "\n",
    "from scipy.stats import kruskal\n",
    "print (kruskal(df_alpha_no,df_alpha_ilealcolonic,df_alpha_colectomy))\n"
   ]
  },
  {
   "cell_type": "markdown",
   "metadata": {},
   "source": [
    "### Split the subgroups by endoscopic activity"
   ]
  },
  {
   "cell_type": "code",
   "execution_count": 39,
   "metadata": {},
   "outputs": [],
   "source": [
    "active_surgery=[]\n",
    "inactive_surgery=[]\n",
    "active_no=[]\n",
    "inactive_no=[]\n",
    "\n",
    "for i in df_spe_taxID: \n",
    "    if dic_activity[i]=='active': \n",
    "        if dic_surgery[i]=='none': \n",
    "            active_no.append(i)\n",
    "        else: \n",
    "            active_surgery.append(i)\n",
    "    elif dic_activity[i]=='inactive': \n",
    "        if dic_surgery[i]=='none': \n",
    "            inactive_no.append(i)\n",
    "        else: \n",
    "            inactive_surgery.append(i)\n",
    "\n",
    "# extract the alpha diversity \n",
    "\n",
    "alpha_active_no=adiv_faith.loc[active_no]\n",
    "alpha_inactive_no=adiv_faith.loc[inactive_no]\n",
    "alpha_active_surg=adiv_faith.loc[active_surgery]\n",
    "alpha_inactive_surg=adiv_faith.loc[inactive_surgery]\n"
   ]
  },
  {
   "cell_type": "code",
   "execution_count": 52,
   "metadata": {},
   "outputs": [
    {
     "name": "stdout",
     "output_type": "stream",
     "text": [
      "MannwhitneyuResult(statistic=382.0, pvalue=0.3660525603860326)\n",
      "MannwhitneyuResult(statistic=1663.0, pvalue=0.474739344962557)\n"
     ]
    }
   ],
   "source": [
    "print (mannwhitneyu(active_surgery,inactive_surgery))\n",
    "print (mannwhitneyu(active_no,inactive_no))\n"
   ]
  },
  {
   "cell_type": "code",
   "execution_count": 43,
   "metadata": {},
   "outputs": [
    {
     "name": "stderr",
     "output_type": "stream",
     "text": [
      "/usr/local/lib/python3.4/dist-packages/numpy/core/fromnumeric.py:52: FutureWarning: reshape is deprecated and will raise in a subsequent release. Please use .values.reshape(...) instead\n",
      "  return getattr(obj, method)(*args, **kwds)\n"
     ]
    },
    {
     "data": {
      "text/plain": [
       "(0.5, 4)"
      ]
     },
     "execution_count": 43,
     "metadata": {},
     "output_type": "execute_result"
    },
    {
     "data": {
      "image/png": "[encoded data removed]",
      "text/plain": [
       "<Figure size 648x432 with 1 Axes>"
      ]
     },
     "metadata": {},
     "output_type": "display_data"
    }
   ],
   "source": [
    "## plot faith alpha diversity for these  different groups \n",
    "\n",
    "import matplotlib\n",
    "from matplotlib import pyplot as plt \n",
    "\n",
    "data_to_plot=[alpha_active_no,alpha_active_surg]\n",
    "data_to_plot2=[alpha_inactive_no,alpha_inactive_surg]\n",
    "\n",
    "matplotlib.rcParams.update({'font.size': 15})\n",
    "fig = plt.figure(1, figsize=(9, 6))\n",
    "ax = fig.add_subplot(111)\n",
    "bp1=ax.boxplot(data_to_plot,positions=[1,3], patch_artist=True) \n",
    "bp2=ax.boxplot(data_to_plot2,positions=[1.5,3.5]) \n",
    "\n",
    "# fill with colors\n",
    "colors = ['#66c2a5', '#fc8d62']\n",
    "for bplot in (bp1, bp2):\n",
    "    for patch, color in zip(bplot['boxes'], colors):\n",
    "        patch.set_color(color)\n",
    "    \n",
    "ax.legend([bp1[\"boxes\"][0], bp2[\"boxes\"][0]], ['active', 'inactive'], loc='upper right')\n",
    "\n",
    "ax.set_xticklabels(['No surgery', 'surgery'])\n",
    "ax.set_ylabel('alpha diversity (Faith) vs activity ')\n",
    "ax.set_xlim(0.5,4)"
   ]
  },
  {
   "cell_type": "markdown",
   "metadata": {},
   "source": [
    "### Separate by both disease and surgery status"
   ]
  },
  {
   "cell_type": "code",
   "execution_count": 47,
   "metadata": {
    "collapsed": true
   },
   "outputs": [
    {
     "data": {
      "text/html": [
       "<div>\n",
       "<style scoped>\n",
       "    .dataframe tbody tr th:only-of-type {\n",
       "        vertical-align: middle;\n",
       "    }\n",
       "\n",
       "    .dataframe tbody tr th {\n",
       "        vertical-align: top;\n",
       "    }\n",
       "\n",
       "    .dataframe thead th {\n",
       "        text-align: right;\n",
       "    }\n",
       "</style>\n",
       "<table border=\"1\" class=\"dataframe\">\n",
       "  <thead>\n",
       "    <tr style=\"text-align: right;\">\n",
       "      <th></th>\n",
       "      <th>adiv</th>\n",
       "      <th>surgery</th>\n",
       "      <th>Surgery</th>\n",
       "      <th>Disease</th>\n",
       "    </tr>\n",
       "  </thead>\n",
       "  <tbody>\n",
       "    <tr>\n",
       "      <th>PLCL20541</th>\n",
       "      <td>27.0</td>\n",
       "      <td>Colectomy</td>\n",
       "      <td>Surgery</td>\n",
       "      <td>cd</td>\n",
       "    </tr>\n",
       "    <tr>\n",
       "      <th>PLCL22214</th>\n",
       "      <td>65.0</td>\n",
       "      <td>Colectomy</td>\n",
       "      <td>Surgery</td>\n",
       "      <td>cd</td>\n",
       "    </tr>\n",
       "    <tr>\n",
       "      <th>PLCL21552</th>\n",
       "      <td>156.0</td>\n",
       "      <td>No surgery</td>\n",
       "      <td>No surgery</td>\n",
       "      <td>cd</td>\n",
       "    </tr>\n",
       "    <tr>\n",
       "      <th>PLCL18894</th>\n",
       "      <td>103.0</td>\n",
       "      <td>No surgery</td>\n",
       "      <td>No surgery</td>\n",
       "      <td>uc</td>\n",
       "    </tr>\n",
       "    <tr>\n",
       "      <th>PLCL18890</th>\n",
       "      <td>109.0</td>\n",
       "      <td>No surgery</td>\n",
       "      <td>No surgery</td>\n",
       "      <td>cd</td>\n",
       "    </tr>\n",
       "    <tr>\n",
       "      <th>PLCL18891</th>\n",
       "      <td>119.0</td>\n",
       "      <td>Ileocolonic</td>\n",
       "      <td>Surgery</td>\n",
       "      <td>cd</td>\n",
       "    </tr>\n",
       "    <tr>\n",
       "      <th>PLCL21485</th>\n",
       "      <td>106.0</td>\n",
       "      <td>No surgery</td>\n",
       "      <td>No surgery</td>\n",
       "      <td>cd</td>\n",
       "    </tr>\n",
       "    <tr>\n",
       "      <th>PLCL18893</th>\n",
       "      <td>177.0</td>\n",
       "      <td>No surgery</td>\n",
       "      <td>No surgery</td>\n",
       "      <td>cd</td>\n",
       "    </tr>\n",
       "    <tr>\n",
       "      <th>PLCL20145</th>\n",
       "      <td>122.0</td>\n",
       "      <td>No surgery</td>\n",
       "      <td>No surgery</td>\n",
       "      <td>cd</td>\n",
       "    </tr>\n",
       "    <tr>\n",
       "      <th>PLCL20144</th>\n",
       "      <td>115.0</td>\n",
       "      <td>No surgery</td>\n",
       "      <td>No surgery</td>\n",
       "      <td>cd</td>\n",
       "    </tr>\n",
       "    <tr>\n",
       "      <th>PLCL20141</th>\n",
       "      <td>116.0</td>\n",
       "      <td>Colectomy</td>\n",
       "      <td>Surgery</td>\n",
       "      <td>cd</td>\n",
       "    </tr>\n",
       "    <tr>\n",
       "      <th>PLCL19631</th>\n",
       "      <td>60.0</td>\n",
       "      <td>Colectomy</td>\n",
       "      <td>Surgery</td>\n",
       "      <td>cd</td>\n",
       "    </tr>\n",
       "    <tr>\n",
       "      <th>PLCL23458</th>\n",
       "      <td>98.0</td>\n",
       "      <td>Colectomy</td>\n",
       "      <td>Surgery</td>\n",
       "      <td>cd</td>\n",
       "    </tr>\n",
       "    <tr>\n",
       "      <th>PLCL24883_1</th>\n",
       "      <td>77.0</td>\n",
       "      <td>Colectomy</td>\n",
       "      <td>Surgery</td>\n",
       "      <td>cd</td>\n",
       "    </tr>\n",
       "    <tr>\n",
       "      <th>PLCL23022</th>\n",
       "      <td>100.0</td>\n",
       "      <td>No surgery</td>\n",
       "      <td>No surgery</td>\n",
       "      <td>uc</td>\n",
       "    </tr>\n",
       "    <tr>\n",
       "      <th>PLCL23394</th>\n",
       "      <td>131.0</td>\n",
       "      <td>No surgery</td>\n",
       "      <td>No surgery</td>\n",
       "      <td>cd</td>\n",
       "    </tr>\n",
       "    <tr>\n",
       "      <th>PLCL21437</th>\n",
       "      <td>134.0</td>\n",
       "      <td>No surgery</td>\n",
       "      <td>No surgery</td>\n",
       "      <td>cd</td>\n",
       "    </tr>\n",
       "    <tr>\n",
       "      <th>PLCL19730</th>\n",
       "      <td>139.0</td>\n",
       "      <td>No surgery</td>\n",
       "      <td>No surgery</td>\n",
       "      <td>uc</td>\n",
       "    </tr>\n",
       "    <tr>\n",
       "      <th>PLCL23075</th>\n",
       "      <td>27.0</td>\n",
       "      <td>Colectomy</td>\n",
       "      <td>Surgery</td>\n",
       "      <td>cd</td>\n",
       "    </tr>\n",
       "    <tr>\n",
       "      <th>PLCL20116</th>\n",
       "      <td>108.0</td>\n",
       "      <td>No surgery</td>\n",
       "      <td>No surgery</td>\n",
       "      <td>cd</td>\n",
       "    </tr>\n",
       "    <tr>\n",
       "      <th>PLCL20947</th>\n",
       "      <td>149.0</td>\n",
       "      <td>No surgery</td>\n",
       "      <td>No surgery</td>\n",
       "      <td>cd</td>\n",
       "    </tr>\n",
       "    <tr>\n",
       "      <th>PLCL22328_1</th>\n",
       "      <td>99.0</td>\n",
       "      <td>No surgery</td>\n",
       "      <td>No surgery</td>\n",
       "      <td>uc</td>\n",
       "    </tr>\n",
       "    <tr>\n",
       "      <th>PLCL22194</th>\n",
       "      <td>152.0</td>\n",
       "      <td>Colectomy</td>\n",
       "      <td>Surgery</td>\n",
       "      <td>uc</td>\n",
       "    </tr>\n",
       "    <tr>\n",
       "      <th>PLCL17523</th>\n",
       "      <td>118.0</td>\n",
       "      <td>No surgery</td>\n",
       "      <td>No surgery</td>\n",
       "      <td>cd</td>\n",
       "    </tr>\n",
       "    <tr>\n",
       "      <th>PLCL18800</th>\n",
       "      <td>148.0</td>\n",
       "      <td>No surgery</td>\n",
       "      <td>No surgery</td>\n",
       "      <td>uc</td>\n",
       "    </tr>\n",
       "    <tr>\n",
       "      <th>PLCL17524</th>\n",
       "      <td>130.0</td>\n",
       "      <td>No surgery</td>\n",
       "      <td>No surgery</td>\n",
       "      <td>uc</td>\n",
       "    </tr>\n",
       "    <tr>\n",
       "      <th>PLCL25785_1</th>\n",
       "      <td>47.0</td>\n",
       "      <td>Colectomy</td>\n",
       "      <td>Surgery</td>\n",
       "      <td>uc</td>\n",
       "    </tr>\n",
       "    <tr>\n",
       "      <th>PLCL17528</th>\n",
       "      <td>109.0</td>\n",
       "      <td>Ileocolonic</td>\n",
       "      <td>Surgery</td>\n",
       "      <td>cd</td>\n",
       "    </tr>\n",
       "    <tr>\n",
       "      <th>PLCL17720</th>\n",
       "      <td>143.0</td>\n",
       "      <td>No surgery</td>\n",
       "      <td>No surgery</td>\n",
       "      <td>cd</td>\n",
       "    </tr>\n",
       "    <tr>\n",
       "      <th>PLCL20431</th>\n",
       "      <td>109.0</td>\n",
       "      <td>No surgery</td>\n",
       "      <td>No surgery</td>\n",
       "      <td>uc</td>\n",
       "    </tr>\n",
       "    <tr>\n",
       "      <th>...</th>\n",
       "      <td>...</td>\n",
       "      <td>...</td>\n",
       "      <td>...</td>\n",
       "      <td>...</td>\n",
       "    </tr>\n",
       "    <tr>\n",
       "      <th>PLCL21559</th>\n",
       "      <td>146.0</td>\n",
       "      <td>No surgery</td>\n",
       "      <td>No surgery</td>\n",
       "      <td>uc</td>\n",
       "    </tr>\n",
       "    <tr>\n",
       "      <th>PLCL21491</th>\n",
       "      <td>136.0</td>\n",
       "      <td>No surgery</td>\n",
       "      <td>No surgery</td>\n",
       "      <td>uc</td>\n",
       "    </tr>\n",
       "    <tr>\n",
       "      <th>PLCL19603</th>\n",
       "      <td>131.0</td>\n",
       "      <td>No surgery</td>\n",
       "      <td>No surgery</td>\n",
       "      <td>uc</td>\n",
       "    </tr>\n",
       "    <tr>\n",
       "      <th>PLCL20960</th>\n",
       "      <td>133.0</td>\n",
       "      <td>No surgery</td>\n",
       "      <td>No surgery</td>\n",
       "      <td>uc</td>\n",
       "    </tr>\n",
       "    <tr>\n",
       "      <th>PLCL20134</th>\n",
       "      <td>112.0</td>\n",
       "      <td>No surgery</td>\n",
       "      <td>No surgery</td>\n",
       "      <td>cd</td>\n",
       "    </tr>\n",
       "    <tr>\n",
       "      <th>PLCL20099</th>\n",
       "      <td>140.0</td>\n",
       "      <td>Ileocolonic</td>\n",
       "      <td>Surgery</td>\n",
       "      <td>cd</td>\n",
       "    </tr>\n",
       "    <tr>\n",
       "      <th>PLCL19604</th>\n",
       "      <td>66.0</td>\n",
       "      <td>Colectomy</td>\n",
       "      <td>Surgery</td>\n",
       "      <td>cd</td>\n",
       "    </tr>\n",
       "    <tr>\n",
       "      <th>PLCL21528</th>\n",
       "      <td>37.0</td>\n",
       "      <td>No surgery</td>\n",
       "      <td>No surgery</td>\n",
       "      <td>cd</td>\n",
       "    </tr>\n",
       "    <tr>\n",
       "      <th>PLCL25744_1</th>\n",
       "      <td>114.0</td>\n",
       "      <td>No surgery</td>\n",
       "      <td>No surgery</td>\n",
       "      <td>uc</td>\n",
       "    </tr>\n",
       "    <tr>\n",
       "      <th>PLCL21549</th>\n",
       "      <td>139.0</td>\n",
       "      <td>Colectomy</td>\n",
       "      <td>Surgery</td>\n",
       "      <td>cd</td>\n",
       "    </tr>\n",
       "    <tr>\n",
       "      <th>PLCL22332</th>\n",
       "      <td>99.0</td>\n",
       "      <td>No surgery</td>\n",
       "      <td>No surgery</td>\n",
       "      <td>cd</td>\n",
       "    </tr>\n",
       "    <tr>\n",
       "      <th>PLCL24922_1</th>\n",
       "      <td>61.0</td>\n",
       "      <td>Ileocolonic</td>\n",
       "      <td>Surgery</td>\n",
       "      <td>cd</td>\n",
       "    </tr>\n",
       "    <tr>\n",
       "      <th>PLCL18230</th>\n",
       "      <td>86.0</td>\n",
       "      <td>No surgery</td>\n",
       "      <td>No surgery</td>\n",
       "      <td>cd</td>\n",
       "    </tr>\n",
       "    <tr>\n",
       "      <th>PLCL25772_1</th>\n",
       "      <td>124.0</td>\n",
       "      <td>No surgery</td>\n",
       "      <td>No surgery</td>\n",
       "      <td>cd</td>\n",
       "    </tr>\n",
       "    <tr>\n",
       "      <th>PLCL19689</th>\n",
       "      <td>102.0</td>\n",
       "      <td>Ileocolonic</td>\n",
       "      <td>Surgery</td>\n",
       "      <td>cd</td>\n",
       "    </tr>\n",
       "    <tr>\n",
       "      <th>PLCL18236</th>\n",
       "      <td>92.0</td>\n",
       "      <td>No surgery</td>\n",
       "      <td>No surgery</td>\n",
       "      <td>uc</td>\n",
       "    </tr>\n",
       "    <tr>\n",
       "      <th>PLCL19580</th>\n",
       "      <td>141.0</td>\n",
       "      <td>No surgery</td>\n",
       "      <td>No surgery</td>\n",
       "      <td>uc</td>\n",
       "    </tr>\n",
       "    <tr>\n",
       "      <th>PLCL23041</th>\n",
       "      <td>67.0</td>\n",
       "      <td>Colectomy</td>\n",
       "      <td>Surgery</td>\n",
       "      <td>cd</td>\n",
       "    </tr>\n",
       "    <tr>\n",
       "      <th>PLCL18755</th>\n",
       "      <td>114.0</td>\n",
       "      <td>No surgery</td>\n",
       "      <td>No surgery</td>\n",
       "      <td>cd</td>\n",
       "    </tr>\n",
       "    <tr>\n",
       "      <th>PLCL20936</th>\n",
       "      <td>69.0</td>\n",
       "      <td>No surgery</td>\n",
       "      <td>No surgery</td>\n",
       "      <td>cd</td>\n",
       "    </tr>\n",
       "    <tr>\n",
       "      <th>PLCL20155</th>\n",
       "      <td>99.0</td>\n",
       "      <td>No surgery</td>\n",
       "      <td>No surgery</td>\n",
       "      <td>uc</td>\n",
       "    </tr>\n",
       "    <tr>\n",
       "      <th>PLCL21429</th>\n",
       "      <td>83.0</td>\n",
       "      <td>No surgery</td>\n",
       "      <td>No surgery</td>\n",
       "      <td>uc</td>\n",
       "    </tr>\n",
       "    <tr>\n",
       "      <th>PLCL23160</th>\n",
       "      <td>91.0</td>\n",
       "      <td>Ileocolonic</td>\n",
       "      <td>Surgery</td>\n",
       "      <td>cd</td>\n",
       "    </tr>\n",
       "    <tr>\n",
       "      <th>PLCL22327_1</th>\n",
       "      <td>130.0</td>\n",
       "      <td>No surgery</td>\n",
       "      <td>No surgery</td>\n",
       "      <td>cd</td>\n",
       "    </tr>\n",
       "    <tr>\n",
       "      <th>PLCL18839</th>\n",
       "      <td>139.0</td>\n",
       "      <td>No surgery</td>\n",
       "      <td>No surgery</td>\n",
       "      <td>uc</td>\n",
       "    </tr>\n",
       "    <tr>\n",
       "      <th>PLCL23044</th>\n",
       "      <td>127.0</td>\n",
       "      <td>No surgery</td>\n",
       "      <td>No surgery</td>\n",
       "      <td>cd</td>\n",
       "    </tr>\n",
       "    <tr>\n",
       "      <th>PLCL21427</th>\n",
       "      <td>97.0</td>\n",
       "      <td>No surgery</td>\n",
       "      <td>No surgery</td>\n",
       "      <td>cd</td>\n",
       "    </tr>\n",
       "    <tr>\n",
       "      <th>PLCL22135</th>\n",
       "      <td>144.0</td>\n",
       "      <td>No surgery</td>\n",
       "      <td>No surgery</td>\n",
       "      <td>uc</td>\n",
       "    </tr>\n",
       "    <tr>\n",
       "      <th>PLCL18832</th>\n",
       "      <td>142.0</td>\n",
       "      <td>No surgery</td>\n",
       "      <td>No surgery</td>\n",
       "      <td>cd</td>\n",
       "    </tr>\n",
       "    <tr>\n",
       "      <th>PLCL19283</th>\n",
       "      <td>80.0</td>\n",
       "      <td>No surgery</td>\n",
       "      <td>No surgery</td>\n",
       "      <td>cd</td>\n",
       "    </tr>\n",
       "  </tbody>\n",
       "</table>\n",
       "<p>300 rows × 4 columns</p>\n",
       "</div>"
      ],
      "text/plain": [
       "              adiv      surgery     Surgery Disease\n",
       "PLCL20541     27.0    Colectomy     Surgery      cd\n",
       "PLCL22214     65.0    Colectomy     Surgery      cd\n",
       "PLCL21552    156.0   No surgery  No surgery      cd\n",
       "PLCL18894    103.0   No surgery  No surgery      uc\n",
       "PLCL18890    109.0   No surgery  No surgery      cd\n",
       "PLCL18891    119.0  Ileocolonic     Surgery      cd\n",
       "PLCL21485    106.0   No surgery  No surgery      cd\n",
       "PLCL18893    177.0   No surgery  No surgery      cd\n",
       "PLCL20145    122.0   No surgery  No surgery      cd\n",
       "PLCL20144    115.0   No surgery  No surgery      cd\n",
       "PLCL20141    116.0    Colectomy     Surgery      cd\n",
       "PLCL19631     60.0    Colectomy     Surgery      cd\n",
       "PLCL23458     98.0    Colectomy     Surgery      cd\n",
       "PLCL24883_1   77.0    Colectomy     Surgery      cd\n",
       "PLCL23022    100.0   No surgery  No surgery      uc\n",
       "PLCL23394    131.0   No surgery  No surgery      cd\n",
       "PLCL21437    134.0   No surgery  No surgery      cd\n",
       "PLCL19730    139.0   No surgery  No surgery      uc\n",
       "PLCL23075     27.0    Colectomy     Surgery      cd\n",
       "PLCL20116    108.0   No surgery  No surgery      cd\n",
       "PLCL20947    149.0   No surgery  No surgery      cd\n",
       "PLCL22328_1   99.0   No surgery  No surgery      uc\n",
       "PLCL22194    152.0    Colectomy     Surgery      uc\n",
       "PLCL17523    118.0   No surgery  No surgery      cd\n",
       "PLCL18800    148.0   No surgery  No surgery      uc\n",
       "PLCL17524    130.0   No surgery  No surgery      uc\n",
       "PLCL25785_1   47.0    Colectomy     Surgery      uc\n",
       "PLCL17528    109.0  Ileocolonic     Surgery      cd\n",
       "PLCL17720    143.0   No surgery  No surgery      cd\n",
       "PLCL20431    109.0   No surgery  No surgery      uc\n",
       "...            ...          ...         ...     ...\n",
       "PLCL21559    146.0   No surgery  No surgery      uc\n",
       "PLCL21491    136.0   No surgery  No surgery      uc\n",
       "PLCL19603    131.0   No surgery  No surgery      uc\n",
       "PLCL20960    133.0   No surgery  No surgery      uc\n",
       "PLCL20134    112.0   No surgery  No surgery      cd\n",
       "PLCL20099    140.0  Ileocolonic     Surgery      cd\n",
       "PLCL19604     66.0    Colectomy     Surgery      cd\n",
       "PLCL21528     37.0   No surgery  No surgery      cd\n",
       "PLCL25744_1  114.0   No surgery  No surgery      uc\n",
       "PLCL21549    139.0    Colectomy     Surgery      cd\n",
       "PLCL22332     99.0   No surgery  No surgery      cd\n",
       "PLCL24922_1   61.0  Ileocolonic     Surgery      cd\n",
       "PLCL18230     86.0   No surgery  No surgery      cd\n",
       "PLCL25772_1  124.0   No surgery  No surgery      cd\n",
       "PLCL19689    102.0  Ileocolonic     Surgery      cd\n",
       "PLCL18236     92.0   No surgery  No surgery      uc\n",
       "PLCL19580    141.0   No surgery  No surgery      uc\n",
       "PLCL23041     67.0    Colectomy     Surgery      cd\n",
       "PLCL18755    114.0   No surgery  No surgery      cd\n",
       "PLCL20936     69.0   No surgery  No surgery      cd\n",
       "PLCL20155     99.0   No surgery  No surgery      uc\n",
       "PLCL21429     83.0   No surgery  No surgery      uc\n",
       "PLCL23160     91.0  Ileocolonic     Surgery      cd\n",
       "PLCL22327_1  130.0   No surgery  No surgery      cd\n",
       "PLCL18839    139.0   No surgery  No surgery      uc\n",
       "PLCL23044    127.0   No surgery  No surgery      cd\n",
       "PLCL21427     97.0   No surgery  No surgery      cd\n",
       "PLCL22135    144.0   No surgery  No surgery      uc\n",
       "PLCL18832    142.0   No surgery  No surgery      cd\n",
       "PLCL19283     80.0   No surgery  No surgery      cd\n",
       "\n",
       "[300 rows x 4 columns]"
      ]
     },
     "execution_count": 47,
     "metadata": {},
     "output_type": "execute_result"
    }
   ],
   "source": [
    "disease=[]\n",
    "surgery=[]\n",
    "for i in df_adiv.index: \n",
    "    disease.append(dic_subtype[i])\n",
    "    if dic_surgery[i]=='none': \n",
    "        surgery.append('No surgery')\n",
    "    else: \n",
    "        surgery.append('Surgery')\n",
    "        \n",
    "df_adiv['Surgery']=surgery\n",
    "df_adiv['Disease']=disease\n",
    "df_adiv"
   ]
  },
  {
   "cell_type": "code",
   "execution_count": 52,
   "metadata": {},
   "outputs": [
    {
     "data": {
      "image/png": "[encoded data removed]",
      "text/plain": [
       "<Figure size 432x288 with 1 Axes>"
      ]
     },
     "metadata": {},
     "output_type": "display_data"
    }
   ],
   "source": [
    "\n",
    "colors = {\n",
    "     'Surgery': '#fc8d62',\n",
    "     'No surgery': '#66c2a5',\n",
    "}\n",
    "\n",
    "fig, ax = plt.subplots()\n",
    "\n",
    "sns.boxplot(x='Disease', y='adiv', hue='Surgery', data=df_adiv, order=['uc', 'cd'],\n",
    "             hue_order=['No surgery', 'Surgery'], ax=ax)\n",
    "\n",
    "for i, color in enumerate(['#66c2a5', '#66c2a5', '#fc8d62', '#fc8d62']):\n",
    "    if ((i + 1) % 2) == 0:\n",
    "        ax.artists[i].set_facecolor('white')\n",
    "        ax.artists[i].set_edgecolor(color)\n",
    "    else:\n",
    "         ax.artists[i].set_color(color)\n",
    "ax.get_legend().set_visible(False)\n",
    "fig.savefig('../../../data/Sandborn_data/figures/Fig1A_1121.pdf')\n",
    "fig.savefig('../../../data/Sandborn_data/figures/Fig1A_1121.svg')\n"
   ]
  },
  {
   "cell_type": "markdown",
   "metadata": {},
   "source": [
    "### Separate by more detailed surgery types in UC/CD"
   ]
  },
  {
   "cell_type": "code",
   "execution_count": 53,
   "metadata": {},
   "outputs": [
    {
     "name": "stdout",
     "output_type": "stream",
     "text": [
      "(300, 86)\n",
      "UC:  135\n",
      "UC_no_surgrey:  108\n",
      "UC_colectomy_pouch:  2\n",
      "UC_colectomy_devCD:  15\n",
      "UC_colectomy_pouchitis:  10\n",
      "CD:  165\n",
      "CD_no_surgrey:  97\n",
      "CD colectomy with end leostomy:  10\n",
      "CD_ileocolonic:  49\n",
      "CD colectomy with ileorectal anastomosis:  9\n"
     ]
    }
   ],
   "source": [
    "# filter out samples that has metagenomics data available\n",
    "df_meta=df_meta.loc[adiv_faith.index]\n",
    "print (df_meta.shape)\n",
    "\n",
    "# Define subgroups in UC \n",
    "df_uc=df_meta[df_meta.category1=='uc']\n",
    "print ('UC: ', len(df_uc))\n",
    "df_uc_nosurgery=df_uc[df_uc.category2=='Control']\n",
    "print ('UC_no_surgrey: ', len(df_uc_nosurgery))\n",
    "df_uc_colec_normal=df_uc[df_uc.category3=='Subsequent normal pouch']\n",
    "print ('UC_colectomy_pouch: ', len(df_uc_colec_normal))\n",
    "df_uc_colec_cd=df_uc[df_uc.category3=='Subsequent dev of CD']\n",
    "print ('UC_colectomy_devCD: ', len(df_uc_colec_cd))\n",
    "df_uc_colec_pouchitis=df_uc[df_uc.category3=='Pouchitis']\n",
    "print ('UC_colectomy_pouchitis: ', len(df_uc_colec_pouchitis))\n",
    "\n",
    "\n",
    "# Define subgroups in CD\n",
    "df_cd=df_meta[df_meta.category1=='cd']\n",
    "print ('CD: ', len(df_cd))\n",
    "df_cd_nosurgery=df_cd[df_cd.category2=='Control']\n",
    "print ('CD_no_surgrey: ', len(df_cd_nosurgery))\n",
    "df_cd_end=df_cd[df_cd.category2=='End ileostomy']\n",
    "print ('CD colectomy with end leostomy: ', len(df_cd_end))\n",
    "df_cd_ileocolonic=df_cd[df_cd.category2=='Ileocolonic resection']\n",
    "print ('CD_ileocolonic: ', len(df_cd_ileocolonic))\n",
    "df_cd_col_ileorectal=df_cd[df_cd.category2=='Ileorectal anastomosis']\n",
    "print ('CD colectomy with ileorectal anastomosis: ', len(df_cd_col_ileorectal))\n",
    "\n",
    "\n",
    "## extract the alpha diversity \n",
    "\n",
    "alpha_uc_colec_normal=adiv_faith.loc[df_uc_colec_normal.index]\n",
    "alpha_uc_colec_pouchitis=adiv_faith.loc[df_uc_colec_pouchitis.index]\n",
    "alpha_uc_no=adiv_faith.loc[df_uc_nosurgery.index]\n",
    "alpha_uc_CD_pouch=adiv_faith.loc[df_uc_colec_cd.index]\n",
    "\n",
    "alpha_cd_ileocolonic=adiv_faith.loc[df_cd_ileocolonic.index]\n",
    "alpha_cd_ileostomy=adiv_faith.loc[df_cd_end.index]\n",
    "alpha_cd_nosurgery=adiv_faith.loc[df_cd_nosurgery.index]\n",
    "alpha_cd_ileorectal=adiv_faith.loc[df_cd_col_ileorectal.index]"
   ]
  },
  {
   "cell_type": "code",
   "execution_count": 56,
   "metadata": {},
   "outputs": [
    {
     "name": "stdout",
     "output_type": "stream",
     "text": [
      "KruskalResult(statistic=15.406505779182174, pvalue=0.0004513565792094606)\n"
     ]
    },
    {
     "name": "stderr",
     "output_type": "stream",
     "text": [
      "/usr/local/lib/python3.4/dist-packages/numpy/core/fromnumeric.py:52: FutureWarning: reshape is deprecated and will raise in a subsequent release. Please use .values.reshape(...) instead\n",
      "  return getattr(obj, method)(*args, **kwds)\n"
     ]
    },
    {
     "data": {
      "image/png": "[encoded data removed]",
      "text/plain": [
       "<Figure size 576x360 with 1 Axes>"
      ]
     },
     "metadata": {},
     "output_type": "display_data"
    }
   ],
   "source": [
    "# plot faith alpha diversity for these  different groups \n",
    "\n",
    "import matplotlib\n",
    "from matplotlib import pyplot as plt \n",
    "\n",
    "data_to_plot=[alpha_cd_nosurgery,alpha_cd_ileocolonic,alpha_cd_ileorectal,alpha_cd_ileostomy]\n",
    "\n",
    "matplotlib.rcParams.update({'font.size': 12})\n",
    "fig = plt.figure(1, figsize=(8,5))\n",
    "ax = fig.add_subplot(111)\n",
    "bp1=ax.boxplot(data_to_plot,positions=np.linspace(1, 5.5, num=4), patch_artist=True,widths=0.5) \n",
    "\n",
    "# fill with colors\n",
    "for patch in bp1['boxes']:\n",
    "    patch.set(color='grey')    \n",
    "\n",
    "ax.set_xticklabels(['CD no surgery',  'CD ileocolonic','CD ileorectal anastomosis','CD end ileostomy'])\n",
    "ax.set_ylabel('alpha diversity (Faith)')\n",
    "ax.set_xlim(0.5,6)\n",
    "plt.xticks(rotation=20)\n",
    "\n",
    "\n",
    "from scipy.stats import kruskal\n",
    "print (kruskal(alpha_cd_ileocolonic,alpha_cd_ileostomy,alpha_cd_ileorectal))\n",
    "plt.savefig('../../../data/Sandborn_data/figures/figureS1A.svg')"
   ]
  },
  {
   "cell_type": "code",
   "execution_count": 57,
   "metadata": {},
   "outputs": [
    {
     "name": "stdout",
     "output_type": "stream",
     "text": [
      "KruskalResult(statistic=0.11187493634789046, pvalue=0.9455982640278457)\n"
     ]
    },
    {
     "name": "stderr",
     "output_type": "stream",
     "text": [
      "/usr/local/lib/python3.4/dist-packages/numpy/core/fromnumeric.py:52: FutureWarning: reshape is deprecated and will raise in a subsequent release. Please use .values.reshape(...) instead\n",
      "  return getattr(obj, method)(*args, **kwds)\n"
     ]
    },
    {
     "data": {
      "image/png": "[encoded data removed]",
      "text/plain": [
       "<Figure size 576x360 with 1 Axes>"
      ]
     },
     "metadata": {},
     "output_type": "display_data"
    }
   ],
   "source": [
    "## plot faith alpha diversity for these  different groups \n",
    "\n",
    "import matplotlib\n",
    "from matplotlib import pyplot as plt \n",
    "\n",
    "data_to_plot=[alpha_uc_no,alpha_uc_colec_normal,alpha_uc_colec_pouchitis,alpha_uc_CD_pouch]\n",
    "\n",
    "matplotlib.rcParams.update({'font.size': 12})\n",
    "fig = plt.figure(1, figsize=(8,5))\n",
    "ax = fig.add_subplot(111)\n",
    "bp1=ax.boxplot(data_to_plot,positions=np.linspace(1, 5.5, num=4), patch_artist=True,widths=0.5) \n",
    "\n",
    "# fill with colors\n",
    "for patch in bp1['boxes']:\n",
    "    patch.set(color='grey')   \n",
    "    \n",
    "ax.set_xticklabels(['UC no surgery', 'UC colectomy+normal pouch', 'UC colectomy+pouchitis',\n",
    "                    'UC colectomy+development of CD'])\n",
    "ax.set_ylabel('alpha diversity (Faith)')\n",
    "ax.set_xlim(0.5,6)\n",
    "plt.xticks(rotation=20)\n",
    "\n",
    "print (kruskal(alpha_uc_colec_pouchitis,alpha_uc_colec_normal,alpha_uc_CD_pouch))\n",
    "plt.savefig('../../../data/Sandborn_data/figures/figureS1B.svg')"
   ]
  },
  {
   "cell_type": "markdown",
   "metadata": {},
   "source": [
    "### Statistical test: only include one sample per patient "
   ]
  },
  {
   "cell_type": "code",
   "execution_count": 87,
   "metadata": {},
   "outputs": [
    {
     "name": "stdout",
     "output_type": "stream",
     "text": [
      "KruskalResult(statistic=12.4204087225463, pvalue=0.002008826895697408)\n"
     ]
    }
   ],
   "source": [
    "## create dictionary for host info \n",
    "dic_sample_host=dict(zip(list(df_meta.index),list(df_meta.host_id)))\n",
    "                   \n",
    "##empty list to store host info \n",
    "cd_ileorectal2=[]\n",
    "cd_ileocolonic2=[]\n",
    "cd_ileostomy2=[]\n",
    "host_ilerectal=[]\n",
    "host_ileocolonic=[]\n",
    "host_ileostomy=[]\n",
    "\n",
    "##only 1 sample per patient \n",
    "\n",
    "for s in alpha_cd_ileorectal.index: \n",
    "    if not dic_sample_host[s] in host_ilerectal: \n",
    "        host_ilerectal.append(dic_sample_host[s])\n",
    "        cd_ileorectal2.append(s)\n",
    "\n",
    "for s in alpha_cd_ileocolonic.index: \n",
    "    if not dic_sample_host[s] in host_ileocolonic: \n",
    "        host_ileocolonic.append(dic_sample_host[s])\n",
    "        cd_ileocolonic2.append(s)\n",
    "\n",
    "for s in alpha_cd_ileostomy.index: \n",
    "    if not dic_sample_host[s] in host_ileostomy: \n",
    "        host_ileostomy.append(dic_sample_host[s])\n",
    "        cd_ileostomy2.append(s)\n",
    "alpha_cd_ileorectal2=alpha_cd_ileorectal.loc[cd_ileorectal2]\n",
    "alpha_cd_ileocolonic2=alpha_cd_ileocolonic.loc[cd_ileocolonic2]\n",
    "alpha_cd_ileostomy2=alpha_cd_ileostomy.loc[cd_ileostomy2]\n",
    "print (kruskal(alpha_cd_ileocolonic2,alpha_cd_ileostomy2,alpha_cd_ileorectal2))\n"
   ]
  },
  {
   "cell_type": "markdown",
   "metadata": {},
   "source": [
    "### Association of alpha diversity with surgery time"
   ]
  },
  {
   "cell_type": "code",
   "execution_count": 18,
   "metadata": {},
   "outputs": [
    {
     "name": "stdout",
     "output_type": "stream",
     "text": [
      "correlation between alpha diversity and surgery date: \n",
      "SpearmanrResult(correlation=0.049492290494930966, pvalue=0.6394198723359449)\n"
     ]
    }
   ],
   "source": [
    "#extract time passed since surgery and alpha diversity for these samples \n",
    "\n",
    "from scipy.stats import spearmanr \n",
    "from scipy.stats import pearsonr\n",
    "\n",
    "sample_surgery=[]\n",
    "surgeryDate=[]\n",
    "\n",
    "#calculate time passed since surgery \n",
    "for i in range(len(df_meta)): \n",
    "    row=df_meta.iloc[i]\n",
    "    if row.name in df_spe_taxID.columns: \n",
    "        if row.year_recent_bowel_surgery!='not provided': \n",
    "            time=int(row.collection_timestamp)-int(row.year_recent_bowel_surgery)\n",
    "            if time > 0: \n",
    "                surgeryDate.append(time)\n",
    "                sample_surgery.append(row.name)\n",
    "            elif time ==0 and row.weeks_from_surgery!='not applicable': \n",
    "                if int(row.weeks_from_surgery)>0: \n",
    "                    #print row.name\n",
    "                    surgeryDate.append(time)\n",
    "                    sample_surgery.append(row.name)\n",
    "                \n",
    "alpha_surgtime=adiv_faith.loc[sample_surgery]\n",
    "\n",
    "\n",
    "# calculate correlation for time passed since surgery and alpha diversity \n",
    "print ('correlation between alpha diversity and surgery date: ')\n",
    "\n",
    "corrS=spearmanr(surgeryDate,alpha_surgtime)\n",
    "print (corrS)\n"
   ]
  },
  {
   "cell_type": "markdown",
   "metadata": {},
   "source": [
    "### Calculate correlation of alpha diversity with disease duration, bmi, and age baseline\n"
   ]
  },
  {
   "cell_type": "code",
   "execution_count": 15,
   "metadata": {},
   "outputs": [
    {
     "name": "stdout",
     "output_type": "stream",
     "text": [
      "correlation between alpha diversity and disease duration: \n",
      "SpearmanrResult(correlation=-0.045920568148002765, pvalue=0.5666909461868834)\n"
     ]
    }
   ],
   "source": [
    "#extract disease duration and alpha diversity for these samples \n",
    "\n",
    "sample_duration=[]\n",
    "durationList=[]\n",
    "\n",
    "#calculate time passed since surgery \n",
    "for i in range(len(df_meta)): \n",
    "    row=df_meta.iloc[i]\n",
    "    if row.name in df_spe_taxID.columns: \n",
    "        if row.disease_duration!=100: \n",
    "                durationList.append(row.disease_duration)\n",
    "                sample_duration.append(row.name)\n",
    "                \n",
    "alpha_duration=adiv_faith.loc[sample_duration]\n",
    "\n",
    "# calculate correlation for time passed since surgery and alpha diversity \n",
    "print ('correlation between alpha diversity and disease duration: ')\n",
    "corrS=spearmanr(durationList,alpha_duration)\n",
    "print (corrS)"
   ]
  },
  {
   "cell_type": "code",
   "execution_count": 16,
   "metadata": {},
   "outputs": [
    {
     "name": "stdout",
     "output_type": "stream",
     "text": [
      "correlation between alpha diversity and BMI: \n",
      "SpearmanrResult(correlation=0.1099079711806714, pvalue=0.07518864989211932)\n"
     ]
    }
   ],
   "source": [
    "#extract bmi and alpha diversity for these samples \n",
    "\n",
    "sample_bmi=[]\n",
    "bmiList=[]\n",
    "\n",
    "for i in range(len(df_meta)): \n",
    "    row=df_meta.iloc[i]\n",
    "    if row.name in df_spe_taxID.columns: \n",
    "        if row.BMI!='missing: not provided': \n",
    "                bmiList.append(float(row.BMI))\n",
    "                sample_bmi.append(row.name)\n",
    "                \n",
    "alpha_bmi=adiv_faith.loc[sample_bmi]\n",
    "\n",
    "# calculate correlation for time passed since surgery and alpha diversity \n",
    "print ('correlation between alpha diversity and BMI: ')\n",
    "corrS=spearmanr(bmiList,alpha_bmi)\n",
    "print (corrS)\n"
   ]
  },
  {
   "cell_type": "code",
   "execution_count": 17,
   "metadata": {
    "scrolled": true
   },
   "outputs": [
    {
     "name": "stdout",
     "output_type": "stream",
     "text": [
      "correlation between alpha diversity and age at baseline: \n",
      "SpearmanrResult(correlation=0.027230846632832678, pvalue=0.637955623190798)\n"
     ]
    }
   ],
   "source": [
    "#extract age and alpha diversity for these samples \n",
    "#calculate correlation for time passed since surgery and alpha diversity \n",
    "print ('correlation between alpha diversity and age at baseline: ')\n",
    "corrS=spearmanr(df_meta.loc[df_spe_taxID.columns].age_baseline,adiv_faith)\n",
    "print (corrS)\n"
   ]
  },
  {
   "cell_type": "markdown",
   "metadata": {},
   "source": [
    "### Explore the correlation of alpha diversity and smoking status between UC and CD subtypes"
   ]
  },
  {
   "cell_type": "code",
   "execution_count": 18,
   "metadata": {
    "scrolled": true
   },
   "outputs": [
    {
     "data": {
      "text/plain": [
       "KruskalResult(statistic=0.7515276693505926, pvalue=0.6867645038540338)"
      ]
     },
     "execution_count": 18,
     "metadata": {},
     "output_type": "execute_result"
    }
   ],
   "source": [
    "## first look at correlation with smoking status before spliting into subtypes \n",
    "sample_smoking=[]\n",
    "smokeList=[]\n",
    "\n",
    "for i in range(len(df_meta)): \n",
    "    row=df_meta.iloc[i]\n",
    "    if row.name in df_spe_taxID.columns: \n",
    "        if row.smoking_status!=100: \n",
    "                smokeList.append(float(row.smoking_status))\n",
    "                sample_smoking.append(row.name)\n",
    "alpha_smoke=adiv_faith.loc[sample_smoking]\n",
    "\n",
    "#correlation test \n",
    "never_all=[alpha_smoke.loc[i] for i in sample_smoking if df_meta.loc[i].smoking_status==0]\n",
    "before_all=[alpha_smoke.loc[i] for i in sample_smoking if df_meta.loc[i].smoking_status==1]\n",
    "current_all=[alpha_smoke.loc[i] for i in sample_smoking if df_meta.loc[i].smoking_status==2]\n",
    "from scipy.stats import kruskal\n",
    "kruskal(never_all,before_all,current_all)\n"
   ]
  },
  {
   "cell_type": "code",
   "execution_count": 19,
   "metadata": {},
   "outputs": [
    {
     "data": {
      "text/plain": [
       "KruskalResult(statistic=5.14416881997107, pvalue=0.07637618011779962)"
      ]
     },
     "execution_count": 19,
     "metadata": {},
     "output_type": "execute_result"
    }
   ],
   "source": [
    "# look at disease substypes\n",
    "\n",
    "cd_sample=[i for i in sample_smoking if df_meta.disease.loc[i]=='cd']\n",
    "uc_sample=[i for i in sample_smoking if df_meta.disease.loc[i]=='uc']\n",
    "\n",
    "#correlation test on cd samples \n",
    "never_cd=[alpha_smoke.loc[i] for i in cd_sample if df_meta.loc[i].smoking_status==0]\n",
    "before_cd=[alpha_smoke.loc[i] for i in cd_sample if df_meta.loc[i].smoking_status==1]\n",
    "current_cd=[alpha_smoke.loc[i] for i in cd_sample if df_meta.loc[i].smoking_status==2]\n",
    "from scipy.stats import kruskal\n",
    "kruskal(never_cd,before_cd,current_cd)\n",
    "\n",
    "#correlation test on uc samples \n",
    "never_uc=[alpha_smoke.loc[i] for i in uc_sample if df_meta.loc[i].smoking_status==0]\n",
    "before_uc=[alpha_smoke.loc[i] for i in uc_sample if df_meta.loc[i].smoking_status==1]\n",
    "current_uc=[alpha_smoke.loc[i] for i in uc_sample if df_meta.loc[i].smoking_status==2]\n",
    "from scipy.stats import kruskal\n",
    "kruskal(never_uc,before_uc,current_uc)"
   ]
  },
  {
   "cell_type": "markdown",
   "metadata": {},
   "source": [
    "### Association of alpha diversity with E.coli abundance"
   ]
  },
  {
   "cell_type": "code",
   "execution_count": 20,
   "metadata": {
    "scrolled": true
   },
   "outputs": [
    {
     "name": "stdout",
     "output_type": "stream",
     "text": [
      "SpearmanrResult(correlation=-0.25666423895850665, pvalue=6.4763322990815385e-06)\n"
     ]
    }
   ],
   "source": [
    "#extract ecoli abundance \n",
    "\n",
    "ecoli_abund=df_spe_taxID.T[1005520]\n",
    "corrS=spearmanr(ecoli_abund,adiv_faith)\n",
    "print (corrS)"
   ]
  },
  {
   "cell_type": "code",
   "execution_count": 21,
   "metadata": {},
   "outputs": [
    {
     "name": "stdout",
     "output_type": "stream",
     "text": [
      "y=-0.685208x+(113.760405)\n"
     ]
    },
    {
     "data": {
      "text/plain": [
       "Text(0,0.5,'Alpha Diversity (Faith)')"
      ]
     },
     "execution_count": 21,
     "metadata": {},
     "output_type": "execute_result"
    },
    {
     "data": {
      "image/png": "[encoded data removed]",
      "text/plain": [
       "<Figure size 432x288 with 1 Axes>"
      ]
     },
     "metadata": {},
     "output_type": "display_data"
    }
   ],
   "source": [
    "plt.scatter(ecoli_abund,adiv_faith)\n",
    "\n",
    "# calc the trendline\n",
    "x=ecoli_abund\n",
    "z = np.polyfit(ecoli_abund, adiv_faith, 1)\n",
    "p = np.poly1d(z)\n",
    "plt.plot(x,p(x),\"r--\")\n",
    "# the line equation:\n",
    "print (\"y=%.6fx+(%.6f)\"%(z[0],z[1]))\n",
    "\n",
    "plt.xlabel('E.coli abundance(%)')\n",
    "plt.ylabel('Alpha Diversity (Faith)')\n"
   ]
  },
  {
   "cell_type": "markdown",
   "metadata": {},
   "source": [
    "## Calculate alpha diversity of pathway abundance generated from humann2"
   ]
  },
  {
   "cell_type": "code",
   "execution_count": 225,
   "metadata": {},
   "outputs": [
    {
     "name": "stdout",
     "output_type": "stream",
     "text": [
      "(483, 300)\n"
     ]
    }
   ],
   "source": [
    "#load pathway abundance\n",
    "\n",
    "df_pathway=pd.read_csv('./data/Filtered_normalized_cpm_pathways_new_unstratified.csv',index_col=0)\n",
    "df_pathway=df_pathway.fillna(value=0)\n",
    "print (df_pathway.shape)\n",
    "\n",
    "## split the patients into UC, CD and with/without surgery group \n",
    "colectomy_pw=[]\n",
    "ilealcolonic_pw=[]\n",
    "sugery_none_pw=[]\n",
    "\n",
    "for i in df_pathway.columns: \n",
    "    if i in dic_subtype.keys(): \n",
    "        if dic_surgery[i]=='colectomy' or dic_surgery[i]=='partial_colectomy': \n",
    "            colectomy_pw.append(i)\n",
    "        elif dic_surgery[i]=='none': \n",
    "            sugery_none_pw.append(i)\n",
    "        else: \n",
    "            ilealcolonic_pw.append(i)"
   ]
  },
  {
   "cell_type": "markdown",
   "metadata": {},
   "source": [
    "## Alpha diversity for non-phylogenetic metrics for functional profiles"
   ]
  },
  {
   "cell_type": "code",
   "execution_count": 212,
   "metadata": {},
   "outputs": [
    {
     "name": "stdout",
     "output_type": "stream",
     "text": [
      "Mean alpha diversity of functional profiles (observed OTU): \n",
      "308.46\n",
      "Mean alpha diversity of functional profiles (shannon): \n",
      "7.302150253204357\n"
     ]
    }
   ],
   "source": [
    "from skbio.diversity import alpha_diversity\n",
    "\n",
    "#preprocess data - alpha diversity function only takes in integers\n",
    "\n",
    "df=df_pathway.transpose()\n",
    "data_pre=100000*pd.DataFrame.as_matrix(df)\n",
    "data=data_pre.astype(int)\n",
    "ids=df.index\n",
    "\n",
    "#observed OTU\n",
    "adiv_otus_pw = alpha_diversity('observed_otus', data, ids)\n",
    "print ('Mean alpha diversity of functional profiles (observed OTU): ' )\n",
    "print (str(np.mean(list(adiv_otus_pw.data))))\n",
    "\n",
    "#shannon\n",
    "adiv_shannon_pw = alpha_diversity('shannon', data, ids)\n",
    "print ('Mean alpha diversity of functional profiles (shannon): ' )\n",
    "print (str(np.mean(list(adiv_shannon_pw.data))))\n"
   ]
  },
  {
   "cell_type": "code",
   "execution_count": 238,
   "metadata": {},
   "outputs": [
    {
     "name": "stdout",
     "output_type": "stream",
     "text": [
      "Mean alpha diversity of no surgery samples(pathway;shannon): \n",
      "7.21540790968352\n",
      "Mean alpha diversity of ilealcolonic samples (pathway;shannon): \n",
      "7.429147457947354\n",
      "Mean alpha diversity of colectomy samples (pathway;shannon): \n",
      "7.663876178098861\n",
      "KruskalResult(statistic=38.06828685730808, pvalue=5.414726700147513e-09)\n"
     ]
    }
   ],
   "source": [
    "# extract faith diversity for subgroups separated by surgery subtype\n",
    "df_alpha_colectomy_pw=adiv_shannon_pw.loc[colectomy_pw]\n",
    "df_alpha_ilealcolonic_pw=adiv_shannon_pw.loc[ilealcolonic_pw]\n",
    "df_alpha_no_pw=adiv_shannon_pw.loc[sugery_none_pw]\n",
    "\n",
    "print ('Mean alpha diversity of no surgery samples(pathway;shannon): ' )\n",
    "print (str(np.mean(list(df_alpha_no_pw.data))))\n",
    "print ('Mean alpha diversity of ilealcolonic samples (pathway;shannon): ' )\n",
    "print (str(np.mean(list(df_alpha_ilealcolonic_pw.data))))\n",
    "print ('Mean alpha diversity of colectomy samples (pathway;shannon): ' )\n",
    "print (str(np.mean(list(df_alpha_colectomy_pw.data))))\n",
    "\n",
    "print (kruskal(df_alpha_colectomy_pw,df_alpha_ilealcolonic_pw,df_alpha_no_pw))\n"
   ]
  },
  {
   "cell_type": "code",
   "execution_count": 230,
   "metadata": {},
   "outputs": [
    {
     "name": "stderr",
     "output_type": "stream",
     "text": [
      "/usr/local/lib/python3.4/dist-packages/ipykernel_launcher.py:6: FutureWarning: \n",
      "Passing list-likes to .loc or [] with any missing label will raise\n",
      "KeyError in the future, you can use .reindex() as an alternative.\n",
      "\n",
      "See the documentation here:\n",
      "http://pandas.pydata.org/pandas-docs/stable/indexing.html#deprecate-loc-reindex-listlike\n",
      "  \n"
     ]
    }
   ],
   "source": [
    "## extract the alpha diversity for pathways \n",
    "\n",
    "alpha_uc_colec_normal_pw=adiv_shannon_pw.loc[df_uc_colec_normal.index]\n",
    "alpha_uc_colec_pouchitis_pw=adiv_shannon_pw.loc[df_uc_colec_pouchitis.index]\n",
    "alpha_uc_colec_nopouch_pw=adiv_shannon_pw.loc[uc_no_pouch]\n",
    "alpha_uc_no_pw=adiv_shannon_pw.loc[df_uc_nosurgery.index]\n",
    "alpha_uc_no_pw=alpha_uc_no_pw.drop('PLCL22244')\n",
    "alpha_uc_CD_pouch_pw=adiv_shannon_pw.loc[df_cd_pouch.index]\n",
    "\n",
    "alpha_cd_ileocolonic_pw=adiv_shannon_pw.loc[df_cd_ileocolonic.index]\n",
    "alpha_cd_ileostomy_pw=adiv_shannon_pw.loc[df_cd_col_ileostomy.index]\n",
    "alpha_cd_nosurgery_pw=adiv_shannon_pw.loc[df_cd_nosurgery.index]\n",
    "alpha_cd_colectomy_pw=adiv_shannon_pw.loc[df_cd_col.index]\n",
    "alpha_cd_ileorectal_pw=adiv_shannon_pw.loc[df_cd_col_ileorectal.index]\n"
   ]
  },
  {
   "cell_type": "code",
   "execution_count": 234,
   "metadata": {},
   "outputs": [
    {
     "name": "stdout",
     "output_type": "stream",
     "text": [
      "KruskalResult(statistic=0.5374801230794054, pvalue=0.46347892538464386)\n"
     ]
    },
    {
     "name": "stderr",
     "output_type": "stream",
     "text": [
      "/usr/local/lib/python3.4/dist-packages/numpy/core/fromnumeric.py:52: FutureWarning: reshape is deprecated and will raise in a subsequent release. Please use .values.reshape(...) instead\n",
      "  return getattr(obj, method)(*args, **kwds)\n"
     ]
    },
    {
     "data": {
      "text/plain": [
       "(0.5, 4)"
      ]
     },
     "execution_count": 234,
     "metadata": {},
     "output_type": "execute_result"
    },
    {
     "data": {
      "image/png": "[encoded data removed]",
      "text/plain": [
       "<Figure size 648x432 with 1 Axes>"
      ]
     },
     "metadata": {},
     "output_type": "display_data"
    }
   ],
   "source": [
    "# summarize the data and plot CD and UC separately\n",
    "\n",
    "alpha_uc_surgery_pw=pd.concat([alpha_uc_colec_normal_pw,alpha_uc_colec_pouchitis_pw,alpha_uc_CD_pouch_pw])\n",
    "alpha_cd_surgery_pw=pd.concat([alpha_cd_ileocolonic_pw,alpha_cd_ileostomy_pw,\n",
    "                            alpha_cd_colectomy_pw,alpha_cd_ileorectal_pw])\n",
    "print (kruskal(alpha_uc_surgery_pw,alpha_cd_surgery_pw))\n",
    "\n",
    "data_to_plot=[alpha_uc_no_pw,alpha_cd_nosurgery_pw]\n",
    "data_to_plot2=[alpha_uc_surgery_pw,alpha_cd_surgery_pw]\n",
    "\n",
    "matplotlib.rcParams.update({'font.size': 15})\n",
    "fig = plt.figure(1, figsize=(9, 6))\n",
    "ax = fig.add_subplot(111)\n",
    "bp1=ax.boxplot(data_to_plot,positions=[1,3], patch_artist=True) \n",
    "bp2=ax.boxplot(data_to_plot2,positions=[1.5,3.5]) \n",
    "\n",
    "# fill with colors\n",
    "colors = ['#66c2a5', '#fc8d62', '#8da0cb']\n",
    "for bplot in (bp1, bp2):\n",
    "    for patch, color in zip(bplot['boxes'], colors):\n",
    "        patch.set_color(color)\n",
    "    \n",
    "ax.legend([bp1[\"boxes\"][0], bp2[\"boxes\"][0]], ['No surgery', 'Surgery'], loc='lower left')\n",
    "\n",
    "ax.set_xticklabels(['UC','CD'])\n",
    "ax.set_ylabel('alpha diversity of functional profile (shannon)')\n",
    "ax.set_xlim(0.5,4)\n"
   ]
  },
  {
   "cell_type": "code",
   "execution_count": 232,
   "metadata": {},
   "outputs": [
    {
     "name": "stdout",
     "output_type": "stream",
     "text": [
      "KruskalResult(statistic=5.004852484472025, pvalue=0.08188608194090276)\n"
     ]
    },
    {
     "name": "stderr",
     "output_type": "stream",
     "text": [
      "/usr/local/lib/python3.4/dist-packages/numpy/core/fromnumeric.py:52: FutureWarning: reshape is deprecated and will raise in a subsequent release. Please use .values.reshape(...) instead\n",
      "  return getattr(obj, method)(*args, **kwds)\n"
     ]
    },
    {
     "data": {
      "image/png": "[encoded data removed]",
      "text/plain": [
       "<Figure size 576x360 with 1 Axes>"
      ]
     },
     "metadata": {},
     "output_type": "display_data"
    }
   ],
   "source": [
    "## plot faith alpha diversity for these  different groups \n",
    "\n",
    "import matplotlib\n",
    "from matplotlib import pyplot as plt \n",
    "\n",
    "data_to_plot=[alpha_cd_nosurgery_pw,alpha_cd_ileocolonic_pw,alpha_cd_colectomy_pw,alpha_cd_ileostomy_pw,alpha_cd_ileorectal_pw]\n",
    "\n",
    "matplotlib.rcParams.update({'font.size': 12})\n",
    "fig = plt.figure(1, figsize=(8,5))\n",
    "ax = fig.add_subplot(111)\n",
    "bp1=ax.boxplot(data_to_plot,positions=np.linspace(1, 5.5, num=5), patch_artist=True,widths=0.5) \n",
    "\n",
    "# fill with colors\n",
    "for patch in bp1['boxes']:\n",
    "    patch.set(color='grey')    \n",
    "\n",
    "ax.set_xticklabels(['CD no surgery', 'CD ileocolonic', 'CD colectomy','CD colectomy ileostomy',\n",
    "                    'CD colectomy ileorectal'])\n",
    "ax.set_ylabel('alpha diversity (Faith)')\n",
    "ax.set_xlim(0.5,6)\n",
    "plt.xticks(rotation=20)\n",
    "\n",
    "\n",
    "from scipy.stats import kruskal\n",
    "print (kruskal(alpha_cd_ileocolonic_pw,alpha_cd_ileostomy_pw,alpha_cd_ileorectal_pw))\n"
   ]
  },
  {
   "cell_type": "code",
   "execution_count": 233,
   "metadata": {},
   "outputs": [
    {
     "name": "stdout",
     "output_type": "stream",
     "text": [
      "KruskalResult(statistic=0.694852941176471, pvalue=0.8744139165683432)\n"
     ]
    },
    {
     "name": "stderr",
     "output_type": "stream",
     "text": [
      "/usr/local/lib/python3.4/dist-packages/numpy/core/fromnumeric.py:52: FutureWarning: reshape is deprecated and will raise in a subsequent release. Please use .values.reshape(...) instead\n",
      "  return getattr(obj, method)(*args, **kwds)\n"
     ]
    },
    {
     "data": {
      "image/png": "[encoded data removed]",
      "text/plain": [
       "<Figure size 576x360 with 1 Axes>"
      ]
     },
     "metadata": {},
     "output_type": "display_data"
    }
   ],
   "source": [
    "## plot faith alpha diversity for these  different groups \n",
    "\n",
    "import matplotlib\n",
    "from matplotlib import pyplot as plt \n",
    "\n",
    "data_to_plot=[alpha_uc_no_pw,alpha_uc_colec_normal_pw,alpha_uc_colec_pouchitis_pw,alpha_uc_colec_nopouch_pw,\n",
    "              alpha_uc_CD_pouch_pw]\n",
    "\n",
    "matplotlib.rcParams.update({'font.size': 12})\n",
    "fig = plt.figure(1, figsize=(8,5))\n",
    "ax = fig.add_subplot(111)\n",
    "bp1=ax.boxplot(data_to_plot,positions=np.linspace(1, 5.5, num=5), patch_artist=True,widths=0.5) \n",
    "\n",
    "# fill with colors\n",
    "for patch in bp1['boxes']:\n",
    "    patch.set(color='grey')   \n",
    "    \n",
    "#ax.legend([bp1[\"boxes\"][0], bp2[\"boxes\"][0]], ['complication', 'no complication'], loc='upper right')\n",
    "\n",
    "ax.set_xticklabels(['UC no surgery', 'UC colectomy+normal pouch', 'UC colectomy+pouchitis','UC colectomy no pouch',\n",
    "                    'CD pouch',])\n",
    "ax.set_ylabel('alpha diversity (Faith)')\n",
    "ax.set_xlim(0.5,6)\n",
    "plt.xticks(rotation=20)\n",
    "\n",
    "print (kruskal(alpha_uc_colec_pouchitis,alpha_uc_colec_normal,alpha_uc_colec_nopouch,alpha_uc_CD_pouch))\n"
   ]
  },
  {
   "cell_type": "code",
   "execution_count": 270,
   "metadata": {
    "scrolled": true
   },
   "outputs": [
    {
     "data": {
      "text/html": [
       "<div>\n",
       "<style scoped>\n",
       "    .dataframe tbody tr th:only-of-type {\n",
       "        vertical-align: middle;\n",
       "    }\n",
       "\n",
       "    .dataframe tbody tr th {\n",
       "        vertical-align: top;\n",
       "    }\n",
       "\n",
       "    .dataframe thead th {\n",
       "        text-align: right;\n",
       "    }\n",
       "</style>\n",
       "<table border=\"1\" class=\"dataframe\">\n",
       "  <thead>\n",
       "    <tr style=\"text-align: right;\">\n",
       "      <th></th>\n",
       "      <th>UC_no_surgery</th>\n",
       "      <th>CD_no_surgery</th>\n",
       "      <th>UC_surgery</th>\n",
       "      <th>CD_surgery</th>\n",
       "    </tr>\n",
       "  </thead>\n",
       "  <tbody>\n",
       "    <tr>\n",
       "      <th>25%</th>\n",
       "      <td>0.002038</td>\n",
       "      <td>0.010017</td>\n",
       "      <td>0.021186</td>\n",
       "      <td>0.002374</td>\n",
       "    </tr>\n",
       "    <tr>\n",
       "      <th>50%</th>\n",
       "      <td>9.180872</td>\n",
       "      <td>16.961941</td>\n",
       "      <td>36.038917</td>\n",
       "      <td>31.864177</td>\n",
       "    </tr>\n",
       "    <tr>\n",
       "      <th>75%</th>\n",
       "      <td>74.127024</td>\n",
       "      <td>82.904208</td>\n",
       "      <td>159.454046</td>\n",
       "      <td>124.354626</td>\n",
       "    </tr>\n",
       "    <tr>\n",
       "      <th>100%</th>\n",
       "      <td>743.507028</td>\n",
       "      <td>711.912794</td>\n",
       "      <td>649.770167</td>\n",
       "      <td>670.942190</td>\n",
       "    </tr>\n",
       "  </tbody>\n",
       "</table>\n",
       "</div>"
      ],
      "text/plain": [
       "      UC_no_surgery  CD_no_surgery  UC_surgery  CD_surgery\n",
       "25%        0.002038       0.010017    0.021186    0.002374\n",
       "50%        9.180872      16.961941   36.038917   31.864177\n",
       "75%       74.127024      82.904208  159.454046  124.354626\n",
       "100%     743.507028     711.912794  649.770167  670.942190"
      ]
     },
     "execution_count": 270,
     "metadata": {},
     "output_type": "execute_result"
    }
   ],
   "source": [
    "df_uc_no=df_pathway[alpha_uc_no_pw.index].quantile(q=[0.25,0.5,0.75,1])\n",
    "df_uc_s=df_pathway[alpha_uc_surgery_pw.index].quantile(q=[0.25,0.5,0.75,1])\n",
    "df_cd_no=df_pathway[alpha_cd_nosurgery_pw.index].quantile(q=[0.25,0.5,0.75,1])\n",
    "df_cd_s=df_pathway[alpha_cd_surgery_pw.index].quantile(q=[0.25,0.5,0.75,1])\n",
    "\n",
    "df_quantile=pd.DataFrame(index=['25%','50%','75%','100%'])\n",
    "df_quantile['UC_no_surgery']=list(df_uc_no.mean(axis=1))\n",
    "df_quantile['CD_no_surgery']=list(df_cd_no.mean(axis=1))\n",
    "df_quantile['UC_surgery']=list(df_uc_s.mean(axis=1))\n",
    "df_quantile['CD_surgery']=list(df_cd_s.mean(axis=1))\n",
    "\n",
    "df_quantile"
   ]
  },
  {
   "cell_type": "code",
   "execution_count": null,
   "metadata": {},
   "outputs": [],
   "source": []
  }
 ],
 "metadata": {
  "kernelspec": {
   "display_name": "Python 3",
   "language": "python",
   "name": "python3"
  },
  "language_info": {
   "codemirror_mode": {
    "name": "ipython",
    "version": 3
   },
   "file_extension": ".py",
   "mimetype": "text/x-python",
   "name": "python",
   "nbconvert_exporter": "python",
   "pygments_lexer": "ipython3",
   "version": "3.4.3"
  }
 },
 "nbformat": 4,
 "nbformat_minor": 2
}
