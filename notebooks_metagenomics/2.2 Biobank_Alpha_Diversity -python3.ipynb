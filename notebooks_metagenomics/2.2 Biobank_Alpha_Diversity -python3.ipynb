{
 "cells": [
  {
   "cell_type": "code",
   "execution_count": 1,
   "metadata": {},
   "outputs": [],
   "source": [
    "import numpy as np\n",
    "import scipy \n",
    "import skbio\n",
    "import pandas as pd\n",
    "import os\n",
    "%matplotlib inline\n",
    "import matplotlib\n",
    "matplotlib.rcParams['pdf.fonttype'] = 42\n",
    "matplotlib.rcParams['ps.fonttype'] = 42"
   ]
  },
  {
   "cell_type": "markdown",
   "metadata": {},
   "source": [
    "# Calculate alpha diversity \n"
   ]
  },
  {
   "cell_type": "markdown",
   "metadata": {},
   "source": [
    "## Calculate alpha diversity using species abundance produced by metaphlan2"
   ]
  },
  {
   "cell_type": "code",
   "execution_count": 2,
   "metadata": {},
   "outputs": [],
   "source": [
    "#load metaphlan2 species abundance\n",
    "\n",
    "df_species=pd.read_csv('./data/metaphlan2_species_level_abundance_classified.csv',index_col=0)\n",
    "df_species=df_species.fillna(value=0)\n",
    "\n",
    "#load the species abundance profile with species name abundance replaced by taxonID\n",
    "# This is to ensure the consistency between phylo tree and abundance profile\n",
    "df_spe_taxID=pd.read_csv('./data/metaphlan2_species_abundance_taxonID.csv',index_col=0)\n",
    "df_spe_taxID=df_spe_taxID.fillna(value=0)\n"
   ]
  },
  {
   "cell_type": "code",
   "execution_count": 3,
   "metadata": {},
   "outputs": [],
   "source": [
    "##load metadata \n",
    "df_meta=pd.read_csv('./data/metadata_updated_filtered_201904.csv',index_col=0)\n",
    "df_meta=df_meta.fillna(value=100)\n",
    "\n",
    "#create dictionary that stores patients information\n",
    "dic_subtype=dict(zip(df_meta.index,df_meta.disease))\n",
    "dic_surgery=dict(zip(df_meta.index,df_meta.surgery_type))\n",
    "dic_complication=dict(zip(df_meta.index, df_meta.crohns_disease_behavior))"
   ]
  },
  {
   "cell_type": "markdown",
   "metadata": {},
   "source": [
    "### Separate samples by surgery type"
   ]
  },
  {
   "cell_type": "code",
   "execution_count": 4,
   "metadata": {},
   "outputs": [
    {
     "name": "stdout",
     "output_type": "stream",
     "text": [
      "Number of samples in colectomy group:  51\n",
      "Number of samples in ilealcolonic group:  41\n",
      "Number of samples in no surgery group:  209\n"
     ]
    }
   ],
   "source": [
    "## split the patients into UC, CD and with/without surgery group \n",
    "colectomy=[]\n",
    "ilealcolonic=[]\n",
    "sugery_none=[]\n",
    "\n",
    "for i in df_species.columns: \n",
    "    if i in dic_subtype.keys(): \n",
    "        if dic_surgery[i]=='colectomy' or dic_surgery[i]=='partial_colectomy': \n",
    "            colectomy.append(i)\n",
    "        elif dic_surgery[i]=='none': \n",
    "            sugery_none.append(i)\n",
    "        else: \n",
    "            ilealcolonic.append(i)\n",
    "            \n",
    "print ('Number of samples in colectomy group: ', len(colectomy))\n",
    "print ('Number of samples in ilealcolonic group: ',len(ilealcolonic))\n",
    "print ('Number of samples in no surgery group: ',len(sugery_none))\n"
   ]
  },
  {
   "cell_type": "markdown",
   "metadata": {},
   "source": [
    "## alpha diversity for non-phylogenetic metrics"
   ]
  },
  {
   "cell_type": "code",
   "execution_count": 5,
   "metadata": {},
   "outputs": [
    {
     "name": "stdout",
     "output_type": "stream",
     "text": [
      "Mean alpha diversity of all samples (observed OTU): \n",
      "54.42857142857143\n",
      "Mean alpha diversity of all samples (shannon): \n",
      "3.204316663073162\n"
     ]
    }
   ],
   "source": [
    "from skbio.diversity import alpha_diversity\n",
    "\n",
    "#preprocess data - alpha diversity function only takes in integers\n",
    "df=df_species.transpose()\n",
    "data_pre=100000*pd.DataFrame.as_matrix(df_species.transpose())\n",
    "data=data_pre.astype(int)\n",
    "ids=df.index\n",
    "\n",
    "#observed OTU\n",
    "adiv_otus = alpha_diversity('observed_otus', data, ids)\n",
    "print ('Mean alpha diversity of all samples (observed OTU): ' )\n",
    "print (str(np.mean(list(adiv_otus.data))))\n",
    "\n",
    "#shannon\n",
    "adiv_shannon = alpha_diversity('shannon', data, ids)\n",
    "print ('Mean alpha diversity of all samples (shannon): ' )\n",
    "print (str(np.mean(list(adiv_shannon.data))))\n"
   ]
  },
  {
   "cell_type": "markdown",
   "metadata": {},
   "source": [
    "## Alpha diversity with phylogenetic metric: Faith"
   ]
  },
  {
   "cell_type": "code",
   "execution_count": 6,
   "metadata": {},
   "outputs": [
    {
     "name": "stdout",
     "output_type": "stream",
     "text": [
      "Mean alpha diversity of all samples (Faith): \n",
      "107.28571428571429\n"
     ]
    }
   ],
   "source": [
    "from skbio import TreeNode\n",
    "from io import StringIO\n",
    "\n",
    "# load phylogenetic tree built in the preprocessing notebook\n",
    "with open('./data/phylotree_sandborn.nw', 'r') as myfile:\n",
    "    data=myfile.read()\n",
    "tree=TreeNode.read(StringIO(data))\n",
    "otuid=[str(i) for i in df.columns]\n",
    "\n",
    "\n",
    "#preprocess data - alpha diversity function only takes in integers\n",
    "df=df_spe_taxID.transpose()\n",
    "data_pre=100000*pd.DataFrame.as_matrix(df_spe_taxID.transpose())\n",
    "data=data_pre.astype(int)\n",
    "ids=df.index\n",
    "otuid=[str(i) for i in df.columns]\n",
    "\n",
    "adiv_faith = alpha_diversity('faith_pd', data,ids=list(ids),otu_ids=otuid, tree=tree)\n",
    "print ('Mean alpha diversity of all samples (Faith): ' )\n",
    "print (str(np.mean(list(adiv_faith.data))))\n",
    "\n",
    "## save alpha diversity into a csv file \n",
    "#adiv_faith.to_csv('../data/Sandborn_data/metadata/Alpha_diversity_faith.csv')"
   ]
  },
  {
   "cell_type": "code",
   "execution_count": 7,
   "metadata": {},
   "outputs": [
    {
     "name": "stdout",
     "output_type": "stream",
     "text": [
      "Mean alpha diversity of no surgery samples (Faith): \n",
      "117.00478468899522\n",
      "Mean alpha diversity of ilealcolonic samples (Faith): \n",
      "93.48780487804878\n",
      "Mean alpha diversity of colectomy samples (Faith): \n",
      "78.54901960784314\n"
     ]
    }
   ],
   "source": [
    "# extract faith diversity for subgroups separated by surgery subtype\n",
    "df_alpha_colectomy=adiv_faith.loc[colectomy]\n",
    "df_alpha_ilealcolonic=adiv_faith.loc[ilealcolonic]\n",
    "df_alpha_no=adiv_faith.loc[sugery_none]\n",
    "\n",
    "print ('Mean alpha diversity of no surgery samples (Faith): ' )\n",
    "print (str(np.mean(list(df_alpha_no.data))))\n",
    "print ('Mean alpha diversity of ilealcolonic samples (Faith): ' )\n",
    "print (str(np.mean(list(df_alpha_ilealcolonic.data))))\n",
    "print ('Mean alpha diversity of colectomy samples (Faith): ' )\n",
    "print (str(np.mean(list(df_alpha_colectomy.data))))\n"
   ]
  },
  {
   "cell_type": "code",
   "execution_count": 8,
   "metadata": {},
   "outputs": [
    {
     "name": "stderr",
     "output_type": "stream",
     "text": [
      "/usr/local/lib/python3.4/dist-packages/numpy/core/fromnumeric.py:52: FutureWarning: reshape is deprecated and will raise in a subsequent release. Please use .values.reshape(...) instead\n",
      "  return getattr(obj, method)(*args, **kwds)\n"
     ]
    },
    {
     "data": {
      "text/plain": [
       "Text(0,0.5,'alpha diversity (Faith)')"
      ]
     },
     "execution_count": 8,
     "metadata": {},
     "output_type": "execute_result"
    },
    {
     "data": {
      "image/png": "[encoded data removed]",
      "text/plain": [
       "<Figure size 648x432 with 1 Axes>"
      ]
     },
     "metadata": {},
     "output_type": "display_data"
    }
   ],
   "source": [
    "## plot faith alpha diversity for these  different groups \n",
    "\n",
    "import matplotlib\n",
    "from matplotlib import pyplot as plt \n",
    "\n",
    "data_to_plot=[df_alpha_no,df_alpha_ilealcolonic, df_alpha_colectomy]\n",
    "matplotlib.rcParams.update({'font.size': 15})\n",
    "\n",
    "fig = plt.figure(1, figsize=(9, 6))\n",
    "ax = fig.add_subplot(111)\n",
    "bp=ax.boxplot(data_to_plot) \n",
    "ax.set_xticklabels(['No surgery', 'ileocolonic', 'colectomy'])\n",
    "ax.set_ylabel('alpha diversity (Faith)')\n",
    "#fig.savefig('../data/Sandborn_data/figures/alpha_diversity_of_surgery_subgroups_faith.svg')"
   ]
  },
  {
   "cell_type": "code",
   "execution_count": 9,
   "metadata": {},
   "outputs": [
    {
     "name": "stdout",
     "output_type": "stream",
     "text": [
      "KruskalResult(statistic=69.76463826512718, pvalue=7.092531686809435e-16)\n"
     ]
    }
   ],
   "source": [
    "## Test the the statistical significance between 3 subgroups \n",
    "\n",
    "from scipy.stats import kruskal\n",
    "print (kruskal(df_alpha_no,df_alpha_ilealcolonic,df_alpha_colectomy))"
   ]
  },
  {
   "cell_type": "markdown",
   "metadata": {},
   "source": [
    "### Split in subgroups by complications to control  for disease severity"
   ]
  },
  {
   "cell_type": "code",
   "execution_count": 10,
   "metadata": {
    "scrolled": true
   },
   "outputs": [],
   "source": [
    "# look at only patients with stricturing and fistulizing complications \n",
    "# look at time in two groups- surgery vs non-surgery\n",
    "complication_nosurgery=[]\n",
    "complication_colectomy=[]\n",
    "complication_ielocolonic=[]\n",
    "\n",
    "nocomplication_nosurgery=[]\n",
    "nocomplication_colectomy=[]\n",
    "nocomplication_ielocolonic=[]\n",
    "\n",
    "for i in df_spe_taxID: \n",
    "    if dic_complication[i]=='fistulizing' or dic_complication[i]== 'stricturing': \n",
    "        if dic_surgery[i]=='none': \n",
    "            complication_nosurgery.append(i)\n",
    "        elif dic_surgery[i]=='colectomy'or dic_surgery[i]=='partial_colectomy': \n",
    "            complication_colectomy.append(i)\n",
    "        else: \n",
    "            complication_ielocolonic.append(i)\n",
    "    else: \n",
    "        if dic_surgery[i]=='none': \n",
    "            nocomplication_nosurgery.append(i)\n",
    "        elif dic_surgery[i]=='colectomy' or dic_surgery[i]=='partial_colectomy': \n",
    "            nocomplication_colectomy.append(i)\n",
    "        else: \n",
    "            nocomplication_ielocolonic.append(i)\n",
    "        \n",
    "\n",
    "# extract the alpha diversity \n",
    "\n",
    "alpha_comp_nosurg=adiv_faith.loc[complication_nosurgery]\n",
    "alpha_comp_colec=adiv_faith.loc[complication_colectomy]\n",
    "alpha_comp_ileo=adiv_faith.loc[complication_ielocolonic]\n",
    "alpha_nocomp_nosurg=adiv_faith.loc[nocomplication_nosurgery]\n",
    "alpha_nocomp_colec=adiv_faith.loc[nocomplication_colectomy]\n",
    "alpha_nocomp_ileo=adiv_faith.loc[nocomplication_ielocolonic]\n",
    "\n",
    "alpha_comp=adiv_faith.loc[complication_nosurgery+complication_colectomy+complication_ielocolonic]\n",
    "alpha_nocomp=adiv_faith.loc[nocomplication_nosurgery+nocomplication_colectomy+nocomplication_ielocolonic]"
   ]
  },
  {
   "cell_type": "code",
   "execution_count": 11,
   "metadata": {},
   "outputs": [
    {
     "name": "stdout",
     "output_type": "stream",
     "text": [
      "Mean alpha diversity of no surgery samples with complications (Faith): \n",
      "103.83333333333333\n",
      "Mean alpha diversity of ilealcolonic samples with complications(Faith): \n",
      "92.32\n",
      "Mean alpha diversity of colectomy samples with complications(Faith): \n",
      "68.35714285714286\n"
     ]
    }
   ],
   "source": [
    "#look at alpha diversity of subgroups \n",
    "\n",
    "print ('Mean alpha diversity of no surgery samples with complications (Faith): ' )\n",
    "print (str(np.mean(list(alpha_comp_nosurg.data))))\n",
    "\n",
    "print ('Mean alpha diversity of ilealcolonic samples with complications(Faith): ' )\n",
    "print (str(np.mean(list(alpha_comp_ileo.data))))\n",
    "\n",
    "print ('Mean alpha diversity of colectomy samples with complications(Faith): ' )\n",
    "print (str(np.mean(list(alpha_comp_colec.data))))\n"
   ]
  },
  {
   "cell_type": "code",
   "execution_count": 12,
   "metadata": {},
   "outputs": [
    {
     "name": "stderr",
     "output_type": "stream",
     "text": [
      "/usr/local/lib/python3.4/dist-packages/numpy/core/fromnumeric.py:52: FutureWarning: reshape is deprecated and will raise in a subsequent release. Please use .values.reshape(...) instead\n",
      "  return getattr(obj, method)(*args, **kwds)\n"
     ]
    },
    {
     "data": {
      "text/plain": [
       "(0.5, 6)"
      ]
     },
     "execution_count": 12,
     "metadata": {},
     "output_type": "execute_result"
    },
    {
     "data": {
      "image/png": "[encoded data removed]",
      "text/plain": [
       "<Figure size 648x432 with 1 Axes>"
      ]
     },
     "metadata": {},
     "output_type": "display_data"
    }
   ],
   "source": [
    "## plot faith alpha diversity for these  different groups \n",
    "\n",
    "import matplotlib\n",
    "from matplotlib import pyplot as plt \n",
    "\n",
    "data_to_plot=[alpha_comp_nosurg,alpha_comp_ileo, alpha_comp_colec]\n",
    "data_to_plot2=[alpha_nocomp_nosurg,alpha_nocomp_ileo, alpha_nocomp_colec]\n",
    "\n",
    "matplotlib.rcParams.update({'font.size': 15})\n",
    "fig = plt.figure(1, figsize=(9, 6))\n",
    "ax = fig.add_subplot(111)\n",
    "bp1=ax.boxplot(data_to_plot,positions=[1,3,5], patch_artist=True) \n",
    "bp2=ax.boxplot(data_to_plot2,positions=[1.5,3.5,5.5]) \n",
    "\n",
    "# fill with colors\n",
    "colors = ['#66c2a5', '#fc8d62', '#8da0cb']\n",
    "for bplot in (bp1, bp2):\n",
    "    for patch, color in zip(bplot['boxes'], colors):\n",
    "        patch.set_color(color)\n",
    "    \n",
    "ax.legend([bp1[\"boxes\"][0], bp2[\"boxes\"][0]], ['complication', 'no complication'], loc='upper right')\n",
    "\n",
    "ax.set_xticklabels(['No surgery', 'ileocolonic', 'colectomy'])\n",
    "ax.set_ylabel('alpha diversity (Faith) of samples with complications')\n",
    "ax.set_xlim(0.5,6)\n",
    "#fig.savefig('../data/Sandborn_data/figures/alpha_diversity_of_surgery_subgroups_faith_complication.svg')\n",
    "#fig.savefig('../data/Sandborn_data/figures/alpha_diversity_of_surgery_subgroups_faith_complication.pdf')"
   ]
  },
  {
   "cell_type": "code",
   "execution_count": 13,
   "metadata": {},
   "outputs": [
    {
     "name": "stdout",
     "output_type": "stream",
     "text": [
      "MannwhitneyuResult(statistic=4050.0, pvalue=4.595546226741946e-07)\n"
     ]
    }
   ],
   "source": [
    "## Test the the statistical significance between samples with/without complication \n",
    "\n",
    "from scipy.stats import mannwhitneyu\n",
    "print (mannwhitneyu(alpha_comp,alpha_nocomp))"
   ]
  },
  {
   "cell_type": "markdown",
   "metadata": {},
   "source": [
    "### Association of alpha diversity with surgery time"
   ]
  },
  {
   "cell_type": "code",
   "execution_count": 14,
   "metadata": {},
   "outputs": [
    {
     "name": "stdout",
     "output_type": "stream",
     "text": [
      "correlation between alpha diversity and surgery date: \n",
      "SpearmanrResult(correlation=0.049492290494930966, pvalue=0.6394198723359449)\n"
     ]
    }
   ],
   "source": [
    "#extract time passed since surgery and alpha diversity for these samples \n",
    "\n",
    "from scipy.stats import spearmanr \n",
    "from scipy.stats import pearsonr\n",
    "\n",
    "sample_surgery=[]\n",
    "surgeryDate=[]\n",
    "\n",
    "#calculate time passed since surgery \n",
    "for i in range(len(df_meta)): \n",
    "    row=df_meta.iloc[i]\n",
    "    if row.name in df_spe_taxID.columns: \n",
    "        if row.year_recent_bowel_surgery!='not provided': \n",
    "            time=int(row.collection_timestamp)-int(row.year_recent_bowel_surgery)\n",
    "            if time > 0: \n",
    "                surgeryDate.append(time)\n",
    "                sample_surgery.append(row.name)\n",
    "            elif time ==0 and row.weeks_from_surgery!='not applicable': \n",
    "                if int(row.weeks_from_surgery)>0: \n",
    "                    #print row.name\n",
    "                    surgeryDate.append(time)\n",
    "                    sample_surgery.append(row.name)\n",
    "                \n",
    "alpha_surgtime=adiv_faith.loc[sample_surgery]\n",
    "\n",
    "\n",
    "# calculate correlation for time passed since surgery and alpha diversity \n",
    "print ('correlation between alpha diversity and surgery date: ')\n",
    "\n",
    "corrS=spearmanr(surgeryDate,alpha_surgtime)\n",
    "print (corrS)\n"
   ]
  },
  {
   "cell_type": "markdown",
   "metadata": {},
   "source": [
    "### Calculate correlation of alpha diversity with disease duration, bmi, and age baseline\n"
   ]
  },
  {
   "cell_type": "code",
   "execution_count": 15,
   "metadata": {},
   "outputs": [
    {
     "name": "stdout",
     "output_type": "stream",
     "text": [
      "correlation between alpha diversity and disease duration: \n",
      "SpearmanrResult(correlation=-0.045920568148002765, pvalue=0.5666909461868834)\n"
     ]
    }
   ],
   "source": [
    "#extract disease duration and alpha diversity for these samples \n",
    "\n",
    "sample_duration=[]\n",
    "durationList=[]\n",
    "\n",
    "#calculate time passed since surgery \n",
    "for i in range(len(df_meta)): \n",
    "    row=df_meta.iloc[i]\n",
    "    if row.name in df_spe_taxID.columns: \n",
    "        if row.disease_duration!=100: \n",
    "                durationList.append(row.disease_duration)\n",
    "                sample_duration.append(row.name)\n",
    "                \n",
    "alpha_duration=adiv_faith.loc[sample_duration]\n",
    "\n",
    "# calculate correlation for time passed since surgery and alpha diversity \n",
    "print ('correlation between alpha diversity and disease duration: ')\n",
    "corrS=spearmanr(durationList,alpha_duration)\n",
    "print (corrS)"
   ]
  },
  {
   "cell_type": "code",
   "execution_count": 16,
   "metadata": {},
   "outputs": [
    {
     "name": "stdout",
     "output_type": "stream",
     "text": [
      "correlation between alpha diversity and BMI: \n",
      "SpearmanrResult(correlation=0.1099079711806714, pvalue=0.07518864989211932)\n"
     ]
    }
   ],
   "source": [
    "#extract bmi and alpha diversity for these samples \n",
    "\n",
    "sample_bmi=[]\n",
    "bmiList=[]\n",
    "\n",
    "for i in range(len(df_meta)): \n",
    "    row=df_meta.iloc[i]\n",
    "    if row.name in df_spe_taxID.columns: \n",
    "        if row.BMI!='missing: not provided': \n",
    "                bmiList.append(float(row.BMI))\n",
    "                sample_bmi.append(row.name)\n",
    "                \n",
    "alpha_bmi=adiv_faith.loc[sample_bmi]\n",
    "\n",
    "# calculate correlation for time passed since surgery and alpha diversity \n",
    "print ('correlation between alpha diversity and BMI: ')\n",
    "corrS=spearmanr(bmiList,alpha_bmi)\n",
    "print (corrS)\n"
   ]
  },
  {
   "cell_type": "code",
   "execution_count": 17,
   "metadata": {
    "scrolled": true
   },
   "outputs": [
    {
     "name": "stdout",
     "output_type": "stream",
     "text": [
      "correlation between alpha diversity and age at baseline: \n",
      "SpearmanrResult(correlation=0.027230846632832678, pvalue=0.637955623190798)\n"
     ]
    }
   ],
   "source": [
    "#extract age and alpha diversity for these samples \n",
    "#calculate correlation for time passed since surgery and alpha diversity \n",
    "print ('correlation between alpha diversity and age at baseline: ')\n",
    "corrS=spearmanr(df_meta.loc[df_spe_taxID.columns].age_baseline,adiv_faith)\n",
    "print (corrS)\n"
   ]
  },
  {
   "cell_type": "markdown",
   "metadata": {},
   "source": [
    "### Explore the correlation of alpha diversity and smoking status between UC and CD subtypes"
   ]
  },
  {
   "cell_type": "code",
   "execution_count": 18,
   "metadata": {
    "scrolled": true
   },
   "outputs": [
    {
     "data": {
      "text/plain": [
       "KruskalResult(statistic=0.7515276693505926, pvalue=0.6867645038540338)"
      ]
     },
     "execution_count": 18,
     "metadata": {},
     "output_type": "execute_result"
    }
   ],
   "source": [
    "## first look at correlation with smoking status before spliting into subtypes \n",
    "sample_smoking=[]\n",
    "smokeList=[]\n",
    "\n",
    "for i in range(len(df_meta)): \n",
    "    row=df_meta.iloc[i]\n",
    "    if row.name in df_spe_taxID.columns: \n",
    "        if row.smoking_status!=100: \n",
    "                smokeList.append(float(row.smoking_status))\n",
    "                sample_smoking.append(row.name)\n",
    "alpha_smoke=adiv_faith.loc[sample_smoking]\n",
    "\n",
    "#correlation test \n",
    "never_all=[alpha_smoke.loc[i] for i in sample_smoking if df_meta.loc[i].smoking_status==0]\n",
    "before_all=[alpha_smoke.loc[i] for i in sample_smoking if df_meta.loc[i].smoking_status==1]\n",
    "current_all=[alpha_smoke.loc[i] for i in sample_smoking if df_meta.loc[i].smoking_status==2]\n",
    "from scipy.stats import kruskal\n",
    "kruskal(never_all,before_all,current_all)\n"
   ]
  },
  {
   "cell_type": "code",
   "execution_count": 19,
   "metadata": {},
   "outputs": [
    {
     "data": {
      "text/plain": [
       "KruskalResult(statistic=5.14416881997107, pvalue=0.07637618011779962)"
      ]
     },
     "execution_count": 19,
     "metadata": {},
     "output_type": "execute_result"
    }
   ],
   "source": [
    "# look at disease substypes\n",
    "\n",
    "cd_sample=[i for i in sample_smoking if df_meta.disease.loc[i]=='cd']\n",
    "uc_sample=[i for i in sample_smoking if df_meta.disease.loc[i]=='uc']\n",
    "\n",
    "#correlation test on cd samples \n",
    "never_cd=[alpha_smoke.loc[i] for i in cd_sample if df_meta.loc[i].smoking_status==0]\n",
    "before_cd=[alpha_smoke.loc[i] for i in cd_sample if df_meta.loc[i].smoking_status==1]\n",
    "current_cd=[alpha_smoke.loc[i] for i in cd_sample if df_meta.loc[i].smoking_status==2]\n",
    "from scipy.stats import kruskal\n",
    "kruskal(never_cd,before_cd,current_cd)\n",
    "\n",
    "#correlation test on uc samples \n",
    "never_uc=[alpha_smoke.loc[i] for i in uc_sample if df_meta.loc[i].smoking_status==0]\n",
    "before_uc=[alpha_smoke.loc[i] for i in uc_sample if df_meta.loc[i].smoking_status==1]\n",
    "current_uc=[alpha_smoke.loc[i] for i in uc_sample if df_meta.loc[i].smoking_status==2]\n",
    "from scipy.stats import kruskal\n",
    "kruskal(never_uc,before_uc,current_uc)"
   ]
  },
  {
   "cell_type": "markdown",
   "metadata": {},
   "source": [
    "### Association of alpha diversity with E.coli abundance"
   ]
  },
  {
   "cell_type": "code",
   "execution_count": 20,
   "metadata": {
    "scrolled": true
   },
   "outputs": [
    {
     "name": "stdout",
     "output_type": "stream",
     "text": [
      "SpearmanrResult(correlation=-0.25666423895850665, pvalue=6.4763322990815385e-06)\n"
     ]
    }
   ],
   "source": [
    "#extract ecoli abundance \n",
    "\n",
    "ecoli_abund=df_spe_taxID.T[1005520]\n",
    "corrS=spearmanr(ecoli_abund,adiv_faith)\n",
    "print (corrS)"
   ]
  },
  {
   "cell_type": "code",
   "execution_count": 21,
   "metadata": {},
   "outputs": [
    {
     "name": "stdout",
     "output_type": "stream",
     "text": [
      "y=-0.685208x+(113.760405)\n"
     ]
    },
    {
     "data": {
      "text/plain": [
       "Text(0,0.5,'Alpha Diversity (Faith)')"
      ]
     },
     "execution_count": 21,
     "metadata": {},
     "output_type": "execute_result"
    },
    {
     "data": {
      "image/png": "[encoded data removed]",
      "text/plain": [
       "<Figure size 432x288 with 1 Axes>"
      ]
     },
     "metadata": {},
     "output_type": "display_data"
    }
   ],
   "source": [
    "plt.scatter(ecoli_abund,adiv_faith)\n",
    "\n",
    "# calc the trendline\n",
    "x=ecoli_abund\n",
    "z = np.polyfit(ecoli_abund, adiv_faith, 1)\n",
    "p = np.poly1d(z)\n",
    "plt.plot(x,p(x),\"r--\")\n",
    "# the line equation:\n",
    "print (\"y=%.6fx+(%.6f)\"%(z[0],z[1]))\n",
    "\n",
    "plt.xlabel('E.coli abundance(%)')\n",
    "plt.ylabel('Alpha Diversity (Faith)')\n"
   ]
  },
  {
   "cell_type": "markdown",
   "metadata": {},
   "source": [
    "## Calculate alpha diversity of pathway abundance generated from humann2"
   ]
  },
  {
   "cell_type": "code",
   "execution_count": 22,
   "metadata": {},
   "outputs": [],
   "source": [
    "#load pathway abundance\n",
    "\n",
    "df_pathway=pd.read_csv('./data/Filtered_normalized_cpm_pathways_new_unstratified.csv',index_col=0)\n",
    "df_pathway=df_pathway.fillna(value=0)\n",
    "\n",
    "## split the patients into UC, CD and with/without surgery group \n",
    "colectomy_pw=[]\n",
    "ilealcolonic_pw=[]\n",
    "sugery_none_pw=[]\n",
    "\n",
    "for i in df_pathway.columns: \n",
    "    if i in dic_subtype.keys(): \n",
    "        if dic_surgery[i]=='colectomy' or dic_surgery[i]=='partial_colectomy': \n",
    "            colectomy_pw.append(i)\n",
    "        elif dic_surgery[i]=='none': \n",
    "            sugery_none_pw.append(i)\n",
    "        else: \n",
    "            ilealcolonic_pw.append(i)"
   ]
  },
  {
   "cell_type": "markdown",
   "metadata": {},
   "source": [
    "## Alpha diversity for non-phylogenetic metrics for functional profiles"
   ]
  },
  {
   "cell_type": "code",
   "execution_count": 23,
   "metadata": {},
   "outputs": [
    {
     "name": "stdout",
     "output_type": "stream",
     "text": [
      "Mean alpha diversity of functional profiles (observed OTU): \n",
      "308.46\n",
      "Mean alpha diversity of functional profiles (shannon): \n",
      "7.302150253204357\n"
     ]
    }
   ],
   "source": [
    "from skbio.diversity import alpha_diversity\n",
    "\n",
    "#preprocess data - alpha diversity function only takes in integers\n",
    "\n",
    "df=df_pathway.transpose()\n",
    "data_pre=100000*pd.DataFrame.as_matrix(df)\n",
    "data=data_pre.astype(int)\n",
    "ids=df.index\n",
    "\n",
    "#observed OTU\n",
    "adiv_otus_pw = alpha_diversity('observed_otus', data, ids)\n",
    "print ('Mean alpha diversity of functional profiles (observed OTU): ' )\n",
    "print (str(np.mean(list(adiv_otus_pw.data))))\n",
    "\n",
    "#shannon\n",
    "adiv_shannon_pw = alpha_diversity('shannon', data, ids)\n",
    "print ('Mean alpha diversity of functional profiles (shannon): ' )\n",
    "print (str(np.mean(list(adiv_shannon_pw.data))))\n"
   ]
  },
  {
   "cell_type": "code",
   "execution_count": 24,
   "metadata": {},
   "outputs": [
    {
     "name": "stdout",
     "output_type": "stream",
     "text": [
      "Mean alpha diversity of no surgery samples(pathway;shannon): \n",
      "7.21770445620894\n",
      "Mean alpha diversity of ilealcolonic samples (pathway;shannon): \n",
      "7.415795219214607\n",
      "Mean alpha diversity of colectomy samples (pathway;shannon): \n",
      "7.555195001608801\n"
     ]
    }
   ],
   "source": [
    "# extract faith diversity for subgroups separated by surgery subtype\n",
    "df_alpha_colectomy_pw=adiv_shannon_pw.loc[colectomy_pw]\n",
    "df_alpha_ilealcolonic_pw=adiv_shannon_pw.loc[ilealcolonic_pw]\n",
    "df_alpha_no_pw=adiv_shannon_pw.loc[sugery_none_pw]\n",
    "\n",
    "print ('Mean alpha diversity of no surgery samples(pathway;shannon): ' )\n",
    "print (str(np.mean(list(df_alpha_no_pw.data))))\n",
    "print ('Mean alpha diversity of ilealcolonic samples (pathway;shannon): ' )\n",
    "print (str(np.mean(list(df_alpha_ilealcolonic_pw.data))))\n",
    "print ('Mean alpha diversity of colectomy samples (pathway;shannon): ' )\n",
    "print (str(np.mean(list(df_alpha_colectomy_pw.data))))"
   ]
  }
 ],
 "metadata": {
  "kernelspec": {
   "display_name": "Python 3",
   "language": "python",
   "name": "python3"
  },
  "language_info": {
   "codemirror_mode": {
    "name": "ipython",
    "version": 3
   },
   "file_extension": ".py",
   "mimetype": "text/x-python",
   "name": "python",
   "nbconvert_exporter": "python",
   "pygments_lexer": "ipython3",
   "version": "3.4.3"
  }
 },
 "nbformat": 4,
 "nbformat_minor": 2
}
