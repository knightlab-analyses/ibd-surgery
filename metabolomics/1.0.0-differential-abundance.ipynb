{
 "cells": [
  {
   "cell_type": "code",
   "execution_count": 1,
   "metadata": {},
   "outputs": [],
   "source": [
    "%matplotlib inline\n",
    "import pandas as pd, numpy as np, seaborn as sns, matplotlib.pyplot as plt, qiime2 as q2\n",
    "from biom import load_table, Table\n",
    "from biom.util import biom_open\n",
    "from skbio import OrdinationResults\n",
    "from emperor import Emperor, nbinstall; nbinstall()\n",
    "\n",
    "def load_mf(fn, index='#SampleID'):\n",
    "    _df = pd.read_csv(fn, sep='\\t', dtype='str', na_values=[], keep_default_na=False)\n",
    "    _df.set_index(index, inplace=True)\n",
    "    return _df"
   ]
  },
  {
   "cell_type": "code",
   "execution_count": 10,
   "metadata": {},
   "outputs": [],
   "source": [
    "mf = load_mf('data/11546_20190819-143944.txt', 'sample_name')\n",
    "# remove blanks\n",
    "mf = mf.query('empo_1 == \"Host-associated\"').copy()"
   ]
  },
  {
   "cell_type": "markdown",
   "metadata": {},
   "source": [
    "Filter the feature table to exclude blanks."
   ]
  },
  {
   "cell_type": "code",
   "execution_count": 25,
   "metadata": {},
   "outputs": [
    {
     "data": {
      "text/plain": [
       "'data/feature-table.qza'"
      ]
     },
     "execution_count": 25,
     "metadata": {},
     "output_type": "execute_result"
    }
   ],
   "source": [
    "table = q2.Artifact.import_data('FeatureTable[Frequency]', 'data/boland_biom_original.biom')\n",
    "table.save('data/feature-table.qza')"
   ]
  },
  {
   "cell_type": "code",
   "execution_count": 26,
   "metadata": {},
   "outputs": [
    {
     "name": "stdout",
     "output_type": "stream",
     "text": [
      "\u001b[32mSaved FeatureTable[Frequency] to: data/feature-table.baseline.noblanks.qza\u001b[0m\r\n"
     ]
    }
   ],
   "source": [
    "!qiime feature-table filter-samples \\\n",
    "--i-table data/feature-table.qza \\\n",
    "--m-metadata-file data/11546_20190118-122918.txt \\\n",
    "--p-where \"empo_1 == 'Host-associated' and time_point == 'baseline'\" \\\n",
    "--o-filtered-table data/feature-table.baseline.noblanks.qza "
   ]
  },
  {
   "cell_type": "code",
   "execution_count": 27,
   "metadata": {},
   "outputs": [
    {
     "name": "stdout",
     "output_type": "stream",
     "text": [
      "\u001b[32mSaved FeatureTable[Composition] to: data/feature-table.baseline.noblanks.composition.qza\u001b[0m\r\n"
     ]
    }
   ],
   "source": [
    "!qiime composition add-pseudocount \\\n",
    "--i-table data/feature-table.baseline.noblanks.qza \\\n",
    "--o-composition-table data/feature-table.baseline.noblanks.composition.qza"
   ]
  },
  {
   "cell_type": "code",
   "execution_count": 28,
   "metadata": {},
   "outputs": [
    {
     "name": "stdout",
     "output_type": "stream",
     "text": [
      "\u001b[32mSaved Visualization to: ms.ancom.qzv\u001b[0m\r\n"
     ]
    }
   ],
   "source": [
    "!qiime composition ancom --i-table data/feature-table.baseline.noblanks.composition.qza \\\n",
    "--m-metadata-file data/11546_20190118-122918.txt \\\n",
    "--m-metadata-column has_surgery \\\n",
    "--o-visualization ms.ancom.qzv"
   ]
  },
  {
   "cell_type": "markdown",
   "metadata": {},
   "source": [
    "Next step is to download the summary file from ANCOM and using it to look at the "
   ]
  },
  {
   "cell_type": "code",
   "execution_count": 4,
   "metadata": {},
   "outputs": [
    {
     "name": "stderr",
     "output_type": "stream",
     "text": [
      "/Users/yoshikivazquezbaeza/miniconda3/envs/qiime2-2019.4/lib/python3.6/site-packages/ipykernel_launcher.py:1: FutureWarning: read_table is deprecated, use read_csv instead, passing sep='\\t'.\n",
      "  \"\"\"Entry point for launching an IPython kernel.\n"
     ]
    }
   ],
   "source": [
    "ancom_results = pd.read_table('ancom.tsv', index_col=0)"
   ]
  },
  {
   "cell_type": "code",
   "execution_count": 5,
   "metadata": {},
   "outputs": [],
   "source": [
    "ms = q2.Artifact.load('data/feature-table.baseline.noblanks.composition.qza').view(pd.DataFrame)"
   ]
  },
  {
   "cell_type": "code",
   "execution_count": 6,
   "metadata": {},
   "outputs": [],
   "source": [
    "spectra_metadata = load_table('data/boland_biom_original.biom').metadata_to_dataframe('observation')"
   ]
  },
  {
   "cell_type": "code",
   "execution_count": 16,
   "metadata": {},
   "outputs": [
    {
     "data": {
      "text/html": [
       "<div>\n",
       "<style scoped>\n",
       "    .dataframe tbody tr th:only-of-type {\n",
       "        vertical-align: middle;\n",
       "    }\n",
       "\n",
       "    .dataframe tbody tr th {\n",
       "        vertical-align: top;\n",
       "    }\n",
       "\n",
       "    .dataframe thead th {\n",
       "        text-align: right;\n",
       "    }\n",
       "</style>\n",
       "<table border=\"1\" class=\"dataframe\">\n",
       "  <thead>\n",
       "    <tr style=\"text-align: right;\">\n",
       "      <th></th>\n",
       "      <th>Adduct</th>\n",
       "      <th>CAS_Number</th>\n",
       "      <th>Compound_Name</th>\n",
       "      <th>Compound_Source</th>\n",
       "      <th>INCHI</th>\n",
       "      <th>IonMode</th>\n",
       "      <th>LibMZ</th>\n",
       "      <th>LibraryQualityString</th>\n",
       "      <th>Smiles</th>\n",
       "    </tr>\n",
       "  </thead>\n",
       "  <tbody>\n",
       "    <tr>\n",
       "      <th>121.0646;0.3407</th>\n",
       "      <td>M+H-NH3</td>\n",
       "      <td>94702</td>\n",
       "      <td>Spectral Match to 1-Amino-2-ethoxybenzene from...</td>\n",
       "      <td>Isolated</td>\n",
       "      <td>nan</td>\n",
       "      <td>Positive</td>\n",
       "      <td>121.065</td>\n",
       "      <td>Bronze</td>\n",
       "      <td>nan</td>\n",
       "    </tr>\n",
       "  </tbody>\n",
       "</table>\n",
       "</div>"
      ],
      "text/plain": [
       "                  Adduct CAS_Number  \\\n",
       "121.0646;0.3407  M+H-NH3      94702   \n",
       "\n",
       "                                                     Compound_Name  \\\n",
       "121.0646;0.3407  Spectral Match to 1-Amino-2-ethoxybenzene from...   \n",
       "\n",
       "                Compound_Source INCHI   IonMode    LibMZ LibraryQualityString  \\\n",
       "121.0646;0.3407        Isolated   nan  Positive  121.065               Bronze   \n",
       "\n",
       "                Smiles  \n",
       "121.0646;0.3407    nan  "
      ]
     },
     "execution_count": 16,
     "metadata": {},
     "output_type": "execute_result"
    }
   ],
   "source": [
    "spectra_metadata[spectra_metadata.Compound_Name == 'Spectral Match to 1-Amino-2-ethoxybenzene from NIST14']"
   ]
  },
  {
   "cell_type": "code",
   "execution_count": 7,
   "metadata": {},
   "outputs": [],
   "source": [
    "differential = spectra_metadata.loc[ancom_results[ancom_results[\"Reject null hypothesis\"]].index]"
   ]
  },
  {
   "cell_type": "markdown",
   "metadata": {},
   "source": [
    "Transform into CLR"
   ]
  },
  {
   "cell_type": "code",
   "execution_count": 8,
   "metadata": {},
   "outputs": [],
   "source": [
    "from skbio.stats.composition import clr\n",
    "\n",
    "# ms_df = ms.to_dataframe(True)\n",
    "ms_df = ms.T.apply(lambda row: clr(row), axis=0)\n",
    "ms_df = ms_df.loc[differential.index].copy()\n",
    "\n",
    "# ms_df = ms.filter(differential.index, axis='observation', inplace=False).to_dataframe(True)"
   ]
  },
  {
   "cell_type": "code",
   "execution_count": 9,
   "metadata": {},
   "outputs": [],
   "source": [
    "mf = mf.loc[ms_df.columns].copy()\n",
    "\n",
    "names = []\n",
    "for molecule in ms_df.index:\n",
    "    row = spectra_metadata.loc[molecule]\n",
    "    \n",
    "    if row.Compound_Name == 'nan':\n",
    "        name = row.name\n",
    "    else:\n",
    "        name = row.Compound_Name\n",
    "    \n",
    "    # should be copying the CLR transformed data\n",
    "    mf[name] = ms_df.loc[molecule].copy()\n",
    "    names.append(name)\n",
    "\n",
    "long = pd.melt(mf, value_vars=names, id_vars=['has_surgery'], var_name='Molecule', value_name='Intensity',)"
   ]
  },
  {
   "cell_type": "code",
   "execution_count": 12,
   "metadata": {},
   "outputs": [],
   "source": [
    "long.Molecule.replace({ \n",
    " 'Spectral Match to Glycocholic acid from NIST14': 'Glycocholic acid',\n",
    " 'Spectral Match to Cholic acid from NIST14': 'Cholic acid',\n",
    " 'Spectral Match to L-Tyrosine from NIST14': 'L-Tyrosine',\n",
    " 'Spectral Match to L-Glutamic acid from NIST14': 'L-Glutamic acid',\n",
    " 'Spectral Match to 12-Ketodeoxycholic acid from NIST14': '12-Ketodeoxycholic acid',\n",
    " \"Massbank:EA019604 Ranitidine|1,1-Ethenediamine, N-(2-(((5-((dimethylamino)methyl)-2-furanyl)methyl)thio)ethyl)-N'-methyl-2-nitro-|1-N'-[2-[[5-(dimethylaminomethyl)furan-2-yl]methylsulfanyl]ethyl]-1-N-methyl-2-nitroethe\": 'Ranitidine',\n",
    " 'Spectral Match to 1-Amino-2-ethoxybenzene from NIST14': '1-Amino-2-ethoxybenzene'\n",
    "}, inplace=True)"
   ]
  },
  {
   "cell_type": "code",
   "execution_count": 84,
   "metadata": {},
   "outputs": [
    {
     "data": {
      "image/png": "[encoded data removed]",
      "text/plain": [
       "<Figure size 576x432 with 1 Axes>"
      ]
     },
     "metadata": {
      "needs_background": "light"
     },
     "output_type": "display_data"
    }
   ],
   "source": [
    "fig, ax = plt.subplots(figsize=(8,6))\n",
    "sns.boxplot(y='Molecule', x='Intensity', hue='has_surgery', data=long.query('Molecule != \"nan\"'),\n",
    "            hue_order=['y', 'n'], palette={'n': '#66c2a5', 'y': '#34495e'})\n",
    "\n",
    "ax.set_xlabel('CLR Intensity')\n",
    "\n",
    "# legends will be added in Illustrator\n",
    "ax.legend().set_visible(False)\n",
    "\n",
    "plt.tight_layout()\n",
    "plt.savefig('differential-metabolomics.pdf', transparent=True)"
   ]
  }
 ],
 "metadata": {
  "kernelspec": {
   "display_name": "Python 3",
   "language": "python",
   "name": "python3"
  },
  "language_info": {
   "codemirror_mode": {
    "name": "ipython",
    "version": 3
   },
   "file_extension": ".py",
   "mimetype": "text/x-python",
   "name": "python",
   "nbconvert_exporter": "python",
   "pygments_lexer": "ipython3",
   "version": "3.6.7"
  }
 },
 "nbformat": 4,
 "nbformat_minor": 2
}
