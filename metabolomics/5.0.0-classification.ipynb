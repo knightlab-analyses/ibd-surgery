{
 "cells": [
  {
   "cell_type": "markdown",
   "metadata": {},
   "source": [
    "# Prediction of surgery vs non-sergery using taxonomy profile\n",
    "\n",
    "Train machine learning models on sepecies abundance to predict if the sample is from a patient tha has undergone surgery"
   ]
  },
  {
   "cell_type": "code",
   "execution_count": 3,
   "metadata": {},
   "outputs": [],
   "source": [
    "%matplotlib inline\n",
    "import numpy as np \n",
    "import biom\n",
    "import pandas as pd \n",
    "import seaborn as sns\n",
    "import qiime2 as q2\n",
    "from matplotlib import pyplot as plt\n",
    "\n",
    "def load_mf(fn, index='#SampleID'):\n",
    "    _df = pd.read_csv(fn, sep='\\t', dtype='str', na_values=[], keep_default_na=False)\n",
    "    _df.set_index(index, inplace=True)\n",
    "    return _df"
   ]
  },
  {
   "cell_type": "code",
   "execution_count": 5,
   "metadata": {},
   "outputs": [],
   "source": [
    "df_species = q2.Artifact.load('data/feature-table.noblanks.even40k.qza').view(pd.DataFrame).T.copy()\n",
    "\n",
    "df_meta = load_mf('data/11546_20190118-122918.txt', 'sample_name')\n",
    "df_meta = df_meta.query('empo_1 == \"Host-associated\"').copy()\n",
    "\n",
    "#create dictionary to \n",
    "dic_date=dict(zip(list(df_meta.index),list(df_meta.time_point)))\n",
    "dic_surgery=dict(zip(list(df_meta.index),list(df_meta.surgery_type)))"
   ]
  },
  {
   "cell_type": "markdown",
   "metadata": {},
   "source": [
    "## RandomForest classifier for 2 groups: surgery vs no surgery"
   ]
  },
  {
   "cell_type": "markdown",
   "metadata": {},
   "source": [
    "### Split approach: Separates by subjects\n",
    "make sure subject in training data does not overlap with subjects in test data\n"
   ]
  },
  {
   "cell_type": "code",
   "execution_count": 6,
   "metadata": {},
   "outputs": [],
   "source": [
    "from random import sample \n",
    "#organize subjects and samples, and record their surgery status\n",
    "dic_subject=dict(zip(list(df_meta.host_id),list(df_meta.surgery_type)))\n",
    "dic_sample_host=dict(zip(list(df_meta.index),list(df_meta.host_id)))\n",
    "subject_nonsurgery=[i for i in dic_subject.keys() if dic_subject[i]=='none']\n",
    "subject_surgery=[i for i in dic_subject.keys() if i not in subject_nonsurgery]\n",
    "\n",
    "# write a function to randomly split test and training set, so that the subjects in test and training do not overlap \n",
    "# 70% percent of the subjects are in training samples while 30% subjects are in test samples\n",
    "def split_data(df_meta,df_species):\n",
    "    #use randome sample to select ~70% subject from each group as training data \n",
    "    sub_train_nosurg=sample(subject_nonsurgery,int(len(subject_nonsurgery)*0.7))\n",
    "    sub_train_surg=sample(subject_surgery,int(len(subject_surgery)*0.7))\n",
    "    sub_train=sub_train_nosurg+sub_train_surg\n",
    "\n",
    "    #map subjects back to samples and build the training dataset \n",
    "    sample_train=[i for i in df_species.columns if dic_sample_host[i] in sub_train]\n",
    "    sample_test=[i for i in df_species.columns if i not in sample_train]\n",
    "    X_train=df_species[sample_train]\n",
    "    X_test=df_species[sample_test]\n",
    "    \n",
    "    ## create the output \n",
    "    y_train=[]\n",
    "    for i in X_train.columns: \n",
    "        if dic_surgery[i]=='none': \n",
    "            y_train.append(0)\n",
    "        else: \n",
    "            y_train.append(1)\n",
    "\n",
    "    y_test=[]\n",
    "    for i in X_test.columns: \n",
    "        if dic_surgery[i]=='none': \n",
    "            y_test.append(0)\n",
    "        else: \n",
    "            y_test.append(1)\n",
    "    return X_train, X_test,y_test,y_train\n",
    "\n",
    "X_train, X_test,y_test,y_train=split_data(df_meta,df_species)"
   ]
  },
  {
   "cell_type": "markdown",
   "metadata": {},
   "source": [
    "### Train and test the model"
   ]
  },
  {
   "cell_type": "code",
   "execution_count": 7,
   "metadata": {},
   "outputs": [
    {
     "name": "stderr",
     "output_type": "stream",
     "text": [
      "/Users/yoshikivazquezbaeza/miniconda/envs/qiime2-2019.1/lib/python3.6/site-packages/sklearn/ensemble/forest.py:246: FutureWarning: The default value of n_estimators will change from 10 in version 0.20 to 100 in 0.22.\n",
      "  \"10 in version 0.20 to 100 in 0.22.\", FutureWarning)\n"
     ]
    },
    {
     "name": "stdout",
     "output_type": "stream",
     "text": [
      "cross-validation on the training data: \n",
      "[0.79166667 0.91666667 0.83333333 0.875      0.81818182 0.86363636\n",
      " 0.90909091 0.86363636 0.95454545 0.86363636]\n",
      "Prediction accuracy score on the test data:  0.7864077669902912\n",
      "Average precision-recall score:  0.6759601684820267\n"
     ]
    }
   ],
   "source": [
    "#train regressor and run it on test data \n",
    "from sklearn.ensemble import RandomForestClassifier\n",
    "class_rf = RandomForestClassifier(n_jobs=4)\n",
    "class_rf.fit(X_train.T, y_train)\n",
    "\n",
    "# 10-fold cross validation on the test data \n",
    "from sklearn.model_selection import cross_val_score\n",
    "scores = cross_val_score(class_rf, X_train.T, y_train, cv=10)\n",
    "print('cross-validation on the training data: ')\n",
    "print(scores)\n",
    "\n",
    "# Predict on new data\n",
    "y_rf = class_rf.predict(X_test.T)\n",
    "\n",
    "# calculate the accuracy score of the classifier \n",
    "from sklearn.metrics import accuracy_score\n",
    "from sklearn.metrics import average_precision_score\n",
    "\n",
    "print('Prediction accuracy score on the test data: ', accuracy_score(y_test, y_rf) )\n",
    "average_precision=average_precision_score(y_test, y_rf) \n",
    "print('Average precision-recall score: ', average_precision)"
   ]
  },
  {
   "cell_type": "markdown",
   "metadata": {},
   "source": [
    "## Randomly split data, train and test the model for 100 times \n",
    "### Record ad calculate the average precision-recall score \n",
    "### identify the most important species that had the highest occurance"
   ]
  },
  {
   "cell_type": "code",
   "execution_count": 12,
   "metadata": {},
   "outputs": [
    {
     "name": "stdout",
     "output_type": "stream",
     "text": [
      "0\n",
      "1\n",
      "2\n",
      "3\n",
      "4\n",
      "5\n",
      "6\n",
      "7\n",
      "8\n",
      "9\n",
      "10\n",
      "11\n",
      "12\n",
      "13\n",
      "14\n",
      "15\n",
      "16\n",
      "17\n",
      "18\n",
      "19\n",
      "20\n",
      "21\n",
      "22\n",
      "23\n",
      "24\n",
      "25\n",
      "26\n",
      "27\n",
      "28\n",
      "29\n",
      "30\n",
      "31\n",
      "32\n",
      "33\n",
      "34\n",
      "35\n",
      "36\n",
      "37\n",
      "38\n",
      "39\n",
      "40\n",
      "41\n",
      "42\n",
      "43\n",
      "44\n",
      "45\n",
      "46\n",
      "47\n",
      "48\n",
      "49\n",
      "50\n",
      "51\n",
      "52\n",
      "53\n",
      "54\n",
      "55\n",
      "56\n",
      "57\n",
      "58\n",
      "59\n",
      "60\n",
      "61\n",
      "62\n",
      "63\n",
      "64\n",
      "65\n",
      "66\n",
      "67\n",
      "68\n",
      "69\n",
      "70\n",
      "71\n",
      "72\n",
      "73\n",
      "74\n",
      "75\n",
      "76\n",
      "77\n",
      "78\n",
      "79\n",
      "80\n",
      "81\n",
      "82\n",
      "83\n",
      "84\n",
      "85\n",
      "86\n",
      "87\n",
      "88\n",
      "89\n",
      "90\n",
      "91\n",
      "92\n",
      "93\n",
      "94\n",
      "95\n",
      "96\n",
      "97\n",
      "98\n",
      "99\n"
     ]
    }
   ],
   "source": [
    "from sklearn.metrics import accuracy_score, roc_curve, average_precision_score, auc\n",
    "\n",
    "#define classifier \n",
    "from sklearn.ensemble import RandomForestClassifier\n",
    "class_rf = RandomForestClassifier(n_jobs=4, n_estimators=300)\n",
    "y_test_all=[]\n",
    "y_rf_all=[]\n",
    "tprs = []\n",
    "aucs = []\n",
    "mean_fpr = np.linspace(0, 1, 100)\n",
    "pcscore_list=[]\n",
    "featuelist=[]\n",
    "for i in range(100): \n",
    "    print(i)\n",
    "    X_train, X_test,y_test,y_train=split_data(df_meta,df_species)\n",
    "    class_rf.fit(X_train.T, y_train)\n",
    "    # Predict on new data\n",
    "    y_rf = class_rf.predict_proba(X_test.T)[:, 1]\n",
    "    #record the y_test and y_rf for each iteration so it could be used to calculate over all precision-recall curve\n",
    "    y_test_all.append(y_test)\n",
    "    y_rf_all.append(y_rf)\n",
    "\n",
    "    # calculate the accuracy score of the classifier \n",
    "    pcscore_list.append(average_precision_score(y_test, y_rf))\n",
    "    ind_top30=sorted(range(len(class_rf.feature_importances_)), key=lambda i: class_rf.feature_importances_[i])[-30:]\n",
    "    for i in ind_top30: \n",
    "        featuelist.append(df_species.index[i])\n",
    "    probas_= class_rf.fit(X_train.T, y_train).predict_proba(X_test.T)\n",
    "    fpr, tpr, thresholds = roc_curve(y_test, probas_[:, 1])\n",
    "    tprs.append(np.interp(mean_fpr, fpr, tpr))\n",
    "    tprs[-1][0] = 0.0\n",
    "    roc_auc = auc(fpr, tpr)\n",
    "    aucs.append(roc_auc)\n"
   ]
  },
  {
   "cell_type": "code",
   "execution_count": 13,
   "metadata": {},
   "outputs": [
    {
     "data": {
      "text/plain": [
       "[('304.1514;0.3491', 1),\n",
       " ('391.2833;4.7678', 1),\n",
       " ('344.2795;5.6491', 1),\n",
       " ('325.1126;0.2687', 1),\n",
       " ('355.2636;4.7668', 1),\n",
       " ('252.6351;4.8545', 1),\n",
       " ('130.0858;0.2348', 1),\n",
       " ('246.1408;0.4012', 1),\n",
       " ('241.1538;0.3554', 1),\n",
       " ('589.3021;4.1474', 1),\n",
       " ('591.3178;4.1391', 1),\n",
       " ('309.1649;0.2327', 1),\n",
       " ('371.2582;4.8645', 2),\n",
       " ('373.2736;4.771', 2),\n",
       " ('358.2591;4.6851', 2),\n",
       " ('186.079;0.271', 2),\n",
       " ('143.1174;0.5794', 2),\n",
       " ('1225.8705;5.1952', 2),\n",
       " ('373.2735;5.9936', 2),\n",
       " ('834.6091;5.1946', 2),\n",
       " ('282.2788;7.9333', 2),\n",
       " ('375.289;5.9381', 2),\n",
       " ('297.2786;8.1168', 2),\n",
       " ('274.0928;0.2996', 2),\n",
       " ('429.2616;4.8697', 2),\n",
       " ('357.2786;5.5527', 3),\n",
       " ('595.3479;4.1504', 3),\n",
       " ('245.15;0.3599', 3),\n",
       " ('203.1388;0.4981', 3),\n",
       " ('122.0693;0.3061', 3),\n",
       " ('188.1753;0.2299', 3),\n",
       " ('220.1179;0.5831', 4),\n",
       " ('245.6452;5.9477', 4),\n",
       " ('239.1031;0.4107', 4),\n",
       " ('342.2643;5.2908', 4),\n",
       " ('391.2843;5.6124', 4),\n",
       " ('389.2686;4.8642', 4),\n",
       " ('203.1387;0.5148', 4),\n",
       " ('303.1699;4.7776', 4),\n",
       " ('448.3425;4.1741', 5),\n",
       " ('203.1386;0.5669', 6),\n",
       " ('376.2927;5.9399', 6),\n",
       " ('837.058;5.194', 6),\n",
       " ('357.2492;0.2312', 7),\n",
       " ('346.2716;7.1582', 7),\n",
       " ('415.282;5.9537', 8),\n",
       " ('413.2664;5.6282', 10),\n",
       " ('147.1129;0.2287', 10),\n",
       " ('153.04;0.3195', 10),\n",
       " ('136.075;0.3307', 11),\n",
       " ('347.0948;0.255', 12),\n",
       " ('159.0761;0.2536', 13),\n",
       " ('179.1276;0.24', 13),\n",
       " ('254.1601;0.3942', 14),\n",
       " ('165.0546;0.3308', 16),\n",
       " ('365.1055;0.2451', 16),\n",
       " ('213.1229;0.3149', 16),\n",
       " ('182.0808;0.3312', 19),\n",
       " ('403.2681;5.8893', 21),\n",
       " ('324.2895;7.1622', 23),\n",
       " ('356.278;5.6161', 24),\n",
       " ('819.5893;5.1949', 26),\n",
       " ('321.24;7.3286', 28),\n",
       " ('161.1346;0.2564', 29),\n",
       " ('261.1441;0.3734', 34),\n",
       " ('261.6402;4.8507', 35),\n",
       " ('299.2579;7.3295', 37),\n",
       " ('229.1539;0.3641', 37),\n",
       " ('466.3164;4.7562', 38),\n",
       " ('375.2885;5.5856', 39),\n",
       " ('203.0519;0.2463', 45),\n",
       " ('386.29;5.4192', 52),\n",
       " ('138.0908;0.339', 56),\n",
       " ('632.9141;5.195', 61),\n",
       " ('359.293;6.8996', 62),\n",
       " ('137.0451;0.3204', 68),\n",
       " ('359.2941;6.894', 71),\n",
       " ('839.5643;5.1945', 72),\n",
       " ('632.412;5.1948', 74),\n",
       " ('121.0646;0.3407', 75),\n",
       " ('817.5826;5.1944', 83),\n",
       " ('593.3311;4.1288', 88),\n",
       " ('146.1174;0.2498', 88),\n",
       " ('132.0749;0.2525', 88),\n",
       " ('141.0651;0.2553', 89),\n",
       " ('428.2686;5.195', 91),\n",
       " ('437.2732;5.196', 93),\n",
       " ('373.2737;5.3473', 93),\n",
       " ('391.2842;5.2137', 95),\n",
       " ('242.1347;5.197', 98),\n",
       " ('233.1296;5.1967', 98),\n",
       " ('355.2633;5.1946', 98),\n",
       " ('356.2667;5.1953', 99),\n",
       " ('374.2772;5.195', 99),\n",
       " ('253.6427;5.208', 100),\n",
       " ('431.2768;5.1948', 100),\n",
       " ('160.1329;0.257', 100),\n",
       " ('373.2737;5.198', 100)]"
      ]
     },
     "execution_count": 13,
     "metadata": {},
     "output_type": "execute_result"
    }
   ],
   "source": [
    "# count the most important features that overlapped in 100 runs \n",
    "dic_count={}\n",
    "for s in set(featuelist): \n",
    "    count=featuelist.count(s)\n",
    "    dic_count[s]=count\n",
    "dic_count\n",
    "\n",
    "import operator\n",
    "sorted_x = sorted(dic_count.items(), key=operator.itemgetter(1))\n",
    "sorted_x"
   ]
  },
  {
   "cell_type": "code",
   "execution_count": 25,
   "metadata": {},
   "outputs": [
    {
     "name": "stdout",
     "output_type": "stream",
     "text": [
      "Unidentified 253.6427:5.208 m/z\n",
      "Unidentified 431.2768:5.1948 m/z\n",
      "Unidentified 160.1329:0.257 m/z\n",
      "Spectral Match to Cholic acid from NIST14\n",
      "Unidentified 374.2772:5.195 m/z\n"
     ]
    }
   ],
   "source": [
    "top = ['253.6427;5.208', '431.2768;5.1948',\n",
    "       '160.1329;0.257', '373.2737;5.198', '374.2772;5.195']\n",
    "\n",
    "_x = biom.load_table('data/boland_biom_original.biom')\n",
    "for i in top:\n",
    "    name = _x.metadata(i, axis='observation')['Compound_Name']\n",
    "    \n",
    "    if name == 'nan':\n",
    "        print ('Unidentified %s:%s m/z' % tuple(i.split(';')))\n",
    "    else:\n",
    "        print (name)"
   ]
  },
  {
   "cell_type": "markdown",
   "metadata": {},
   "source": [
    "### Precision-recall curve"
   ]
  },
  {
   "cell_type": "code",
   "execution_count": 16,
   "metadata": {},
   "outputs": [
    {
     "data": {
      "image/png": "[encoded data removed]",
      "text/plain": [
       "<Figure size 360x360 with 1 Axes>"
      ]
     },
     "metadata": {
      "needs_background": "light"
     },
     "output_type": "display_data"
    }
   ],
   "source": [
    "from sklearn.metrics import precision_recall_curve\n",
    "import matplotlib.pyplot as plt\n",
    "from inspect import signature\n",
    "\n",
    "mean_recall = np.linspace(0, 1, 100)\n",
    "precisions = []\n",
    "\n",
    "fig = plt.figure()\n",
    "fig.set_size_inches(5, 5)\n",
    "\n",
    "for y_test, y_prob in zip(y_test_all, y_rf_all):\n",
    "    precision, recall, _ = precision_recall_curve(y_test, y_prob)\n",
    "    \n",
    "    precisions.append(np.interp(mean_recall, recall[::-1], precision[::-1]))\n",
    "    \n",
    "    plt.step(recall, precision, color='steelblue', alpha=0.08,\n",
    "             where='post')\n",
    "    \n",
    "mean_precision = np.mean(precisions, axis=0)\n",
    "    \n",
    "plt.step(mean_recall, mean_precision, color='steelblue',\n",
    "         label='Mean PRC',\n",
    "         lw=2, alpha=.8)\n",
    "\n",
    "std_precision = np.std(precisions, axis=0)\n",
    "precision_upper = np.minimum(mean_precision + std_precision, 1)\n",
    "precision_lower = np.maximum(mean_precision - std_precision, 0)\n",
    "\n",
    "plt.fill_between(mean_recall, precision_lower, precision_upper, color='steelblue', alpha=.2,\n",
    "                 label=r'$\\pm$ 1 std. dev.')\n",
    "\n",
    "\n",
    "plt.xlabel('Recall')\n",
    "plt.ylabel('Precision')\n",
    "plt.ylim([0.0, 1.05])\n",
    "plt.xlim([0.0, 1.0])\n",
    "\n",
    "plt.title('Precision-Recall curve: AP={0:0.2f}'.format(\n",
    "          average_precision))\n",
    "\n",
    "plt.legend(loc=\"lower right\")\n",
    "\n",
    "plt.savefig('./precision-recall-curve.pdf')"
   ]
  },
  {
   "cell_type": "markdown",
   "metadata": {},
   "source": [
    "### Compute ROC curve and area under the curve"
   ]
  },
  {
   "cell_type": "code",
   "execution_count": 17,
   "metadata": {},
   "outputs": [
    {
     "data": {
      "image/png": "[encoded data removed]",
      "text/plain": [
       "<Figure size 360x360 with 1 Axes>"
      ]
     },
     "metadata": {
      "needs_background": "light"
     },
     "output_type": "display_data"
    }
   ],
   "source": [
    "#plot the average AUC ROC for 100 iterations \n",
    "mean_tpr = np.mean(tprs, axis=0)\n",
    "mean_tpr[-1] = 1.0\n",
    "mean_auc = auc(mean_fpr, mean_tpr)\n",
    "std_auc = np.std(aucs)\n",
    "fig = plt.figure()\n",
    "fig.set_size_inches(5, 5)\n",
    "plt.plot(mean_fpr, mean_tpr, color='darkorange',\n",
    "         label=r'Mean ROC (AUC = %0.2f $\\pm$ %0.2f)' % (mean_auc, std_auc),\n",
    "         lw=2, alpha=.8)\n",
    "\n",
    "std_tpr = np.std(tprs, axis=0)\n",
    "tprs_upper = np.minimum(mean_tpr + std_tpr, 1)\n",
    "tprs_lower = np.maximum(mean_tpr - std_tpr, 0)\n",
    "plt.fill_between(mean_fpr, tprs_lower, tprs_upper, color='grey', alpha=.2,\n",
    "                 label=r'$\\pm$ 1 std. dev.')\n",
    "plt.plot([0, 1], [0, 1], linestyle='--', lw=2, color='navy',\n",
    "         label='Chance', alpha=.8)\n",
    "\n",
    "plt.xlim([-0.05, 1.05])\n",
    "plt.ylim([-0.05, 1.05])\n",
    "plt.xlabel('False Positive Rate')\n",
    "plt.ylabel('True Positive Rate')\n",
    "plt.title('ROC curve of Random Forest Classifier to predict surgery vs. no surgery')\n",
    "plt.legend(loc=\"lower right\")\n",
    "plt.show()\n",
    "#plt.savefig('../data/Sandborn_data/figures/AUC_ROC_100_iterations_taxonomy_classification.svg')\n",
    "#plt.savefig('../data/Sandborn_data/figures/AUC_ROC_100_iterations_taxonomy_classification.pdf')"
   ]
  },
  {
   "cell_type": "code",
   "execution_count": null,
   "metadata": {},
   "outputs": [],
   "source": []
  }
 ],
 "metadata": {
  "kernelspec": {
   "display_name": "Python 3",
   "language": "python",
   "name": "python3"
  },
  "language_info": {
   "codemirror_mode": {
    "name": "ipython",
    "version": 3
   },
   "file_extension": ".py",
   "mimetype": "text/x-python",
   "name": "python",
   "nbconvert_exporter": "python",
   "pygments_lexer": "ipython3",
   "version": "3.6.7"
  }
 },
 "nbformat": 4,
 "nbformat_minor": 2
}
