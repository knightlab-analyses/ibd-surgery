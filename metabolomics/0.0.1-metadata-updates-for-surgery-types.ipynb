{
 "cells": [
  {
   "cell_type": "code",
   "execution_count": 1,
   "metadata": {},
   "outputs": [],
   "source": [
    "%matplotlib inline\n",
    "import pandas as pd, numpy as np, seaborn as sns, matplotlib.pyplot as plt, qiime2 as q2\n",
    "from biom import load_table, Table\n",
    "from biom.util import biom_open\n",
    "from skbio import OrdinationResults\n",
    "from emperor import Emperor, nbinstall; nbinstall()\n",
    "\n",
    "def load_mf(fn, index='#SampleID'):\n",
    "    _df = pd.read_csv(fn, sep='\\t', dtype='str', na_values=[], keep_default_na=False)\n",
    "    _df.set_index(index, inplace=True)\n",
    "    return _df"
   ]
  },
  {
   "cell_type": "code",
   "execution_count": 5,
   "metadata": {},
   "outputs": [],
   "source": [
    "mf = load_mf('data/11546_20190118-122918.txt', 'sample_name')"
   ]
  },
  {
   "cell_type": "code",
   "execution_count": 6,
   "metadata": {},
   "outputs": [
    {
     "data": {
      "text/plain": [
       "none                 244\n",
       "not applicable       125\n",
       "colectomy             52\n",
       "ileocolonic           51\n",
       "partial_colectomy      5\n",
       "missing                2\n",
       "Name: surgery_type, dtype: int64"
      ]
     },
     "execution_count": 6,
     "metadata": {},
     "output_type": "execute_result"
    }
   ],
   "source": [
    "mf.surgery_type.value_counts()"
   ]
  },
  {
   "cell_type": "markdown",
   "metadata": {},
   "source": [
    "# For UC patients"
   ]
  },
  {
   "cell_type": "code",
   "execution_count": 7,
   "metadata": {},
   "outputs": [
    {
     "data": {
      "text/plain": [
       "none                 244\n",
       "not applicable       125\n",
       "colectomy             52\n",
       "ileocolonic           51\n",
       "partial_colectomy      5\n",
       "missing                2\n",
       "Name: surgery_type, dtype: int64"
      ]
     },
     "execution_count": 7,
     "metadata": {},
     "output_type": "execute_result"
    }
   ],
   "source": [
    "mf.surgery_type.value_counts()"
   ]
  },
  {
   "cell_type": "code",
   "execution_count": 8,
   "metadata": {},
   "outputs": [],
   "source": [
    "surgery_subtype_remapper = {\n",
    "    '100119': 'colectomy with j-pouch',\n",
    "    '100125': 'colectomy with j-pouch',\n",
    "    '100029': 'colectomy with j-pouch',\n",
    "    '100191': 'colectomy with j-pouch',\n",
    "    '100064': 'colectomy with j-pouch',\n",
    "}\n",
    "\n",
    "def update_surgery_subtype(row, remapper):\n",
    "    if row.host_subject_id in remapper:\n",
    "        return remapper[row.host_subject_id]\n",
    "    else:\n",
    "        return row.surgery_type\n",
    "    \n",
    "mf['surgery_subtype'] = mf.apply(update_surgery_subtype, axis=1, args=(surgery_subtype_remapper,))"
   ]
  },
  {
   "cell_type": "markdown",
   "metadata": {},
   "source": [
    "We noticed that subject 100038 had been mislabeled as 100033"
   ]
  },
  {
   "cell_type": "code",
   "execution_count": 9,
   "metadata": {},
   "outputs": [],
   "source": [
    "mf.loc['11546.stool.100038.baseline', 'host_subject_id'] = '100038'"
   ]
  },
  {
   "cell_type": "code",
   "execution_count": 10,
   "metadata": {},
   "outputs": [],
   "source": [
    "disease_subtype_remapper = {\n",
    "    '100064': 'pouchitis',\n",
    "    \n",
    "    # new assignments\n",
    "    # they develop Crohn's within their pouch\n",
    "    '100067': 'pouch_cd',\n",
    "    '100013': 'pouch_cd',\n",
    "    '100122': 'pouch_cd',\n",
    "    \n",
    "    '100023': 'pouch_cd',\n",
    "    '100031': 'pouch_cd',\n",
    "}\n",
    "\n",
    "def update_disease_subtype(row, remapper):\n",
    "    if row.host_subject_id in remapper:\n",
    "        return remapper[row.host_subject_id]\n",
    "    else:\n",
    "        return row.disease_subtype\n",
    "    \n",
    "mf['disease_subtype'] = mf.apply(update_disease_subtype, axis=1, args=(disease_subtype_remapper,))"
   ]
  },
  {
   "cell_type": "markdown",
   "metadata": {},
   "source": [
    "Validate"
   ]
  },
  {
   "cell_type": "code",
   "execution_count": 11,
   "metadata": {
    "scrolled": false
   },
   "outputs": [
    {
     "data": {
      "text/html": [
       "<div>\n",
       "<style scoped>\n",
       "    .dataframe tbody tr th:only-of-type {\n",
       "        vertical-align: middle;\n",
       "    }\n",
       "\n",
       "    .dataframe tbody tr th {\n",
       "        vertical-align: top;\n",
       "    }\n",
       "\n",
       "    .dataframe thead th {\n",
       "        text-align: right;\n",
       "    }\n",
       "</style>\n",
       "<table border=\"1\" class=\"dataframe\">\n",
       "  <thead>\n",
       "    <tr style=\"text-align: right;\">\n",
       "      <th></th>\n",
       "      <th>host_subject_id</th>\n",
       "      <th>disease_subtype</th>\n",
       "    </tr>\n",
       "    <tr>\n",
       "      <th>sample_name</th>\n",
       "      <th></th>\n",
       "      <th></th>\n",
       "    </tr>\n",
       "  </thead>\n",
       "  <tbody>\n",
       "    <tr>\n",
       "      <th>11546.stool.100013.12month</th>\n",
       "      <td>100013</td>\n",
       "      <td>pouch_cd</td>\n",
       "    </tr>\n",
       "    <tr>\n",
       "      <th>11546.stool.100013.18month</th>\n",
       "      <td>100013</td>\n",
       "      <td>pouch_cd</td>\n",
       "    </tr>\n",
       "    <tr>\n",
       "      <th>11546.stool.100013.1month</th>\n",
       "      <td>100013</td>\n",
       "      <td>pouch_cd</td>\n",
       "    </tr>\n",
       "    <tr>\n",
       "      <th>11546.stool.100013.6month</th>\n",
       "      <td>100013</td>\n",
       "      <td>pouch_cd</td>\n",
       "    </tr>\n",
       "    <tr>\n",
       "      <th>11546.stool.100013.baseline</th>\n",
       "      <td>100013</td>\n",
       "      <td>pouch_cd</td>\n",
       "    </tr>\n",
       "    <tr>\n",
       "      <th>11546.stool.100023.6month</th>\n",
       "      <td>100023</td>\n",
       "      <td>pouch_cd</td>\n",
       "    </tr>\n",
       "    <tr>\n",
       "      <th>11546.stool.100023.baseline</th>\n",
       "      <td>100023</td>\n",
       "      <td>pouch_cd</td>\n",
       "    </tr>\n",
       "    <tr>\n",
       "      <th>11546.stool.100031.12month</th>\n",
       "      <td>100031</td>\n",
       "      <td>pouch_cd</td>\n",
       "    </tr>\n",
       "    <tr>\n",
       "      <th>11546.stool.100031.6month</th>\n",
       "      <td>100031</td>\n",
       "      <td>pouch_cd</td>\n",
       "    </tr>\n",
       "    <tr>\n",
       "      <th>11546.stool.100031.baseline</th>\n",
       "      <td>100031</td>\n",
       "      <td>pouch_cd</td>\n",
       "    </tr>\n",
       "    <tr>\n",
       "      <th>11546.stool.100067.12month</th>\n",
       "      <td>100067</td>\n",
       "      <td>pouch_cd</td>\n",
       "    </tr>\n",
       "    <tr>\n",
       "      <th>11546.stool.100067.18month</th>\n",
       "      <td>100067</td>\n",
       "      <td>pouch_cd</td>\n",
       "    </tr>\n",
       "    <tr>\n",
       "      <th>11546.stool.100067.24month</th>\n",
       "      <td>100067</td>\n",
       "      <td>pouch_cd</td>\n",
       "    </tr>\n",
       "    <tr>\n",
       "      <th>11546.stool.100067.6month</th>\n",
       "      <td>100067</td>\n",
       "      <td>pouch_cd</td>\n",
       "    </tr>\n",
       "    <tr>\n",
       "      <th>11546.stool.100067.baseline</th>\n",
       "      <td>100067</td>\n",
       "      <td>pouch_cd</td>\n",
       "    </tr>\n",
       "    <tr>\n",
       "      <th>11546.stool.100122.12month</th>\n",
       "      <td>100122</td>\n",
       "      <td>pouch_cd</td>\n",
       "    </tr>\n",
       "    <tr>\n",
       "      <th>11546.stool.100122.6month</th>\n",
       "      <td>100122</td>\n",
       "      <td>pouch_cd</td>\n",
       "    </tr>\n",
       "    <tr>\n",
       "      <th>11546.stool.100122.baseline</th>\n",
       "      <td>100122</td>\n",
       "      <td>pouch_cd</td>\n",
       "    </tr>\n",
       "  </tbody>\n",
       "</table>\n",
       "</div>"
      ],
      "text/plain": [
       "                            host_subject_id disease_subtype\n",
       "sample_name                                                \n",
       "11546.stool.100013.12month           100013        pouch_cd\n",
       "11546.stool.100013.18month           100013        pouch_cd\n",
       "11546.stool.100013.1month            100013        pouch_cd\n",
       "11546.stool.100013.6month            100013        pouch_cd\n",
       "11546.stool.100013.baseline          100013        pouch_cd\n",
       "11546.stool.100023.6month            100023        pouch_cd\n",
       "11546.stool.100023.baseline          100023        pouch_cd\n",
       "11546.stool.100031.12month           100031        pouch_cd\n",
       "11546.stool.100031.6month            100031        pouch_cd\n",
       "11546.stool.100031.baseline          100031        pouch_cd\n",
       "11546.stool.100067.12month           100067        pouch_cd\n",
       "11546.stool.100067.18month           100067        pouch_cd\n",
       "11546.stool.100067.24month           100067        pouch_cd\n",
       "11546.stool.100067.6month            100067        pouch_cd\n",
       "11546.stool.100067.baseline          100067        pouch_cd\n",
       "11546.stool.100122.12month           100122        pouch_cd\n",
       "11546.stool.100122.6month            100122        pouch_cd\n",
       "11546.stool.100122.baseline          100122        pouch_cd"
      ]
     },
     "execution_count": 11,
     "metadata": {},
     "output_type": "execute_result"
    }
   ],
   "source": [
    "mf[(mf.pouch == 'y') & (mf.disease == 'cd')][['host_subject_id', 'disease_subtype']]"
   ]
  },
  {
   "cell_type": "code",
   "execution_count": 12,
   "metadata": {},
   "outputs": [
    {
     "data": {
      "text/html": [
       "<div>\n",
       "<style scoped>\n",
       "    .dataframe tbody tr th:only-of-type {\n",
       "        vertical-align: middle;\n",
       "    }\n",
       "\n",
       "    .dataframe tbody tr th {\n",
       "        vertical-align: top;\n",
       "    }\n",
       "\n",
       "    .dataframe thead th {\n",
       "        text-align: right;\n",
       "    }\n",
       "</style>\n",
       "<table border=\"1\" class=\"dataframe\">\n",
       "  <thead>\n",
       "    <tr style=\"text-align: right;\">\n",
       "      <th></th>\n",
       "      <th>host_subject_id</th>\n",
       "      <th>disease_subtype</th>\n",
       "    </tr>\n",
       "    <tr>\n",
       "      <th>sample_name</th>\n",
       "      <th></th>\n",
       "      <th></th>\n",
       "    </tr>\n",
       "  </thead>\n",
       "  <tbody>\n",
       "    <tr>\n",
       "      <th>11546.stool.100029.12month</th>\n",
       "      <td>100029</td>\n",
       "      <td>pouchitis</td>\n",
       "    </tr>\n",
       "    <tr>\n",
       "      <th>11546.stool.100029.18month</th>\n",
       "      <td>100029</td>\n",
       "      <td>pouchitis</td>\n",
       "    </tr>\n",
       "    <tr>\n",
       "      <th>11546.stool.100029.6month</th>\n",
       "      <td>100029</td>\n",
       "      <td>pouchitis</td>\n",
       "    </tr>\n",
       "    <tr>\n",
       "      <th>11546.stool.100029.baseline</th>\n",
       "      <td>100029</td>\n",
       "      <td>pouchitis</td>\n",
       "    </tr>\n",
       "    <tr>\n",
       "      <th>11546.stool.100064.12month</th>\n",
       "      <td>100064</td>\n",
       "      <td>pouchitis</td>\n",
       "    </tr>\n",
       "    <tr>\n",
       "      <th>11546.stool.100064.18month</th>\n",
       "      <td>100064</td>\n",
       "      <td>pouchitis</td>\n",
       "    </tr>\n",
       "    <tr>\n",
       "      <th>11546.stool.100064.19month</th>\n",
       "      <td>100064</td>\n",
       "      <td>pouchitis</td>\n",
       "    </tr>\n",
       "    <tr>\n",
       "      <th>11546.stool.100064.6month</th>\n",
       "      <td>100064</td>\n",
       "      <td>pouchitis</td>\n",
       "    </tr>\n",
       "    <tr>\n",
       "      <th>11546.stool.100064.baseline</th>\n",
       "      <td>100064</td>\n",
       "      <td>pouchitis</td>\n",
       "    </tr>\n",
       "    <tr>\n",
       "      <th>11546.stool.100119.baseline</th>\n",
       "      <td>100119</td>\n",
       "      <td>pouch</td>\n",
       "    </tr>\n",
       "    <tr>\n",
       "      <th>11546.stool.100125.baseline</th>\n",
       "      <td>100125</td>\n",
       "      <td>pouch</td>\n",
       "    </tr>\n",
       "    <tr>\n",
       "      <th>11546.stool.100191.12month</th>\n",
       "      <td>100191</td>\n",
       "      <td>pouchitis</td>\n",
       "    </tr>\n",
       "    <tr>\n",
       "      <th>11546.stool.100191.6month</th>\n",
       "      <td>100191</td>\n",
       "      <td>pouchitis</td>\n",
       "    </tr>\n",
       "    <tr>\n",
       "      <th>11546.stool.100191.baseline</th>\n",
       "      <td>100191</td>\n",
       "      <td>pouchitis</td>\n",
       "    </tr>\n",
       "  </tbody>\n",
       "</table>\n",
       "</div>"
      ],
      "text/plain": [
       "                            host_subject_id disease_subtype\n",
       "sample_name                                                \n",
       "11546.stool.100029.12month           100029       pouchitis\n",
       "11546.stool.100029.18month           100029       pouchitis\n",
       "11546.stool.100029.6month            100029       pouchitis\n",
       "11546.stool.100029.baseline          100029       pouchitis\n",
       "11546.stool.100064.12month           100064       pouchitis\n",
       "11546.stool.100064.18month           100064       pouchitis\n",
       "11546.stool.100064.19month           100064       pouchitis\n",
       "11546.stool.100064.6month            100064       pouchitis\n",
       "11546.stool.100064.baseline          100064       pouchitis\n",
       "11546.stool.100119.baseline          100119           pouch\n",
       "11546.stool.100125.baseline          100125           pouch\n",
       "11546.stool.100191.12month           100191       pouchitis\n",
       "11546.stool.100191.6month            100191       pouchitis\n",
       "11546.stool.100191.baseline          100191       pouchitis"
      ]
     },
     "execution_count": 12,
     "metadata": {},
     "output_type": "execute_result"
    }
   ],
   "source": [
    "mf[mf.surgery_subtype == 'colectomy with j-pouch'][['host_subject_id', 'disease_subtype']]"
   ]
  },
  {
   "cell_type": "markdown",
   "metadata": {},
   "source": [
    "# For CD"
   ]
  },
  {
   "cell_type": "code",
   "execution_count": 13,
   "metadata": {},
   "outputs": [
    {
     "data": {
      "text/html": [
       "<div>\n",
       "<style scoped>\n",
       "    .dataframe tbody tr th:only-of-type {\n",
       "        vertical-align: middle;\n",
       "    }\n",
       "\n",
       "    .dataframe tbody tr th {\n",
       "        vertical-align: top;\n",
       "    }\n",
       "\n",
       "    .dataframe thead th {\n",
       "        text-align: right;\n",
       "    }\n",
       "</style>\n",
       "<table border=\"1\" class=\"dataframe\">\n",
       "  <thead>\n",
       "    <tr style=\"text-align: right;\">\n",
       "      <th></th>\n",
       "      <th>surgery_type</th>\n",
       "      <th>surgery_subtype</th>\n",
       "      <th>disease_subtype</th>\n",
       "      <th>disease</th>\n",
       "    </tr>\n",
       "    <tr>\n",
       "      <th>sample_name</th>\n",
       "      <th></th>\n",
       "      <th></th>\n",
       "      <th></th>\n",
       "      <th></th>\n",
       "    </tr>\n",
       "  </thead>\n",
       "  <tbody>\n",
       "    <tr>\n",
       "      <th>11546.stool.100038.12month</th>\n",
       "      <td>partial_colectomy</td>\n",
       "      <td>partial_colectomy</td>\n",
       "      <td>ileocolonic</td>\n",
       "      <td>cd</td>\n",
       "    </tr>\n",
       "    <tr>\n",
       "      <th>11546.stool.100038.18month</th>\n",
       "      <td>partial_colectomy</td>\n",
       "      <td>partial_colectomy</td>\n",
       "      <td>ileocolonic</td>\n",
       "      <td>cd</td>\n",
       "    </tr>\n",
       "    <tr>\n",
       "      <th>11546.stool.100038.6month</th>\n",
       "      <td>partial_colectomy</td>\n",
       "      <td>partial_colectomy</td>\n",
       "      <td>ileocolonic</td>\n",
       "      <td>cd</td>\n",
       "    </tr>\n",
       "    <tr>\n",
       "      <th>11546.stool.100038.baseline</th>\n",
       "      <td>partial_colectomy</td>\n",
       "      <td>partial_colectomy</td>\n",
       "      <td>ileocolonic</td>\n",
       "      <td>cd</td>\n",
       "    </tr>\n",
       "    <tr>\n",
       "      <th>11546.stool.100176.6month</th>\n",
       "      <td>partial_colectomy</td>\n",
       "      <td>partial_colectomy</td>\n",
       "      <td>ileocolonic</td>\n",
       "      <td>cd</td>\n",
       "    </tr>\n",
       "  </tbody>\n",
       "</table>\n",
       "</div>"
      ],
      "text/plain": [
       "                                  surgery_type    surgery_subtype  \\\n",
       "sample_name                                                         \n",
       "11546.stool.100038.12month   partial_colectomy  partial_colectomy   \n",
       "11546.stool.100038.18month   partial_colectomy  partial_colectomy   \n",
       "11546.stool.100038.6month    partial_colectomy  partial_colectomy   \n",
       "11546.stool.100038.baseline  partial_colectomy  partial_colectomy   \n",
       "11546.stool.100176.6month    partial_colectomy  partial_colectomy   \n",
       "\n",
       "                            disease_subtype disease  \n",
       "sample_name                                          \n",
       "11546.stool.100038.12month      ileocolonic      cd  \n",
       "11546.stool.100038.18month      ileocolonic      cd  \n",
       "11546.stool.100038.6month       ileocolonic      cd  \n",
       "11546.stool.100038.baseline     ileocolonic      cd  \n",
       "11546.stool.100176.6month       ileocolonic      cd  "
      ]
     },
     "execution_count": 13,
     "metadata": {},
     "output_type": "execute_result"
    }
   ],
   "source": [
    "mf[mf.host_subject_id.isin(['100038', '100176'])][['surgery_type', 'surgery_subtype', 'disease_subtype', 'disease']]"
   ]
  },
  {
   "cell_type": "markdown",
   "metadata": {},
   "source": [
    "Need to combine the partial colectomies with ileocolonic."
   ]
  },
  {
   "cell_type": "code",
   "execution_count": 14,
   "metadata": {},
   "outputs": [],
   "source": [
    "mf.loc[mf.host_subject_id.isin(['100038', '100176']), 'surgery_subtype'] = 'ileocolonic'"
   ]
  },
  {
   "cell_type": "code",
   "execution_count": 15,
   "metadata": {},
   "outputs": [],
   "source": [
    "mf.loc[mf.host_subject_id.isin(['100060', '100144', '100054']), 'surgery_subtype'] = 'colectomy with ileorectal'"
   ]
  },
  {
   "cell_type": "code",
   "execution_count": 16,
   "metadata": {},
   "outputs": [],
   "source": [
    "mf.loc[mf.host_subject_id.isin(['100074', '100127', '100140', '100174']), 'surgery_subtype'] = 'colectomy with ileostomy'"
   ]
  },
  {
   "cell_type": "code",
   "execution_count": 17,
   "metadata": {},
   "outputs": [
    {
     "data": {
      "text/html": [
       "<div>\n",
       "<style scoped>\n",
       "    .dataframe tbody tr th:only-of-type {\n",
       "        vertical-align: middle;\n",
       "    }\n",
       "\n",
       "    .dataframe tbody tr th {\n",
       "        vertical-align: top;\n",
       "    }\n",
       "\n",
       "    .dataframe thead th {\n",
       "        text-align: right;\n",
       "    }\n",
       "</style>\n",
       "<table border=\"1\" class=\"dataframe\">\n",
       "  <thead>\n",
       "    <tr style=\"text-align: right;\">\n",
       "      <th></th>\n",
       "      <th>surgery_type</th>\n",
       "      <th>surgery_subtype</th>\n",
       "      <th>disease_subtype</th>\n",
       "      <th>disease</th>\n",
       "      <th>host_subject_id</th>\n",
       "    </tr>\n",
       "    <tr>\n",
       "      <th>sample_name</th>\n",
       "      <th></th>\n",
       "      <th></th>\n",
       "      <th></th>\n",
       "      <th></th>\n",
       "      <th></th>\n",
       "    </tr>\n",
       "  </thead>\n",
       "  <tbody>\n",
       "    <tr>\n",
       "      <th>11546.stool.100074.12month</th>\n",
       "      <td>colectomy</td>\n",
       "      <td>colectomy with ileostomy</td>\n",
       "      <td>ileocolonic</td>\n",
       "      <td>cd</td>\n",
       "      <td>100074</td>\n",
       "    </tr>\n",
       "    <tr>\n",
       "      <th>11546.stool.100074.6month</th>\n",
       "      <td>colectomy</td>\n",
       "      <td>colectomy with ileostomy</td>\n",
       "      <td>ileocolonic</td>\n",
       "      <td>cd</td>\n",
       "      <td>100074</td>\n",
       "    </tr>\n",
       "    <tr>\n",
       "      <th>11546.stool.100074.baseline</th>\n",
       "      <td>colectomy</td>\n",
       "      <td>colectomy with ileostomy</td>\n",
       "      <td>ileocolonic</td>\n",
       "      <td>cd</td>\n",
       "      <td>100074</td>\n",
       "    </tr>\n",
       "    <tr>\n",
       "      <th>11546.stool.100127.6month</th>\n",
       "      <td>colectomy</td>\n",
       "      <td>colectomy with ileostomy</td>\n",
       "      <td>ileal</td>\n",
       "      <td>cd</td>\n",
       "      <td>100127</td>\n",
       "    </tr>\n",
       "    <tr>\n",
       "      <th>11546.stool.100127.baseline</th>\n",
       "      <td>colectomy</td>\n",
       "      <td>colectomy with ileostomy</td>\n",
       "      <td>ileal</td>\n",
       "      <td>cd</td>\n",
       "      <td>100127</td>\n",
       "    </tr>\n",
       "    <tr>\n",
       "      <th>11546.stool.100140.18month</th>\n",
       "      <td>colectomy</td>\n",
       "      <td>colectomy with ileostomy</td>\n",
       "      <td>ileocolonic</td>\n",
       "      <td>cd</td>\n",
       "      <td>100140</td>\n",
       "    </tr>\n",
       "    <tr>\n",
       "      <th>11546.stool.100140.6month</th>\n",
       "      <td>colectomy</td>\n",
       "      <td>colectomy with ileostomy</td>\n",
       "      <td>ileocolonic</td>\n",
       "      <td>cd</td>\n",
       "      <td>100140</td>\n",
       "    </tr>\n",
       "    <tr>\n",
       "      <th>11546.stool.100140.baseline</th>\n",
       "      <td>colectomy</td>\n",
       "      <td>colectomy with ileostomy</td>\n",
       "      <td>ileocolonic</td>\n",
       "      <td>cd</td>\n",
       "      <td>100140</td>\n",
       "    </tr>\n",
       "    <tr>\n",
       "      <th>11546.stool.100174.baseline</th>\n",
       "      <td>colectomy</td>\n",
       "      <td>colectomy with ileostomy</td>\n",
       "      <td>ileocolonic</td>\n",
       "      <td>cd</td>\n",
       "      <td>100174</td>\n",
       "    </tr>\n",
       "  </tbody>\n",
       "</table>\n",
       "</div>"
      ],
      "text/plain": [
       "                            surgery_type           surgery_subtype  \\\n",
       "sample_name                                                          \n",
       "11546.stool.100074.12month     colectomy  colectomy with ileostomy   \n",
       "11546.stool.100074.6month      colectomy  colectomy with ileostomy   \n",
       "11546.stool.100074.baseline    colectomy  colectomy with ileostomy   \n",
       "11546.stool.100127.6month      colectomy  colectomy with ileostomy   \n",
       "11546.stool.100127.baseline    colectomy  colectomy with ileostomy   \n",
       "11546.stool.100140.18month     colectomy  colectomy with ileostomy   \n",
       "11546.stool.100140.6month      colectomy  colectomy with ileostomy   \n",
       "11546.stool.100140.baseline    colectomy  colectomy with ileostomy   \n",
       "11546.stool.100174.baseline    colectomy  colectomy with ileostomy   \n",
       "\n",
       "                            disease_subtype disease host_subject_id  \n",
       "sample_name                                                          \n",
       "11546.stool.100074.12month      ileocolonic      cd          100074  \n",
       "11546.stool.100074.6month       ileocolonic      cd          100074  \n",
       "11546.stool.100074.baseline     ileocolonic      cd          100074  \n",
       "11546.stool.100127.6month             ileal      cd          100127  \n",
       "11546.stool.100127.baseline           ileal      cd          100127  \n",
       "11546.stool.100140.18month      ileocolonic      cd          100140  \n",
       "11546.stool.100140.6month       ileocolonic      cd          100140  \n",
       "11546.stool.100140.baseline     ileocolonic      cd          100140  \n",
       "11546.stool.100174.baseline     ileocolonic      cd          100174  "
      ]
     },
     "execution_count": 17,
     "metadata": {},
     "output_type": "execute_result"
    }
   ],
   "source": [
    "mf[mf.host_subject_id.isin(['100074', '100127', '100140', '100174'])][['surgery_type', 'surgery_subtype', 'disease_subtype', 'disease', 'host_subject_id']]"
   ]
  },
  {
   "cell_type": "markdown",
   "metadata": {},
   "source": [
    "Validate"
   ]
  },
  {
   "cell_type": "code",
   "execution_count": 18,
   "metadata": {},
   "outputs": [
    {
     "data": {
      "text/plain": [
       "disease         surgery_type     \n",
       "cd              none                 114\n",
       "                ileocolonic           51\n",
       "                colectomy             38\n",
       "                partial_colectomy      5\n",
       "missing         missing                2\n",
       "not applicable  not applicable       125\n",
       "uc              none                 130\n",
       "                colectomy             14\n",
       "Name: surgery_type, dtype: int64"
      ]
     },
     "execution_count": 18,
     "metadata": {},
     "output_type": "execute_result"
    }
   ],
   "source": [
    "mf.groupby('disease').surgery_type.value_counts()"
   ]
  },
  {
   "cell_type": "code",
   "execution_count": 19,
   "metadata": {},
   "outputs": [
    {
     "data": {
      "text/plain": [
       "disease         surgery_type     \n",
       "cd              none                 114\n",
       "                ileocolonic           51\n",
       "                colectomy             38\n",
       "                partial_colectomy      5\n",
       "missing         missing                2\n",
       "not applicable  not applicable       125\n",
       "uc              none                 130\n",
       "                colectomy             14\n",
       "Name: surgery_type, dtype: int64"
      ]
     },
     "execution_count": 19,
     "metadata": {},
     "output_type": "execute_result"
    }
   ],
   "source": [
    "mf.groupby('disease').surgery_type.value_counts()"
   ]
  },
  {
   "cell_type": "markdown",
   "metadata": {},
   "source": [
    "# Comparisons we need to make "
   ]
  },
  {
   "cell_type": "markdown",
   "metadata": {},
   "source": [
    "- UC no surgery vs CD no surgery\n",
    "\n",
    "- UC vs CD (all)\n",
    "\n",
    "- UC:\n",
    "    - no surgery vs colectomy with pouch\n",
    "    - no surgery vs colectomy with pouchitis\n",
    "    - no surgery vs colectomy with cd pouch (this info is in disease subtype)\n",
    "    \n",
    "- CD:    \n",
    "    - no surgery vs ileocolonic\n",
    "    - no surgery vs colectomy\n",
    "    - no surgery vs colectomy ileorectal\n",
    "    - no surgery vs colectomy ileostomy"
   ]
  },
  {
   "cell_type": "code",
   "execution_count": 20,
   "metadata": {},
   "outputs": [],
   "source": [
    "update_cols = ['surgery_type', 'surgery_subtype', 'disease_subtype', 'host_subject_id']"
   ]
  },
  {
   "cell_type": "code",
   "execution_count": 22,
   "metadata": {},
   "outputs": [],
   "source": [
    "mf[update_cols].to_csv('../../old-files/qiita-files/qiita-updates-post-draft.2.tsv', sep='\\t')"
   ]
  },
  {
   "cell_type": "code",
   "execution_count": 2,
   "metadata": {},
   "outputs": [],
   "source": [
    "mf = load_mf('data/11546_20190819-143944.txt', 'sample_name')"
   ]
  },
  {
   "cell_type": "markdown",
   "metadata": {},
   "source": [
    "UC:\n",
    "post surgery (will include additional CD patients who developed CD of the\n",
    "pouch)\n",
    "\n",
    "   1. colectomy with pouch — 10 patients (column AC = yes)\n",
    "      1. subsequent normal pouch (100119, 100125)\n",
    "      2. pouchitis (100029, 1*00191, 100064*)\n",
    "      3. UC with subsequent development of CD (*100023, 100031, 100013,\n",
    "      100122, 100067)*—\n",
    "   2. *colectomy with end ileostomy—> none*\n",
    "   3. Control: UC without surgery\n",
    "\n",
    "\n",
    "CD\n",
    "post surgery\n",
    "\n",
    "   1. ileocolonic resection (within pt with CD ileoclonic + partial\n",
    "   colectomy: 100038, 100176)\n",
    "   2. ileorectal anastomosis (100060, 100144, 100054)\n",
    "   3. end ileostomy (CD + colectomy without pouch: 100140,100174, 100074,\n",
    "   100127) --> this would be the Crohn's disease with colectomy no pouch\n",
    "   4. control: CD without surgery\n",
    "   "
   ]
  },
  {
   "cell_type": "markdown",
   "metadata": {},
   "source": [
    "We have a series of comparisons that need to be made and these can't be based on any of the metadata categories because the data is encoded in a complicated manner. The easeiest is to have the following two categories. The first one reflects the disease for analysis, and the second one the way that samples are tagged within that disease status."
   ]
  },
  {
   "cell_type": "code",
   "execution_count": 88,
   "metadata": {},
   "outputs": [],
   "source": [
    "mf['category_1'] = mf['disease']\n",
    "mf['category_2'] = 'TBD'\n",
    "mf['category_3'] = 'TBD'"
   ]
  },
  {
   "cell_type": "markdown",
   "metadata": {},
   "source": [
    "## UC"
   ]
  },
  {
   "cell_type": "code",
   "execution_count": 89,
   "metadata": {},
   "outputs": [],
   "source": [
    "subset = ['100119', '100125', '100029', '100191', '100064', '100023', '100031', '100013', '100122', '100067']\n",
    "\n",
    "mf.loc[mf.host_subject_id.isin(subset), 'category_2'] = 'Colectomy with pouch'\n",
    "\n",
    "subset = ['100119', '100125']\n",
    "mf.loc[mf.host_subject_id.isin(subset), 'category_3'] = 'Subsequent normal pouch'\n",
    "\n",
    "subset = ['100029', '100191', '100064']\n",
    "mf.loc[mf.host_subject_id.isin(subset), 'category_3'] = 'Pouchitis'\n",
    "\n",
    "subset = ['100023', '100031', '100013', '100122', '100067']\n",
    "# these need to be marked as UC for the analysis as they developed that later down the road\n",
    "mf.loc[mf.host_subject_id.isin(subset), 'category_1'] = 'uc'\n",
    "mf.loc[mf.host_subject_id.isin(subset), 'category_3'] = 'Subsequent dev of CD'"
   ]
  },
  {
   "cell_type": "markdown",
   "metadata": {},
   "source": [
    "Subjects that don't have surgery and have UC are controls."
   ]
  },
  {
   "cell_type": "code",
   "execution_count": 90,
   "metadata": {},
   "outputs": [],
   "source": [
    "mf.loc[mf.query(\"disease == 'uc' and has_surgery == 'n'\").index, 'category_2'] = 'Control'\n",
    "mf.loc[mf.query(\"disease == 'uc' and has_surgery == 'n'\").index, 'category_3'] = 'Control'"
   ]
  },
  {
   "cell_type": "markdown",
   "metadata": {},
   "source": [
    "## CD"
   ]
  },
  {
   "cell_type": "markdown",
   "metadata": {},
   "source": [
    "There are only three subjects with ileorectal anastomosis."
   ]
  },
  {
   "cell_type": "code",
   "execution_count": 91,
   "metadata": {},
   "outputs": [],
   "source": [
    "subset = ['100060', '100144', '100054']\n",
    "mf.loc[mf.host_subject_id.isin(subset), 'category_2'] = 'Ileorectal anastomosis'\n",
    "mf.loc[mf.host_subject_id.isin(subset), 'category_3'] = 'Ileorectal anastomosis'"
   ]
  },
  {
   "cell_type": "markdown",
   "metadata": {},
   "source": [
    "The following subjects all don't have a pouch"
   ]
  },
  {
   "cell_type": "code",
   "execution_count": 92,
   "metadata": {},
   "outputs": [],
   "source": [
    "subset = ['100140', '100174', '100074', '100127', '100129']\n",
    "mf.loc[mf.host_subject_id.isin(subset), 'category_2'] = 'End ileostomy'\n",
    "mf.loc[mf.host_subject_id.isin(subset), 'category_3'] = 'End ileostomy'"
   ]
  },
  {
   "cell_type": "markdown",
   "metadata": {},
   "source": [
    "Subjects with CD and without surgery are controls:"
   ]
  },
  {
   "cell_type": "code",
   "execution_count": 93,
   "metadata": {},
   "outputs": [],
   "source": [
    "mf.loc[mf.query(\"disease == 'cd' and has_surgery == 'n'\").index, 'category_2'] = 'Control'\n",
    "mf.loc[mf.query(\"disease == 'cd' and has_surgery == 'n'\").index, 'category_3'] = 'Control'"
   ]
  },
  {
   "cell_type": "markdown",
   "metadata": {},
   "source": [
    "Lastly all the other subjects that have surgery, have CD and are not the previous ones should be labeled as \"ileocolonic resection\". These comprise the ileocolonic surgery with partial colectomy."
   ]
  },
  {
   "cell_type": "code",
   "execution_count": 94,
   "metadata": {},
   "outputs": [
    {
     "data": {
      "text/plain": [
       "ileocolonic          51\n",
       "partial_colectomy     5\n",
       "none                  3\n",
       "Name: surgery_type, dtype: int64"
      ]
     },
     "execution_count": 94,
     "metadata": {},
     "output_type": "execute_result"
    }
   ],
   "source": [
    "subset = ['100060', '100144', '100054', '100140', '100174', '100074', '100127', '100129']\n",
    "mf.query('category_1 == \"cd\" and has_surgery == \"y\" and host_subject_id not in (%s)' % str(subset)[1:-1]).surgery_type.value_counts()"
   ]
  },
  {
   "cell_type": "markdown",
   "metadata": {},
   "source": [
    "Note subject 100105 is coming into this category, even though the surgery type says none."
   ]
  },
  {
   "cell_type": "code",
   "execution_count": 95,
   "metadata": {},
   "outputs": [],
   "source": [
    "subset = ['100060', '100144', '100054', '100140', '100174', '100074', '100127', '100129']\n",
    "samples = mf.query('category_1 == \"cd\" and has_surgery == \"y\" and host_subject_id not in (%s)' % str(subset)[1:-1]).index\n",
    "\n",
    "mf.loc[samples, 'category_2'] = 'Ileocolonic resection'\n",
    "mf.loc[samples, 'category_3'] = 'Ileocolonic resection'\n",
    "mf.loc[mf.host_subject_id.isin(['100038', '100176']), 'category_3'] = 'Partial colectomy'"
   ]
  },
  {
   "cell_type": "code",
   "execution_count": 96,
   "metadata": {},
   "outputs": [
    {
     "data": {
      "text/plain": [
       "category_1      category_2              category_3               has_surgery   \n",
       "cd              Control                 Control                  n                 111\n",
       "                End ileostomy           End ileostomy            y                  11\n",
       "                Ileocolonic resection   Ileocolonic resection    y                  54\n",
       "                                        Partial colectomy        y                   5\n",
       "                Ileorectal anastomosis  Ileorectal anastomosis   y                   9\n",
       "missing         TBD                     TBD                      missing             2\n",
       "not applicable  TBD                     TBD                      not applicable    125\n",
       "uc              Colectomy with pouch    Pouchitis                y                  12\n",
       "                                        Subsequent dev of CD     y                  18\n",
       "                                        Subsequent normal pouch  y                   2\n",
       "                Control                 Control                  n                 130\n",
       "Name: has_surgery, dtype: int64"
      ]
     },
     "execution_count": 96,
     "metadata": {},
     "output_type": "execute_result"
    }
   ],
   "source": [
    "mf.groupby(['category_1', 'category_2', 'category_3']).host_subject_id.value_counts()"
   ]
  },
  {
   "cell_type": "code",
   "execution_count": 98,
   "metadata": {},
   "outputs": [
    {
     "data": {
      "text/plain": [
       "category_1      category_2              category_3             \n",
       "cd              Control                 Control                     46\n",
       "                End ileostomy           End ileostomy                5\n",
       "                Ileocolonic resection   Ileocolonic resection       21\n",
       "                                        Partial colectomy            2\n",
       "                Ileorectal anastomosis  Ileorectal anastomosis       3\n",
       "missing         TBD                     TBD                          1\n",
       "not applicable  TBD                     TBD                        125\n",
       "uc              Colectomy with pouch    Pouchitis                    3\n",
       "                                        Subsequent dev of CD         5\n",
       "                                        Subsequent normal pouch      2\n",
       "                Control                 Control                     45\n",
       "Name: host_subject_id, dtype: int64"
      ]
     },
     "execution_count": 98,
     "metadata": {},
     "output_type": "execute_result"
    }
   ],
   "source": [
    "mf.groupby(['category_1', 'category_2', 'category_3']).host_subject_id.nunique()"
   ]
  },
  {
   "cell_type": "code",
   "execution_count": 97,
   "metadata": {},
   "outputs": [],
   "source": [
    "mf.to_csv('data/new-categories.1.tsv', sep='\\t')"
   ]
  }
 ],
 "metadata": {
  "kernelspec": {
   "display_name": "Python 3",
   "language": "python",
   "name": "python3"
  },
  "language_info": {
   "codemirror_mode": {
    "name": "ipython",
    "version": 3
   },
   "file_extension": ".py",
   "mimetype": "text/x-python",
   "name": "python",
   "nbconvert_exporter": "python",
   "pygments_lexer": "ipython3",
   "version": "3.6.7"
  }
 },
 "nbformat": 4,
 "nbformat_minor": 2
}
