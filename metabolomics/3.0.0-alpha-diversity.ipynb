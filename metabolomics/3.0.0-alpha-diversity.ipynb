{
 "cells": [
  {
   "cell_type": "code",
   "execution_count": 2,
   "metadata": {},
   "outputs": [],
   "source": [
    "%matplotlib inline\n",
    "import pandas as pd, numpy as np, seaborn as sns, matplotlib.pyplot as plt, qiime2 as q2\n",
    "from biom import load_table, Table\n",
    "from biom.util import biom_open\n",
    "from skbio import OrdinationResults\n",
    "from emperor import Emperor, nbinstall; nbinstall()\n",
    "plt.rcParams['svg.fonttype'] = 'none'\n",
    "\n",
    "def load_mf(fn, index='#SampleID'):\n",
    "    _df = pd.read_csv(fn, sep='\\t', dtype='str', na_values=[], keep_default_na=False)\n",
    "    _df.set_index(index, inplace=True)\n",
    "    return _df"
   ]
  },
  {
   "cell_type": "code",
   "execution_count": 3,
   "metadata": {},
   "outputs": [],
   "source": [
    "mf = load_mf('data/11546_20190118-122918.txt', 'sample_name')"
   ]
  },
  {
   "cell_type": "code",
   "execution_count": 4,
   "metadata": {},
   "outputs": [],
   "source": [
    "table = q2.Artifact.load('data/feature-table.qza')\n",
    "ms = table.view(Table)"
   ]
  },
  {
   "cell_type": "markdown",
   "metadata": {},
   "source": [
    "Let's look at the distribution of counts per sample. 40K samples looks like a good value, note that samples with small counts are blanks."
   ]
  },
  {
   "cell_type": "code",
   "execution_count": 5,
   "metadata": {
    "scrolled": true
   },
   "outputs": [
    {
     "data": {
      "text/plain": [
       "<matplotlib.lines.Line2D at 0x123592e48>"
      ]
     },
     "execution_count": 5,
     "metadata": {},
     "output_type": "execute_result"
    },
    {
     "data": {
      "image/png": "[encoded data removed]",
      "text/plain": [
       "<Figure size 432x288 with 1 Axes>"
      ]
     },
     "metadata": {
      "needs_background": "light"
     },
     "output_type": "display_data"
    }
   ],
   "source": [
    "pd.Series(ms.filter(mf.index.intersection(ms.ids()), inplace=False).sum('sample')).hist(bins=40)\n",
    "plt.gca().set_xscale('log')\n",
    "plt.axvline(x=4000000, color='g')"
   ]
  },
  {
   "cell_type": "markdown",
   "metadata": {},
   "source": [
    "Filter to keep only blanks and samples with more than 40K counts."
   ]
  },
  {
   "cell_type": "code",
   "execution_count": 6,
   "metadata": {},
   "outputs": [
    {
     "name": "stdout",
     "output_type": "stream",
     "text": [
      "\u001b[32mSaved SampleData[AlphaDiversity] to: shannon.qza\u001b[0m\r\n"
     ]
    }
   ],
   "source": [
    "!qiime diversity alpha \\\n",
    "--i-table data/feature-table.noblanks.40k.qza \\\n",
    "--p-metric shannon \\\n",
    "--o-alpha-diversity shannon.qza"
   ]
  },
  {
   "cell_type": "code",
   "execution_count": 6,
   "metadata": {},
   "outputs": [],
   "source": [
    "mf['shannon'] = q2.Artifact.load('shannon.qza').view(pd.Series)"
   ]
  },
  {
   "cell_type": "code",
   "execution_count": 7,
   "metadata": {},
   "outputs": [],
   "source": [
    "mf.surgery_type.replace({\n",
    "    'none': 'n',\n",
    "    'partial_colectomy': 'colectomy'\n",
    "}, inplace=True)"
   ]
  },
  {
   "cell_type": "code",
   "execution_count": 8,
   "metadata": {},
   "outputs": [],
   "source": [
    "mf['complications'] = mf.crohns_disease_behavior.isin(['stricturing', 'fistulizing'])"
   ]
  },
  {
   "cell_type": "code",
   "execution_count": 9,
   "metadata": {},
   "outputs": [],
   "source": [
    "mf = mf.query('empo_1 == \"Host-associated\"').copy()"
   ]
  },
  {
   "cell_type": "markdown",
   "metadata": {},
   "source": [
    "Verify the numbers of samples per group "
   ]
  },
  {
   "cell_type": "code",
   "execution_count": 10,
   "metadata": {},
   "outputs": [
    {
     "data": {
      "text/plain": [
       "complications  surgery_type\n",
       "False          No surgery      223\n",
       "               Colectomy        42\n",
       "               Ileocolonic      21\n",
       "True           Ileocolonic      30\n",
       "               No surgery       21\n",
       "               Colectomy        15\n",
       "Name: surgery_type, dtype: int64"
      ]
     },
     "execution_count": 10,
     "metadata": {},
     "output_type": "execute_result"
    }
   ],
   "source": [
    "repl = {'surgery_type': {\n",
    "    'ileocolonic': 'Ileocolonic',\n",
    "    'n': 'No surgery',\n",
    "    'colectomy': 'Colectomy'\n",
    "}}\n",
    "mf.replace(repl).groupby('complications').surgery_type.value_counts()"
   ]
  },
  {
   "cell_type": "code",
   "execution_count": 13,
   "metadata": {},
   "outputs": [
    {
     "data": {
      "image/png": "[encoded data removed]",
      "text/plain": [
       "<Figure size 648x432 with 1 Axes>"
      ]
     },
     "metadata": {
      "needs_background": "light"
     },
     "output_type": "display_data"
    }
   ],
   "source": [
    "colors = {\n",
    "    'Ileocolonic': '#fc8d62',\n",
    "    'Colectomy': '#8da0cb',\n",
    "    'No surgery': '#66c2a5',\n",
    "}\n",
    "\n",
    "repl = {'surgery_type': {\n",
    "    'ileocolonic': 'Ileocolonic',\n",
    "    'n': 'No surgery',\n",
    "    'colectomy': 'Colectomy'\n",
    "}}\n",
    "fig, ax = plt.subplots(figsize=(9, 6))\n",
    "\n",
    "sns.boxplot(x='surgery_type', y='shannon',\n",
    "            data=mf.replace(repl), ax=ax,\n",
    "            order=['No surgery', 'Ileocolonic', 'Colectomy'],\n",
    "            palette=colors\n",
    "           )\n",
    "\n",
    "# for i, name in enumerate(['n', 'ileocolonic', 'colectomy']):\n",
    "#     i = i * 2\n",
    "#     ax.artists[i].set_color(colors[name])\n",
    "#     ax.artists[i + 1].set_facecolor('white')\n",
    "#     ax.artists[i + 1].set_edgecolor(colors[name])\n",
    "\n",
    "# ax.get_legend().set_visible(False)\n",
    "\n",
    "fig.savefig('shannon.complications.pdf', transparent=True)"
   ]
  },
  {
   "cell_type": "code",
   "execution_count": null,
   "metadata": {},
   "outputs": [],
   "source": []
  }
 ],
 "metadata": {
  "kernelspec": {
   "display_name": "Python 3",
   "language": "python",
   "name": "python3"
  },
  "language_info": {
   "codemirror_mode": {
    "name": "ipython",
    "version": 3
   },
   "file_extension": ".py",
   "mimetype": "text/x-python",
   "name": "python",
   "nbconvert_exporter": "python",
   "pygments_lexer": "ipython3",
   "version": "3.6.7"
  }
 },
 "nbformat": 4,
 "nbformat_minor": 2
}
