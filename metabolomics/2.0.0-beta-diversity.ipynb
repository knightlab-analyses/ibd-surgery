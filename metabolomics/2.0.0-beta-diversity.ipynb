{
 "cells": [
  {
   "cell_type": "code",
   "execution_count": 6,
   "metadata": {},
   "outputs": [],
   "source": [
    "%matplotlib inline\n",
    "import pandas as pd, numpy as np, seaborn as sns, matplotlib.pyplot as plt, qiime2 as q2\n",
    "from biom import load_table, Table\n",
    "from biom.util import biom_open\n",
    "from skbio import OrdinationResults\n",
    "from emperor import Emperor, nbinstall; nbinstall()\n",
    "plt.rcParams['svg.fonttype'] = 'none'\n",
    "\n",
    "def load_mf(fn, index='#SampleID'):\n",
    "    _df = pd.read_csv(fn, sep='\\t', dtype='str', na_values=[], keep_default_na=False)\n",
    "    _df.set_index(index, inplace=True)\n",
    "    return _df"
   ]
  },
  {
   "cell_type": "code",
   "execution_count": 7,
   "metadata": {},
   "outputs": [],
   "source": [
    "mf = load_mf('data/11546_20190118-122918.txt', 'sample_name')"
   ]
  },
  {
   "cell_type": "code",
   "execution_count": 8,
   "metadata": {},
   "outputs": [],
   "source": [
    "table = q2.Artifact.load('data/feature-table.qza')\n",
    "ms = table.view(Table)"
   ]
  },
  {
   "cell_type": "markdown",
   "metadata": {},
   "source": [
    "Let's look at the distribution of counts per sample. 40K samples looks like a good value, note that samples with small counts are blanks."
   ]
  },
  {
   "cell_type": "code",
   "execution_count": 9,
   "metadata": {
    "scrolled": true
   },
   "outputs": [
    {
     "data": {
      "text/plain": [
       "<matplotlib.lines.Line2D at 0x1a3ac0ada0>"
      ]
     },
     "execution_count": 9,
     "metadata": {},
     "output_type": "execute_result"
    },
    {
     "data": {
      "image/png": "[encoded data removed]",
      "text/plain": [
       "<Figure size 432x288 with 1 Axes>"
      ]
     },
     "metadata": {
      "needs_background": "light"
     },
     "output_type": "display_data"
    }
   ],
   "source": [
    "pd.Series(ms.filter(mf.index.intersection(ms.ids()), inplace=False).sum('sample')).hist(bins=40)\n",
    "plt.gca().set_xscale('log')\n",
    "plt.axvline(x=4000000, color='g')"
   ]
  },
  {
   "cell_type": "markdown",
   "metadata": {},
   "source": [
    "Filter to keep only blanks and samples with more than 40K counts."
   ]
  },
  {
   "cell_type": "code",
   "execution_count": 11,
   "metadata": {},
   "outputs": [
    {
     "name": "stdout",
     "output_type": "stream",
     "text": [
      "\u001b[32mSaved FeatureTable[Frequency] to: data/feature-table.noblanks.40k.qza\u001b[0m\r\n"
     ]
    }
   ],
   "source": [
    "!qiime feature-table filter-samples \\\n",
    "--i-table data/feature-table.qza \\\n",
    "--m-metadata-file data/11546_20190118-122918.txt \\\n",
    "--p-where \"empo_1 == 'Host-associated'\" \\\n",
    "--p-min-frequency 40000 \\\n",
    "--o-filtered-table data/feature-table.noblanks.40k.qza "
   ]
  },
  {
   "cell_type": "code",
   "execution_count": 3,
   "metadata": {},
   "outputs": [
    {
     "name": "stdout",
     "output_type": "stream",
     "text": [
      "\u001b[32mSaved FeatureTable[Frequency] to: data/feature-table.noblanks.even40k.qza\u001b[0m\r\n"
     ]
    }
   ],
   "source": [
    "!qiime feature-table rarefy \\\n",
    "--i-table data/feature-table.noblanks.40k.qza \\\n",
    "--p-sampling-depth 40000 \\\n",
    "--p-with-replacement \\\n",
    "--o-rarefied-table data/feature-table.noblanks.even40k.qza"
   ]
  },
  {
   "cell_type": "code",
   "execution_count": 4,
   "metadata": {},
   "outputs": [
    {
     "name": "stdout",
     "output_type": "stream",
     "text": [
      "\u001b[32mSaved DistanceMatrix to: braycurtis.qza\u001b[0m\r\n"
     ]
    }
   ],
   "source": [
    "!qiime diversity beta --p-metric braycurtis \\\n",
    "--o-distance-matrix braycurtis.qza \\\n",
    "--i-table data/feature-table.noblanks.even40k.qza"
   ]
  },
  {
   "cell_type": "code",
   "execution_count": 5,
   "metadata": {},
   "outputs": [
    {
     "name": "stdout",
     "output_type": "stream",
     "text": [
      "\u001b[32mSaved PCoAResults to: braycurtis.pcoa.qza\u001b[0m\r\n"
     ]
    }
   ],
   "source": [
    "!qiime diversity pcoa --i-distance-matrix braycurtis.qza \\\n",
    "--o-pcoa braycurtis.pcoa.qza"
   ]
  },
  {
   "cell_type": "code",
   "execution_count": 10,
   "metadata": {},
   "outputs": [],
   "source": [
    "bc_pc = q2.Artifact.load('braycurtis.pcoa.qza').view(OrdinationResults)"
   ]
  },
  {
   "cell_type": "code",
   "execution_count": 11,
   "metadata": {},
   "outputs": [
    {
     "data": {
      "text/plain": [
       "none                 244\n",
       "not applicable       125\n",
       "colectomy             52\n",
       "ileocolonic           51\n",
       "partial_colectomy      5\n",
       "missing                2\n",
       "Name: surgery_type, dtype: int64"
      ]
     },
     "execution_count": 11,
     "metadata": {},
     "output_type": "execute_result"
    }
   ],
   "source": [
    "mf.surgery_type.value_counts()"
   ]
  },
  {
   "cell_type": "code",
   "execution_count": 12,
   "metadata": {},
   "outputs": [],
   "source": [
    "mf.surgery_type.replace({\n",
    "    'none': 'n',\n",
    "    'partial_colectomy': 'colectomy'\n",
    "}, inplace=True)"
   ]
  },
  {
   "cell_type": "code",
   "execution_count": 14,
   "metadata": {},
   "outputs": [
    {
     "data": {
      "text/plain": [
       "0    0.151598\n",
       "1    0.118849\n",
       "2    0.081316\n",
       "dtype: float64"
      ]
     },
     "execution_count": 14,
     "metadata": {},
     "output_type": "execute_result"
    }
   ],
   "source": [
    "bc_pc.proportion_explained[:3]"
   ]
  },
  {
   "cell_type": "code",
   "execution_count": 15,
   "metadata": {},
   "outputs": [
    {
     "data": {
      "image/png": "[encoded data removed]",
      "text/plain": [
       "<Figure size 360x360 with 1 Axes>"
      ]
     },
     "metadata": {},
     "output_type": "display_data"
    }
   ],
   "source": [
    "mf['PC 1 (15.16 %)'] = bc_pc.samples[0]\n",
    "mf['PC 2 (11.88 %)'] = bc_pc.samples[1]\n",
    "\n",
    "colors = {\n",
    "    'ileocolonic': '#fc8d62',\n",
    "    'colectomy': '#8da0cb',\n",
    "    'none': '#66c2a5',\n",
    "    'n': '#66c2a5',\n",
    "    'y': '#e78ac3',\n",
    "}\n",
    "\n",
    "fig, ax = plt.subplots()\n",
    "fig.set_size_inches(5,5)\n",
    "for cat, _data in mf.loc[mf.index.intersection(bc_pc.samples.index)].groupby('surgery_type'):\n",
    "    ax.scatter(x='PC 1 (15.16 %)', y='PC 2 (11.88 %)', data=_data, c=colors[cat], label=cat)\n",
    "    ax.set_xlabel('PC 1 (15.16 %)')\n",
    "    ax.set_ylabel('PC 2 (11.88 %)')\n",
    "\n",
    "ax.set_aspect('equal')\n",
    "plt.xticks([],[])\n",
    "plt.yticks([],[])\n",
    "\n",
    "ax.legend().set_visible(False)\n",
    "\n",
    "fig.savefig('bray-curtis.pdf', transparent=True)"
   ]
  },
  {
   "cell_type": "code",
   "execution_count": null,
   "metadata": {},
   "outputs": [],
   "source": []
  }
 ],
 "metadata": {
  "kernelspec": {
   "display_name": "Python 3",
   "language": "python",
   "name": "python3"
  },
  "language_info": {
   "codemirror_mode": {
    "name": "ipython",
    "version": 3
   },
   "file_extension": ".py",
   "mimetype": "text/x-python",
   "name": "python",
   "nbconvert_exporter": "python",
   "pygments_lexer": "ipython3",
   "version": "3.6.7"
  }
 },
 "nbformat": 4,
 "nbformat_minor": 2
}
